{
 "cells": [
  {
   "cell_type": "markdown",
   "metadata": {},
   "source": [
    "# Unsupervised Learning "
   ]
  },
  {
   "cell_type": "markdown",
   "metadata": {},
   "source": [
    "As the name suggests unsupervised learning, contrary to supervised learning, can find patterns in *unlabelled* data. Again, here we try to cover some of the more commonly used unsupervised learning technqies:\n",
    "- [Dimension Reduction](#dim_reduction)\n",
    "- [Clustering](#clustering)\n",
    "- [Anomaly Detection](#anomaly)"
   ]
  },
  {
   "cell_type": "code",
   "execution_count": 17,
   "metadata": {
    "collapsed": true
   },
   "outputs": [],
   "source": [
    "import numpy as np\n",
    "import matplotlib\n",
    "# import seaborn as sns\n",
    "\n",
    "from sklearn import datasets, model_selection\n",
    "\n",
    "from matplotlib import pyplot as plt"
   ]
  },
  {
   "cell_type": "code",
   "execution_count": null,
   "metadata": {
    "collapsed": true
   },
   "outputs": [],
   "source": [
    "# This is just a handy plotting function for later\n",
    "from matplotlib.colors import ListedColormap\n",
    "\n",
    "def visualise_decision_surface(X, y, clf):\n",
    "\n",
    "    Z = clf.fit_predict(X)\n",
    "    \n",
    "    plt.scatter(X[:, 0], X[:, 1], c=Z)\n",
    "    plt.show()"
   ]
  },
  {
   "cell_type": "markdown",
   "metadata": {},
   "source": [
    "## Dimension Reduction <a id='dim_reduction'></a>"
   ]
  },
  {
   "cell_type": "markdown",
   "metadata": {},
   "source": [
    "One of the simplest unsupervised learning techniques to understand is that of dimension reduction. There are many different ways to reduce the dimensionality of your problem but the reasons for it are straight forward. As your feature vector grows in length it becomes more and more computationally expensive to process. By applying dimension reduction you may be able to obtain similar performance as that of the whole vector but with a fraction of the compute time and power.\n",
    "\n",
    "Another benefit of dimension reduction is it's ability to reduce some noise. Sometimes your feature vector may contain some redundant features, or information that doesn't contribute very much to the problem you are trying to solve. By applying dimension reduction you may be able to smooth away some of the noise introduced by these redundant features. In this case applying dimension reduction may actually improve the perfomance of your algorithm.\n",
    "\n",
    "Finally one of the simplest reasons you may need to use dimension reduction is for visualisation. When you start working with feature vectors that are longer than 3 dimensions you very quickly begin to lose any intuition. By reducing the number of dimensions of your dataset down to something that you can easily plot, you might be able to get a feel for how points are distributed in the higher dimensional space."
   ]
  },
  {
   "cell_type": "markdown",
   "metadata": {},
   "source": [
    "### Principle Component Analysis"
   ]
  },
  {
   "cell_type": "markdown",
   "metadata": {},
   "source": [
    "Everyones favourite dimension reduction algorithm, Principle Component Analysis or PCA, is a dimension reduction technique that aims to preserve variance in the dataset. In general terms PCA essentially finds the eigen vectors that correspond to the $n$ largest eigen values of the dataset, as these \"components\" contribute most to the overall variance of the dataset, and projects the dataset into that eigen space."
   ]
  },
  {
   "cell_type": "code",
   "execution_count": 1,
   "metadata": {
    "collapsed": false
   },
   "outputs": [
    {
     "name": "stderr",
     "output_type": "stream",
     "text": [
      "Vendor:  Continuum Analytics, Inc.\n",
      "Package: mkl\n",
      "Message: trial mode expires in 30 days\n"
     ]
    }
   ],
   "source": [
    "from sklearn.decomposition import PCA\n",
    "\n",
    "NUMBER_OF_NUMBERS = 5"
   ]
  },
  {
   "cell_type": "code",
   "execution_count": 2,
   "metadata": {
    "collapsed": false
   },
   "outputs": [
    {
     "ename": "NameError",
     "evalue": "name 'datasets' is not defined",
     "output_type": "error",
     "traceback": [
      "\u001b[0;31m---------------------------------------------------------------------------\u001b[0m",
      "\u001b[0;31mNameError\u001b[0m                                 Traceback (most recent call last)",
      "\u001b[0;32m<ipython-input-2-3de2c2c160ae>\u001b[0m in \u001b[0;36m<module>\u001b[0;34m()\u001b[0m\n\u001b[0;32m----> 1\u001b[0;31m \u001b[0mmnist\u001b[0m \u001b[0;34m=\u001b[0m \u001b[0mdatasets\u001b[0m\u001b[0;34m.\u001b[0m\u001b[0mload_digits\u001b[0m\u001b[0;34m(\u001b[0m\u001b[0;34m)\u001b[0m\u001b[0;34m\u001b[0m\u001b[0m\n\u001b[0m\u001b[1;32m      2\u001b[0m \u001b[0mX_mnist\u001b[0m \u001b[0;34m=\u001b[0m \u001b[0mmnist\u001b[0m\u001b[0;34m[\u001b[0m\u001b[0;34m\"data\"\u001b[0m\u001b[0;34m]\u001b[0m\u001b[0;34m\u001b[0m\u001b[0m\n\u001b[1;32m      3\u001b[0m \u001b[0my_mnist\u001b[0m \u001b[0;34m=\u001b[0m \u001b[0mmnist\u001b[0m\u001b[0;34m[\u001b[0m\u001b[0;34m\"target\"\u001b[0m\u001b[0;34m]\u001b[0m\u001b[0;34m\u001b[0m\u001b[0m\n\u001b[1;32m      4\u001b[0m \u001b[0mnumber_of_instances\u001b[0m \u001b[0;34m=\u001b[0m \u001b[0mlen\u001b[0m\u001b[0;34m(\u001b[0m\u001b[0mX\u001b[0m\u001b[0;34m)\u001b[0m\u001b[0;34m\u001b[0m\u001b[0m\n\u001b[1;32m      5\u001b[0m \u001b[0;34m\u001b[0m\u001b[0m\n",
      "\u001b[0;31mNameError\u001b[0m: name 'datasets' is not defined"
     ]
    }
   ],
   "source": [
    "# Load the MNIST hand drawn digits dataset\n",
    "# The sklearn version is reduced both in the number of instances\n",
    "# and the resolution of the image.\n",
    "mnist = datasets.load_digits()\n",
    "X_mnist = mnist[\"data\"]\n",
    "y_mnist = mnist[\"target\"]\n",
    "number_of_instances = len(X)\n",
    "\n",
    "# Plot a square array of sample digits for instpection\n",
    "f, axarr = plt.subplots(NUMBER_OF_NUMBERS, NUMBER_OF_NUMBERS)\n",
    "np.random.seed(12345) # Fix the seed so we can grab the same digits next\n",
    "for i in range(NUMBER_OF_NUMBERS):\n",
    "    for j in range(NUMBER_OF_NUMBERS):\n",
    "        digit = X_mnist[np.random.randint(0, number_of_instances+1)].reshape((8,8))\n",
    "        axarr[i, j].imshow(digit, cmap=matplotlib.cm.binary)\n",
    "\n",
    "plt.show()"
   ]
  },
  {
   "cell_type": "code",
   "execution_count": null,
   "metadata": {
    "collapsed": true
   },
   "outputs": [],
   "source": [
    "# Create PCA object with 9 components\n",
    "# NOTE: the number of components here does not need to be a \n",
    "# perfect square as the resulting dimensions no longer\n",
    "# directly correlate to pixel values\n",
    "pca = PCA(n_components=9)\n",
    "# Reduce the dimensionality of the MNIST digits\n",
    "X_mnist_reduced = pca.fit_transform(X_mnist)\n",
    "# Transform the digits back to there original resolution\n",
    "# This process is lossy and should illustrate the loss of information\n",
    "# in the images\n",
    "X_mnist_recovered = pca.inverse_transform(X_mnist_reduced)"
   ]
  },
  {
   "cell_type": "code",
   "execution_count": null,
   "metadata": {
    "collapsed": false
   },
   "outputs": [],
   "source": [
    "# Plot the reduced dimensionality digits to see the effect\n",
    "f, axarr = plt.subplots(NUMBER_OF_NUMBERS, NUMBER_OF_NUMBERS)\n",
    "np.random.seed(12345)\n",
    "for i in range(NUMBER_OF_NUMBERS):\n",
    "    for j in range(NUMBER_OF_NUMBERS):\n",
    "        digit = X_mnist_recovered[np.random.randint(0, number_of_instances+1)].reshape((8,8))\n",
    "        axarr[i, j].imshow(digit, cmap=matplotlib.cm.binary)\n",
    "\n",
    "plt.show()"
   ]
  },
  {
   "cell_type": "markdown",
   "metadata": {},
   "source": [
    "The first question that often gets asked by practitioners of PCA is how many components do I need? The easiest way to decide that is to plot the cumulative sum of the variance ratio as a function of $n$, the number of components. You will see that at some point you start to get diminishing returns for additional components."
   ]
  },
  {
   "cell_type": "code",
   "execution_count": null,
   "metadata": {
    "collapsed": false
   },
   "outputs": [],
   "source": [
    "# Choose the largest number of components possible\n",
    "# This will generate a cumulative sum for each number\n",
    "# of components less than that chosen\n",
    "pca = PCA(n_components=64)  # 64 is the max as that is the size of the input`\n",
    "pca.fit(X_mnist)\n",
    "cumsum = np.cumsum(pca.explained_variance_ratio_)\n",
    "    \n",
    "plt.plot(cumsum)\n",
    "plt.show()"
   ]
  },
  {
   "cell_type": "markdown",
   "metadata": {},
   "source": [
    "### Incremental Principle Component Analysis"
   ]
  },
  {
   "cell_type": "markdown",
   "metadata": {},
   "source": [
    "Incremental Principle Component Analysis (IPCA) is a technique for processing the dataset in mini batches rather than all at once. This would be an example of an \"online\" learning approach to the \"batch\" learning approach we just saw above. Have a play around with the number of batches and see how that effects the final result. Hopefully you will find that the closer the number of batches is to one, the closer the online approach is to the batch approach. You will just need to make sure that, mini_batch_size > n_components."
   ]
  },
  {
   "cell_type": "code",
   "execution_count": null,
   "metadata": {
    "collapsed": true
   },
   "outputs": [],
   "source": [
    "from sklearn.decomposition import IncrementalPCA"
   ]
  },
  {
   "cell_type": "code",
   "execution_count": null,
   "metadata": {
    "collapsed": false
   },
   "outputs": [],
   "source": [
    "n_batches = 25\n",
    "inc_pca = IncrementalPCA(n_components=64)\n",
    "for X_batch in np.array_split(X_mnist, n_batches):\n",
    "    inc_pca.partial_fit(X_batch)\n",
    "    \n",
    "inc_cumsum = np.cumsum(inc_pca.explained_variance_ratio_)\n",
    "plt.plot(inc_cumsum-cumsum)\n",
    "plt.show()"
   ]
  },
  {
   "cell_type": "markdown",
   "metadata": {},
   "source": [
    "### Kernel Principle Component Analysis"
   ]
  },
  {
   "cell_type": "markdown",
   "metadata": {},
   "source": [
    "Just like we saw in the SVM section of the supervised learning notebook, PCA can also have an embedded kernel. Here we have a look at three different kernel types for the swiss roll dataset. Can you see a difference between the projections? Is it obvious why these differences occur?"
   ]
  },
  {
   "cell_type": "code",
   "execution_count": 6,
   "metadata": {
    "collapsed": false
   },
   "outputs": [],
   "source": [
    "from sklearn.decomposition import KernelPCA\n",
    "\n",
    "from mpl_toolkits.mplot3d.axes3d import Axes3D"
   ]
  },
  {
   "cell_type": "code",
   "execution_count": 7,
   "metadata": {
    "collapsed": true
   },
   "outputs": [],
   "source": [
    "X, y = datasets.make_swiss_roll(n_samples=1000, noise=0.25)"
   ]
  },
  {
   "cell_type": "code",
   "execution_count": 8,
   "metadata": {
    "collapsed": false
   },
   "outputs": [
    {
     "data": {
      "text/plain": [
       "<matplotlib.figure.Figure at 0x116fd3940>"
      ]
     },
     "metadata": {},
     "output_type": "display_data"
    },
    {
     "data": {
      "image/png": "[encoded data removed]",
      "text/plain": [
       "<matplotlib.figure.Figure at 0x11a32a470>"
      ]
     },
     "metadata": {},
     "output_type": "display_data"
    }
   ],
   "source": [
    "fig = plt.figure()\n",
    "ax = Axes3D(fig) \n",
    "ax.scatter(X[:,0], X[:,1], X[:,2], c=y)\n",
    "plt.show()"
   ]
  },
  {
   "cell_type": "code",
   "execution_count": null,
   "metadata": {
    "collapsed": false
   },
   "outputs": [],
   "source": [
    "rbf_pca = KernelPCA(n_components=2, kernel=\"rbf\", gamma=0.04)\n",
    "X_reduced = rbf_pca.fit_transform(X)"
   ]
  },
  {
   "cell_type": "code",
   "execution_count": null,
   "metadata": {
    "collapsed": false
   },
   "outputs": [],
   "source": [
    "plt.scatter(X_reduced[:,0], X_reduced[:,1], c=y)\n",
    "plt.show()"
   ]
  },
  {
   "cell_type": "code",
   "execution_count": null,
   "metadata": {
    "collapsed": true
   },
   "outputs": [],
   "source": [
    "linear_pca = PCA(n_components=2)\n",
    "X_reduced_linear = linear_pca.fit_transform(X)"
   ]
  },
  {
   "cell_type": "code",
   "execution_count": null,
   "metadata": {
    "collapsed": false
   },
   "outputs": [],
   "source": [
    "plt.scatter(X_reduced_linear[:,0], X_reduced_linear[:,1], c=y)\n",
    "plt.show()"
   ]
  },
  {
   "cell_type": "code",
   "execution_count": null,
   "metadata": {
    "collapsed": false
   },
   "outputs": [],
   "source": [
    "sigmoid_pca = KernelPCA(n_components=2, kernel=\"sigmoid\", gamma=0.001)\n",
    "X_reduced_sigmoid = sigmoid_pca.fit_transform(X)"
   ]
  },
  {
   "cell_type": "code",
   "execution_count": null,
   "metadata": {
    "collapsed": false
   },
   "outputs": [],
   "source": [
    "plt.scatter(X_reduced_sigmoid[:,0], X_reduced_sigmoid[:,1], c=y)\n",
    "plt.show()"
   ]
  },
  {
   "cell_type": "markdown",
   "metadata": {},
   "source": [
    "### Locally Linear Embedding "
   ]
  },
  {
   "cell_type": "markdown",
   "metadata": {},
   "source": [
    "A different approach to the of PCA, locally linear embedding, LLE, will preserve manifolds."
   ]
  },
  {
   "cell_type": "code",
   "execution_count": null,
   "metadata": {
    "collapsed": true
   },
   "outputs": [],
   "source": [
    "from sklearn.manifold import LocallyLinearEmbedding"
   ]
  },
  {
   "cell_type": "code",
   "execution_count": null,
   "metadata": {
    "collapsed": false
   },
   "outputs": [],
   "source": [
    "lle = LocallyLinearEmbedding(n_components=2, n_neighbors=10)\n",
    "X_reduced_lle = lle.fit_transform(X)"
   ]
  },
  {
   "cell_type": "code",
   "execution_count": null,
   "metadata": {
    "collapsed": false
   },
   "outputs": [],
   "source": [
    "plt.scatter(X_reduced_lle[:,0], X_reduced_lle[:,1], c=y)\n",
    "plt.show()"
   ]
  },
  {
   "cell_type": "markdown",
   "metadata": {},
   "source": [
    "### t-Stochiastic Neighbour Embedding"
   ]
  },
  {
   "cell_type": "markdown",
   "metadata": {},
   "source": [
    "Another manifold preserver."
   ]
  },
  {
   "cell_type": "code",
   "execution_count": 3,
   "metadata": {
    "collapsed": true
   },
   "outputs": [],
   "source": [
    "from sklearn.manifold import TSNE"
   ]
  },
  {
   "cell_type": "code",
   "execution_count": 4,
   "metadata": {
    "collapsed": false
   },
   "outputs": [
    {
     "ename": "NameError",
     "evalue": "name 'X' is not defined",
     "output_type": "error",
     "traceback": [
      "\u001b[0;31m---------------------------------------------------------------------------\u001b[0m",
      "\u001b[0;31mNameError\u001b[0m                                 Traceback (most recent call last)",
      "\u001b[0;32m<ipython-input-4-ba1a425e98b1>\u001b[0m in \u001b[0;36m<module>\u001b[0;34m()\u001b[0m\n\u001b[1;32m      1\u001b[0m \u001b[0mtsne\u001b[0m \u001b[0;34m=\u001b[0m \u001b[0mTSNE\u001b[0m\u001b[0;34m(\u001b[0m\u001b[0;34m)\u001b[0m\u001b[0;34m\u001b[0m\u001b[0m\n\u001b[0;32m----> 2\u001b[0;31m \u001b[0mX_reduced_tsne\u001b[0m \u001b[0;34m=\u001b[0m \u001b[0mtsne\u001b[0m\u001b[0;34m.\u001b[0m\u001b[0mfit_transform\u001b[0m\u001b[0;34m(\u001b[0m\u001b[0mX\u001b[0m\u001b[0;34m)\u001b[0m\u001b[0;34m\u001b[0m\u001b[0m\n\u001b[0m",
      "\u001b[0;31mNameError\u001b[0m: name 'X' is not defined"
     ]
    }
   ],
   "source": [
    "tsne = TSNE()\n",
    "X_reduced_tsne = tsne.fit_transform(X)"
   ]
  },
  {
   "cell_type": "code",
   "execution_count": 5,
   "metadata": {
    "collapsed": false
   },
   "outputs": [
    {
     "ename": "NameError",
     "evalue": "name 'plt' is not defined",
     "output_type": "error",
     "traceback": [
      "\u001b[0;31m---------------------------------------------------------------------------\u001b[0m",
      "\u001b[0;31mNameError\u001b[0m                                 Traceback (most recent call last)",
      "\u001b[0;32m<ipython-input-5-6d763dcffbe2>\u001b[0m in \u001b[0;36m<module>\u001b[0;34m()\u001b[0m\n\u001b[0;32m----> 1\u001b[0;31m \u001b[0mplt\u001b[0m\u001b[0;34m.\u001b[0m\u001b[0mscatter\u001b[0m\u001b[0;34m(\u001b[0m\u001b[0mX_reduced_tsne\u001b[0m\u001b[0;34m[\u001b[0m\u001b[0;34m:\u001b[0m\u001b[0;34m,\u001b[0m\u001b[0;36m0\u001b[0m\u001b[0;34m]\u001b[0m\u001b[0;34m,\u001b[0m \u001b[0mX_reduced_tsne\u001b[0m\u001b[0;34m[\u001b[0m\u001b[0;34m:\u001b[0m\u001b[0;34m,\u001b[0m\u001b[0;36m1\u001b[0m\u001b[0;34m]\u001b[0m\u001b[0;34m,\u001b[0m \u001b[0mc\u001b[0m\u001b[0;34m=\u001b[0m\u001b[0my\u001b[0m\u001b[0;34m)\u001b[0m\u001b[0;34m\u001b[0m\u001b[0m\n\u001b[0m\u001b[1;32m      2\u001b[0m \u001b[0mplt\u001b[0m\u001b[0;34m.\u001b[0m\u001b[0mshow\u001b[0m\u001b[0;34m(\u001b[0m\u001b[0;34m)\u001b[0m\u001b[0;34m\u001b[0m\u001b[0m\n",
      "\u001b[0;31mNameError\u001b[0m: name 'plt' is not defined"
     ]
    }
   ],
   "source": [
    "plt.scatter(X_reduced_tsne[:,0], X_reduced_tsne[:,1], c=y)\n",
    "plt.show()"
   ]
  },
  {
   "cell_type": "markdown",
   "metadata": {},
   "source": [
    "### Autoencoder "
   ]
  },
  {
   "cell_type": "markdown",
   "metadata": {},
   "source": [
    "An autoencoder is a type of artificial neural network (ANN) that can learn low dimensional representations of higher dimensional data. We will not cover ANNs in depth here as we will go over them in the advanced session later in the week. \n",
    "\n",
    "Here we are using TensorFlow to build the neural network."
   ]
  },
  {
   "cell_type": "code",
   "execution_count": null,
   "metadata": {
    "collapsed": true
   },
   "outputs": [],
   "source": [
    "import tensorflow as tf\n",
    "from tensorflow.contrib.layers import fully_connected"
   ]
  },
  {
   "cell_type": "code",
   "execution_count": null,
   "metadata": {
    "collapsed": true
   },
   "outputs": [],
   "source": [
    "n_inputs = 3 # 3D inputs\n",
    "n_hidden = 2 # 2D codings\n",
    "n_outputs = n_inputs\n",
    "\n",
    "learning_rate = 0.01\n",
    "\n",
    "X = tf.placeholder(tf.float32, shape=[None, n_inputs])\n",
    "hidden = fully_connected(X, n_hidden, activation_fn=None)\n",
    "outputs = fully_connected(hidden, n_outputs, activation_fn=None)\n",
    "\n",
    "reconstruction_loss = tf.reduce_mean(tf.square(outputs - X))  # MSE\n",
    "\n",
    "optimizer = tf.train.AdamOptimizer(learning_rate)\n",
    "training_op = optimizer.minimize(reconstruction_loss)\n",
    "\n",
    "init = tf.global_variables_initializer()"
   ]
  },
  {
   "cell_type": "code",
   "execution_count": null,
   "metadata": {
    "collapsed": true
   },
   "outputs": [],
   "source": [
    "X_autoencoder, y_autoencoder = datasets.make_s_curve(n_samples=1000, noise=0.01)\n",
    "\n",
    "X_autoencoder_train, X_autoencoder_test, y_autoencoder_train, y_autoencoder_test = model_selection.train_test_spl"
   ]
  },
  {
   "cell_type": "code",
   "execution_count": null,
   "metadata": {
    "collapsed": true
   },
   "outputs": [],
   "source": [
    "fig = plt.figure()\n",
    "ax = Axes3D(fig) \n",
    "ax.scatter(X_autoencoder[:,0], X_autoencoder[:,1], X_autoencoder[:,2], c=y_autoencoder)\n",
    "plt.show()"
   ]
  },
  {
   "cell_type": "code",
   "execution_count": null,
   "metadata": {
    "collapsed": true
   },
   "outputs": [],
   "source": [
    "n_iterations = 1000\n",
    "codings = hidden # The output of the hidden layer provides the codings\n",
    "\n",
    "with tf.Session() as sess:\n",
    "    init.run()\n",
    "    for iteration in range(n_iterations):\n",
    "        training_op.run(feed_dict={X: X_autoencoder_train})  # no labels (unsupervised)\n",
    "    codings_val = codings.eval(feed_dict={X: X_autoencoder_test})"
   ]
  },
  {
   "cell_type": "code",
   "execution_count": null,
   "metadata": {
    "collapsed": true
   },
   "outputs": [],
   "source": [
    "plt.scatter(codings_val[:, 0], codings_val[:, 1], c=y_autoencoder_test)\n",
    "plt.show()"
   ]
  },
  {
   "cell_type": "markdown",
   "metadata": {},
   "source": [
    "## Clustering "
   ]
  },
  {
   "cell_type": "markdown",
   "metadata": {},
   "source": [
    "Clustering seeks to find groups (or clusters) of similar data points in a given data set."
   ]
  },
  {
   "cell_type": "markdown",
   "metadata": {},
   "source": [
    "### k-Means Clustering "
   ]
  },
  {
   "cell_type": "markdown",
   "metadata": {},
   "source": [
    "k-means clustering will find $k$ of the most optimal centroids in your dataset. "
   ]
  },
  {
   "cell_type": "code",
   "execution_count": null,
   "metadata": {
    "collapsed": true
   },
   "outputs": [],
   "source": [
    "from sklearn.cluster import KMeans"
   ]
  },
  {
   "cell_type": "code",
   "execution_count": null,
   "metadata": {
    "collapsed": true
   },
   "outputs": [],
   "source": [
    "# Create a dataset of four blobs or clusters\n",
    "X_blobs, y_blobs = datasets.make_blobs(n_samples=1000, n_features=2, centers=4, cluster_std=0.5)"
   ]
  },
  {
   "cell_type": "code",
   "execution_count": null,
   "metadata": {
    "collapsed": true
   },
   "outputs": [],
   "source": [
    "# Create kmeans cluster-er\n",
    "kmeans_clstr = KMeans(n_clusters=4)\n",
    "# And fit it to the dataset\n",
    "kmeans_clstr.fit(X_blobs)"
   ]
  },
  {
   "cell_type": "code",
   "execution_count": null,
   "metadata": {
    "collapsed": true
   },
   "outputs": [],
   "source": [
    "visualise_decision_surface(X_blobs, y_blobs, kmeans_clstr)"
   ]
  },
  {
   "cell_type": "markdown",
   "metadata": {},
   "source": [
    "Well alright, that seemed to work pretty well. But I can imagine a scenario when it probably wouldn't work so well."
   ]
  },
  {
   "cell_type": "code",
   "execution_count": null,
   "metadata": {
    "collapsed": true
   },
   "outputs": [],
   "source": [
    "# Create two concentric circles representing different clusters\n",
    "X_circles, y_circles = datasets.make_circles(n_samples=1500, factor=0.5, noise=0.05)"
   ]
  },
  {
   "cell_type": "code",
   "execution_count": null,
   "metadata": {
    "collapsed": true
   },
   "outputs": [],
   "source": [
    "kmeans_clstr = KMeans(n_clusters=2)\n",
    "kmeans_clstr.fit(X_circles)"
   ]
  },
  {
   "cell_type": "code",
   "execution_count": null,
   "metadata": {
    "collapsed": true
   },
   "outputs": [],
   "source": [
    "visualise_decision_surface(X_circles, y_circles, kmeans_clstr)"
   ]
  },
  {
   "cell_type": "markdown",
   "metadata": {},
   "source": [
    "Hmmm, not so great this time. There are other clustering techniques that can do better. Have a look at spectral clustering"
   ]
  },
  {
   "cell_type": "code",
   "execution_count": null,
   "metadata": {
    "collapsed": true
   },
   "outputs": [],
   "source": [
    "from sklearn.cluster import SpectralClustering"
   ]
  },
  {
   "cell_type": "code",
   "execution_count": null,
   "metadata": {
    "collapsed": true
   },
   "outputs": [],
   "source": [
    "spectral_clstr = SpectralClustering(n_clusters=2,\n",
    "                                    affinity=\"nearest_neighbors\")\n",
    "spectral_clstr.fit(X_circles)"
   ]
  },
  {
   "cell_type": "code",
   "execution_count": null,
   "metadata": {
    "collapsed": true
   },
   "outputs": [],
   "source": [
    "visualise_decision_surface(X_circles, y_circles, spectral_clstr)"
   ]
  },
  {
   "cell_type": "markdown",
   "metadata": {},
   "source": [
    "Nice! Much better. Why not play around with some different [affinities](http://scikit-learn.org/stable/modules/generated/sklearn.cluster.SpectralClustering.html#sklearn.cluster.SpectralClustering)?"
   ]
  },
  {
   "cell_type": "markdown",
   "metadata": {},
   "source": [
    "## Anomaly Detection <a id='anomaly'></a>"
   ]
  },
  {
   "cell_type": "markdown",
   "metadata": {},
   "source": [
    "Scikit-Learn has some great anomaly detectors built in as well. Check the [documentation](http://scikit-learn.org/stable/modules/outlier_detection.html) on the different methods available."
   ]
  },
  {
   "cell_type": "code",
   "execution_count": null,
   "metadata": {
    "collapsed": false
   },
   "outputs": [],
   "source": [
    "from sklearn import svm\n",
    "from sklearn.preprocessing import LabelEncoder"
   ]
  },
  {
   "cell_type": "code",
   "execution_count": null,
   "metadata": {
    "collapsed": false
   },
   "outputs": [],
   "source": [
    "# This dataset monitors network traffic\n",
    "# We want to be able to identify traffic that is\n",
    "# out of the ordinary.\n",
    "# It is a little large so it might take a few minutes to \n",
    "# download\n",
    "kddcup99 = datasets.fetch_kddcup99(subset=\"SA\", percent10=True)"
   ]
  },
  {
   "cell_type": "code",
   "execution_count": null,
   "metadata": {
    "collapsed": false
   },
   "outputs": [],
   "source": [
    "X_kddcup99 = kddcup99[\"data\"][:10000,:]\n",
    "y_kddcup99 = kddcup99[\"target\"][:10000]\n",
    "\n",
    "print(X_kddcup99.shape)\n",
    "\n",
    "labeler = LabelEncoder()\n",
    "X_kddcup99[:,1] = labeler.fit_transform(X_kddcup99[:,1])\n",
    "X_kddcup99[:,2] = labeler.fit_transform(X_kddcup99[:,2])\n",
    "X_kddcup99[:,3] = labeler.fit_transform(X_kddcup99[:,3])\n",
    "\n",
    "X_kddcup99_train, X_kddcup99_test, y_kddcup99_train, y_kddcup99_test = model_selection.train_test_split(X_kddcup99, y_kddcup99)\n",
    "\n",
    "print(X_kddcup99[1])"
   ]
  },
  {
   "cell_type": "code",
   "execution_count": null,
   "metadata": {
    "collapsed": false
   },
   "outputs": [],
   "source": [
    "clf = svm.OneClassSVM(nu=0.1, kernel=\"poly\")\n",
    "clf.fit(X_kddcup99_train)"
   ]
  },
  {
   "cell_type": "code",
   "execution_count": null,
   "metadata": {
    "collapsed": false
   },
   "outputs": [],
   "source": [
    "predictions = clf.predict(X_kddcup99_test)\n",
    "num_pred_outliers = len(predictions[predictions == 1.])\n",
    "num_test_outliers = len(y_kddcup99_test[y_kddcup99_test != \"normal\"])\n",
    "print(num_pred_outliers)\n",
    "print(num_test_outliers)"
   ]
  },
  {
   "cell_type": "code",
   "execution_count": null,
   "metadata": {
    "collapsed": true
   },
   "outputs": [],
   "source": []
  }
 ],
 "metadata": {
  "kernelspec": {
   "display_name": "Python 2",
   "language": "python",
   "name": "python2"
  },
  "language_info": {
   "codemirror_mode": {
    "name": "ipython",
    "version": 2
   },
   "file_extension": ".py",
   "mimetype": "text/x-python",
   "name": "python",
   "nbconvert_exporter": "python",
   "pygments_lexer": "ipython2",
   "version": "2.7.12"
  }
 },
 "nbformat": 4,
 "nbformat_minor": 2
}
