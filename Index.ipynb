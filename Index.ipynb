{
 "cells": [
  {
   "cell_type": "markdown",
   "metadata": {},
   "source": [
    "# C3DIS Python Workshops\n",
    "## Hands-on Exercises\n",
    "\n",
    "The notebooks included here cover a range of scientific domains and focus areas, as well as a range of assumed Python experience.\n",
    "Although they are intended to supplement the Python for Scientists training\n",
    "course, they can be completed by anyone with some Python experience. The\n",
    "notebooks are self-contained and can be completed in any order. However, if you\n",
    "have little to no Python experience, it is suggested that you start with the\n",
    "Introduction to Python notebook."
   ]
  },
  {
   "cell_type": "markdown",
   "metadata": {},
   "source": [
    "# Workshop Notebooks"
   ]
  },
  {
   "cell_type": "markdown",
   "metadata": {},
   "source": [
    "## [Introduction to Python](./Introduction to Python/Introduction to Python.ipynb)\n",
    "Start here if you are new to Python, or if you just need a refresher of the language basics."
   ]
  },
  {
   "cell_type": "markdown",
   "metadata": {},
   "source": [
    "## [A Scientific Python Refresher](#Scientific-Python-Lectures)\n",
    "If you need a refresher on Numpy, Scipy, or Matplotlib, then try these notebooks from the supplemental [Scientific Python Lectures](#Scientific-Python-Lectures):\n",
    "- [Numpy](./Additional%20Notebooks/Scientific%20Python%20Lectures/Lecture-2-Numpy.ipynb)\n",
    "- [Scipy](./Additional%20Notebooks/Scientific%20Python%20Lectures/Lecture-3-Scipy.ipynb)\n",
    "- [Matplotlib](./Additional%20Notebooks/Scientific%20Python%20Lectures/Lecture-4-Matplotlib.ipynb)"
   ]
  },
  {
   "cell_type": "markdown",
   "metadata": {},
   "source": [
    "## [Advanced Notebook Features](./Advanced%20Notebook%20Features/Advanced%20Notebook%20Features.ipynb)\n",
    "A mixed-bag of Notebook goodies. Learn some interesting magic commands, build a GUI, do some animations, and explore some options for interactive plots and visualisations."
   ]
  },
  {
   "cell_type": "markdown",
   "metadata": {},
   "source": [
    "##  [Object-oriented Python](./Object-oriented%20Python/Object-oriented%20Python.ipynb)\n",
    "An exploration of creating and using your own classes in Python. Don't know what a class is? This notebook will help with that too!"
   ]
  },
  {
   "cell_type": "markdown",
   "metadata": {},
   "source": [
    "## [Exploring Decorators](./Exploring%20Decorators/Exploring%20Decorators.ipynb)\n",
    "Decorators are possibly the language feature you didn't know you needed. This notebook will get you started with writing and using decorators, provide some examples of use and references, as well as pointing out some gotchas."
   ]
  },
  {
   "cell_type": "markdown",
   "metadata": {},
   "source": [
    "##  [Performance Tuning the Mandelbrot Set](./Performance%20Tuning%20the%20Mandelbrot%20Set/Performance%20Tuning%20the%20Mandelbrot%20Set.ipynb)\n",
    "A deep comparison of options for improving the performance of Python code, through an exploration of a Mandelbrot Set generation function."
   ]
  },
  {
   "cell_type": "markdown",
   "metadata": {},
   "source": [
    "##  [Symbolic Math with SymPy](./Symbolic%20Math/Symbolic%20Math.ipynb)\n",
    "[SymPy](http://docs.sympy.org/latest/index.html) is a Python library for performing symbolic computation. SymPy can simplify expressions, compute derivatives, integrals, and limits, solve equations, work with matrices, and much more, and do it all symbolically. It includes modules for plotting, printing (like 2D pretty printed output of math formulas, or $\\LaTeX$), code generation, physics, statistics, combinatorics, number theory, geometry, logic, and more. "
   ]
  },
  {
   "cell_type": "markdown",
   "metadata": {},
   "source": [
    "##  [PyTables and HDF5](./PyTables%20and%20HDF5/PyTables%20and%20HDF5.ipynb)\n",
    "Explore the use of PyTables for creating, reading, and querying hierachical data in HDF5 files. If you want more, then follow this notebook up with [Using PyTables for Larger than RAM Data Processing](./Additional%20Notebooks/Using%20PyTables%20for%20Larger-Than-RAM%20Data%20Processing/Using%20PyTables%20for%20Larger-Than-RAM%20Data%20Processing.ipynb)."
   ]
  },
  {
   "cell_type": "markdown",
   "metadata": {},
   "source": [
    "## [Web Scraping and Data Visualisation](./Web%20Scraping%20and%20Data%20Visualisation/Web%20Scraping%20and%20Visualising%20Data.ipynb)\n",
    "Learn to extract data from websites by the technique called web scraping. In this case, you will be extracting meterology data from the BOM. The techniques covered include:\n",
    "- Downloading resources from the web with the Requests library\n",
    "- Exploring web page structure with Chrome Developer Tools\n",
    "- Building an XML XPath query to extract specific information from a web page\n",
    "- Using the lxml library to perform an XPath query on HTML data\n",
    "- Using Pandas to clean and plot data\n",
    "\n",
    "This notebook uses GUI elements from IPyWidgets, so some familiarity with that library will be helpful."
   ]
  },
  {
   "cell_type": "markdown",
   "metadata": {},
   "source": [
    "## [Working with Excel Data from the CSIRO Knowledge Network](./OzNome%20Knowledge%20Network/Using%20KN%20to%20interface%20with%20data.gov.au%20-%20SAIMOS%2Bexcel%2Bexample.ipynb)\n",
    "Python provides plenty of tools for reading and visualising different kinds of tabular data. Here we demonstrate using Requests, Pandas, xlrd, and matplotlib to load, manipulate, and plot Excel data from the [CSIRO Knowledge Network](https://kn.csiro.au/).\n",
    "\n",
    "This notebook uses GUI elements from IPyWidgets, so some familiarity with that library will be helpful."
   ]
  },
  {
   "cell_type": "markdown",
   "metadata": {},
   "source": [
    "# Supplemental Material\n",
    "The following notebooks have been drawn from existing online sources."
   ]
  },
  {
   "cell_type": "markdown",
   "metadata": {},
   "source": [
    "## [Jupyter Notebook Examples](./Additional%20Notebooks/Jupyter%20Notebook%20Examples)\n",
    "These are the example notebooks from the [Jupyter Notebook Git repository](https://github.com/jupyter/notebook). They cover a good range of introductory topics and will make a good follow-up to the Introduction to Python workshop notebook for those that want some more practice before moving onto the more focused topics."
   ]
  },
  {
   "cell_type": "markdown",
   "metadata": {},
   "source": [
    "## [IPython Examples](./Additional%20Notebooks/IPython%20Examples/Index.ipynb)\n",
    "\n",
    "From the [IPython Git repository](https://github.com/ipython/ipython), these notebooks provide good coverage of a range of IPython Kernel-specific features that can be used in your notebooks. \n",
    "\n",
    "**Note that some material will not work correctly on the workshop JupyterHub. This includes non-Python code, and Python files that execute outside of a notebook.**"
   ]
  },
  {
   "cell_type": "markdown",
   "metadata": {},
   "source": [
    "## [Scientific Python Lectures](./Additional%20Notebooks/Scientific%20Python%20Lectures)\n",
    "A copy of the excellent [Scientific Python Lectures](https://github.com/jrjohansson/scientific-python-lectures) as available on GitHub. Lectures 1 to 5 have been updated to Python 3 for this workshop. There is some overlap with the workshop notebooks but also coverage on topics we don't address. \n",
    "\n",
    "**Note that some of the notebooks may not work on the JupyterHub instance provided for the workshops. The lecture 6 notebooks dealing with Fortran, C, and HPC topics will not work and will not be supported. Other lectures *should* be OK.**"
   ]
  },
  {
   "cell_type": "markdown",
   "metadata": {},
   "source": [
    "## [Using PyTables for Larger than RAM Data Processing](./Additional%20Notebooks/Using%20PyTables%20for%20Larger-Than-RAM%20Data%20Processing/Using%20PyTables%20for%20Larger-Than-RAM%20Data%20Processing.ipynb)\n",
    "This is an edited version of the source notebook attached to the [Using PyTables for Larger-Than-RAM Data Processing](https://kastnerkyle.github.io/posts/using-pytables-for-larger-than-ram-data-processing)\n",
    "blog post. As well as techniques for working with datasets that are larger than available RAM, it also gives a good introduction to using variable length arrays and compression in PyTables. This notebook makes a good follow up to the main [PyTables and HDF5](./PyTables%20and%20HDF5/PyTables%20and%20HDF5.ipynb) notebook."
   ]
  },
  {
   "cell_type": "markdown",
   "metadata": {},
   "source": [
    "# Even More Material\n",
    "If you want even more notebooks, then I refer you to [A Gallery of Interesting Jupyter Notebooks](https://github.com/jupyter/jupyter/wiki/A-gallery-of-interesting-Jupyter-Notebooks).\n",
    "\n",
    "Finally, although not provided in notebook form, the [Scipy Lectures](http://www.scipy-lectures.org/) give an excellent introduction to scientific computing in Python."
   ]
  }
 ],
 "metadata": {
  "kernelspec": {
   "display_name": "Python 3",
   "language": "python",
   "name": "python3"
  },
  "language_info": {
   "codemirror_mode": {
    "name": "ipython",
    "version": 3
   },
   "file_extension": ".py",
   "mimetype": "text/x-python",
   "name": "python",
   "nbconvert_exporter": "python",
   "pygments_lexer": "ipython3",
   "version": "3.6.1"
  }
 },
 "nbformat": 4,
 "nbformat_minor": 2
}
