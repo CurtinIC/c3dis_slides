{
 "cells": [
  {
   "cell_type": "markdown",
   "metadata": {},
   "source": [
    "For many purposes, the basic notebook elements of Markdown cells interspersed with code cells and the occasional inline plot are more than adequate. However, the notebook platform is capable of far more. This notebook provides a tour of some interesting capabilities. Whether they are advanced, or just rare and unusual, is left to the reader to decide."
   ]
  },
  {
   "cell_type": "markdown",
   "metadata": {},
   "source": [
    "# Topics covered\n",
    "- [Display all Variables](#Display-All-Variables)\n",
    "- [Importing from Local Python Files](#Importing-from-Local-Python-Files)\n",
    "- [IPython Magic Commands](#IPython-Magic)\n",
    "- [Building a GUI](#Building-a-GUI-with-ipywidgets)\n",
    "- [Data Visualisation](#Data-Visualisation)\n",
    "    - [Dynamically updating a plot with ipywidget.interact](#Using-ipywidgets-interact)\n",
    "    - [Interactive 2D and 3D plots with plotly](#Plotly)\n",
    "- [Interactive maps](#Interactive-Maps)"
   ]
  },
  {
   "cell_type": "markdown",
   "metadata": {},
   "source": [
    "# Display All Variables\n",
    "You have probably seen that if you finish a code cell with the name of an object or the unassigned output of a statement, Jupyter will display the values without the need for `print()` or `display()` statements.\n",
    "\n",
    "However, it is possible to change this behaviour so that all variables or statements on their own line are displayed automatically."
   ]
  },
  {
   "cell_type": "code",
   "execution_count": null,
   "metadata": {
    "collapsed": true
   },
   "outputs": [],
   "source": [
    "from IPython.core.interactiveshell import InteractiveShell\n",
    "InteractiveShell.ast_node_interactivity = 'all'"
   ]
  },
  {
   "cell_type": "code",
   "execution_count": null,
   "metadata": {
    "collapsed": true
   },
   "outputs": [],
   "source": [
    "a = 'hey'\n",
    "a\n",
    "b = 'there'\n",
    "b"
   ]
  },
  {
   "cell_type": "markdown",
   "metadata": {},
   "source": [
    "# Importing from Local Python Files"
   ]
  },
  {
   "cell_type": "markdown",
   "metadata": {},
   "source": [
    "<div class=\"alert alert-info\">\n",
    "This is not really an advanced feature, but it is a useful technique to keep in mind as the complexity of your notebooks grows.\n",
    "</div>"
   ]
  },
  {
   "cell_type": "markdown",
   "metadata": {},
   "source": [
    "As your notebooks grow in complexity and size, they may start to accumulate code cells that are important to the execution, but don't directly contribute to the user's understanding. This is often utility functions and classes that you want to use elsewhere in the notebook. Jupyter does not give a way to hide code cells, but often the next best thing is to move the utility code to a normal Python file (usually `.py` extension) and put it in the same directory as your notebook. You then import from that file and use the objects in the rest of your notebook.\n",
    "\n",
    "The main drawback to this method is that you now have to distribute more than one file to your users."
   ]
  },
  {
   "cell_type": "markdown",
   "metadata": {},
   "source": [
    "Let's have a look at doing that here. First, create our utility code file (normally you would just create and edit the file directly, but here we use the `%%writefile` cell magic):"
   ]
  },
  {
   "cell_type": "code",
   "execution_count": null,
   "metadata": {},
   "outputs": [],
   "source": [
    "%%writefile utility.py\n",
    "\n",
    "def cheese_shop():\n",
    "    print(\"I'm sorry, we don't appear to have any cheese at all!\")"
   ]
  },
  {
   "cell_type": "markdown",
   "metadata": {},
   "source": [
    "Now, we can import symbols from the file in the usual way:"
   ]
  },
  {
   "cell_type": "code",
   "execution_count": null,
   "metadata": {
    "collapsed": true
   },
   "outputs": [],
   "source": [
    "from utility import cheese_shop"
   ]
  },
  {
   "cell_type": "code",
   "execution_count": null,
   "metadata": {},
   "outputs": [],
   "source": [
    "cheese_shop()"
   ]
  },
  {
   "cell_type": "markdown",
   "metadata": {},
   "source": [
    "# IPython Magic\n",
    "You are probably familiar with some of the common *Magic* commands, such as `%matplotlib inline` for inline plots, `%timeit` for timing an expression, and `%ls` for getting a directory listing. Here is a selection of useful but possibly less well known magic commands."
   ]
  },
  {
   "cell_type": "markdown",
   "metadata": {},
   "source": [
    "## List All Magics"
   ]
  },
  {
   "cell_type": "code",
   "execution_count": null,
   "metadata": {
    "collapsed": true,
    "scrolled": true
   },
   "outputs": [],
   "source": [
    "%lsmagic"
   ]
  },
  {
   "cell_type": "markdown",
   "metadata": {},
   "source": [
    "## Capture Cell Output\n",
    "The `%%capture` magic lets you capture cell outputs to both standard error and standard out. If you don't supply a variable name, then output is discarded:"
   ]
  },
  {
   "cell_type": "code",
   "execution_count": null,
   "metadata": {
    "collapsed": true
   },
   "outputs": [],
   "source": [
    "%%capture\n",
    "print('Hello World')"
   ]
  },
  {
   "cell_type": "markdown",
   "metadata": {},
   "source": [
    "If you supply an optional variable name, then the captured output can be used later:"
   ]
  },
  {
   "cell_type": "code",
   "execution_count": null,
   "metadata": {
    "collapsed": true
   },
   "outputs": [],
   "source": [
    "%%capture cap\n",
    "import sys\n",
    "print('Hello stdout')\n",
    "print('Hello stderr', file=sys.stderr)"
   ]
  },
  {
   "cell_type": "code",
   "execution_count": null,
   "metadata": {
    "collapsed": true
   },
   "outputs": [],
   "source": [
    "cap.stdout"
   ]
  },
  {
   "cell_type": "code",
   "execution_count": null,
   "metadata": {
    "collapsed": true
   },
   "outputs": [],
   "source": [
    "cap.stderr"
   ]
  },
  {
   "cell_type": "code",
   "execution_count": null,
   "metadata": {
    "collapsed": true
   },
   "outputs": [],
   "source": [
    "cap.show()"
   ]
  },
  {
   "cell_type": "markdown",
   "metadata": {},
   "source": [
    "## Writing Cells to a File\n",
    "The `%%writefile` magic writes the entire cell contents to a file."
   ]
  },
  {
   "cell_type": "code",
   "execution_count": null,
   "metadata": {
    "collapsed": true
   },
   "outputs": [],
   "source": [
    "%%writefile hello.py\n",
    "print('Hello')"
   ]
  },
  {
   "cell_type": "code",
   "execution_count": null,
   "metadata": {
    "collapsed": true
   },
   "outputs": [],
   "source": [
    "%run hello.py"
   ]
  },
  {
   "cell_type": "code",
   "execution_count": null,
   "metadata": {
    "collapsed": true
   },
   "outputs": [],
   "source": [
    "%%writefile data.csv\n",
    "Stock Name,Company Name\n",
    "AXP,American Express Co\n",
    "BA,Boeing Co\n",
    "CAT,Caterpillar Inc\n",
    "CSC, Cisco Systems Inc\n",
    "CVX,Chevron Corp\n",
    "DD,Dupont E I De Nemours & Co\n",
    "DIS,Walt Disney Co\n",
    "GE,General Electric Co\n",
    "GS,Goldman Sachs Group Inc\n",
    "HD,Home Depot Inc\n",
    "IBM,International Business Machines Co...\n",
    "INTC,Intel Corp\n",
    "JNJ,Johnson & Johnson\n",
    "JPM,JPMorgan Chase and Co\n",
    "KO,The Coca-Cola Co\n",
    "MCD,McDonald's Corp\n",
    "MMM,3M Co\n",
    "MRK,Merck & Co Inc\n",
    "MSFT,Microsoft Corp\n",
    "NKE,Nike Inc\n",
    "PFE,Pfizer Inc\n",
    "PG,Procter & Gamble Co\n",
    "T,AT&T Inc\n",
    "TRV,Travelers Companies Inc\n",
    "UNH,UnitedHealth Group Inc\n",
    "UTX,United Technologies Corp\n",
    "V,Visa Inc\n",
    "VZ,Verizon Communications Inc\n",
    "WMT,Wal-Mart Stores Inc\n",
    "XOM,Exxon Mobil Corp"
   ]
  },
  {
   "cell_type": "code",
   "execution_count": null,
   "metadata": {
    "collapsed": true
   },
   "outputs": [],
   "source": [
    "import pandas as pd\n",
    "df = pd.read_csv('data.csv')\n",
    "df"
   ]
  },
  {
   "cell_type": "markdown",
   "metadata": {},
   "source": [
    "## Transfer data between notebooks"
   ]
  },
  {
   "cell_type": "markdown",
   "metadata": {},
   "source": [
    "First store something:"
   ]
  },
  {
   "cell_type": "code",
   "execution_count": null,
   "metadata": {
    "collapsed": true
   },
   "outputs": [],
   "source": [
    "data = 'this is my string'\n",
    "%store data\n",
    "del data  # only included so we can demonstrate loading from the store in the same notebook"
   ]
  },
  {
   "cell_type": "markdown",
   "metadata": {},
   "source": [
    "Confirm that `data` is really gone:"
   ]
  },
  {
   "cell_type": "code",
   "execution_count": null,
   "metadata": {
    "collapsed": true
   },
   "outputs": [],
   "source": [
    "try:\n",
    "    print(data)\n",
    "except Exception as e:\n",
    "    print('Error:', e)"
   ]
  },
  {
   "cell_type": "markdown",
   "metadata": {},
   "source": [
    "**Note that the following will work in a new notebook. Try doing so now if you like.**\n",
    "\n",
    "However, since we deleted the variable, the effect is much the same when staying in this notebook."
   ]
  },
  {
   "cell_type": "code",
   "execution_count": null,
   "metadata": {
    "collapsed": true
   },
   "outputs": [],
   "source": [
    "%store -r data\n",
    "data"
   ]
  },
  {
   "cell_type": "markdown",
   "metadata": {},
   "source": [
    "## List all variables in global scope"
   ]
  },
  {
   "cell_type": "code",
   "execution_count": null,
   "metadata": {
    "collapsed": true
   },
   "outputs": [],
   "source": [
    "%who"
   ]
  },
  {
   "cell_type": "markdown",
   "metadata": {},
   "source": [
    "Passing a type will list only variables with the given type:"
   ]
  },
  {
   "cell_type": "code",
   "execution_count": null,
   "metadata": {
    "collapsed": true
   },
   "outputs": [],
   "source": [
    "%who str"
   ]
  },
  {
   "cell_type": "markdown",
   "metadata": {},
   "source": [
    "# Embedding Multimedia Content\n",
    "\n",
    "This section is an extract from the [IPython Rich Output notebook](../Additional%20Notebooks/IPython%20Examples/IPython%20Kernel/Rich%20Output.ipynb). Please refer to it for more examples."
   ]
  },
  {
   "cell_type": "markdown",
   "metadata": {},
   "source": [
    "## Images\n",
    "IPython provides an `Image` class for working with image display. It can display local images specified with the `filename` argument, or online images with the `url` argument:"
   ]
  },
  {
   "cell_type": "code",
   "execution_count": null,
   "metadata": {
    "collapsed": true
   },
   "outputs": [],
   "source": [
    "from IPython.display import Image\n",
    "\n",
    "Image(url='http://python.org/images/python-logo.gif')"
   ]
  },
  {
   "cell_type": "markdown",
   "metadata": {},
   "source": [
    "Scalable Vector Graphics (SVG) images are also supported:"
   ]
  },
  {
   "cell_type": "code",
   "execution_count": null,
   "metadata": {
    "collapsed": true
   },
   "outputs": [],
   "source": [
    "from IPython.display import SVG\n",
    "\n",
    "Image(url='https://www.gnu.org/graphics/official%20gnu.svg')"
   ]
  },
  {
   "cell_type": "markdown",
   "metadata": {},
   "source": [
    "## Audio\n",
    "The `Audio` display class lets you embed audio controls into the notebook. All audio formats supported by the current browser will work, however no single audio format is supported by all browsers."
   ]
  },
  {
   "cell_type": "code",
   "execution_count": null,
   "metadata": {
    "collapsed": true
   },
   "outputs": [],
   "source": [
    "from IPython.display import Audio\n",
    "Audio(url=\"http://www.nch.com.au/acm/8k16bitpcm.wav\")"
   ]
  },
  {
   "cell_type": "markdown",
   "metadata": {},
   "source": [
    "An interesting feature (that I have yet to find a use for!) is rendering a Numpy array as audio. Here we sum two sin waves with slightly differing frequencies. When played you should be able to hear the beat frequency (equal to the frequency difference):"
   ]
  },
  {
   "cell_type": "code",
   "execution_count": null,
   "metadata": {
    "collapsed": true
   },
   "outputs": [],
   "source": [
    "import numpy as np\n",
    "max_time = 3\n",
    "f1 = 220.0\n",
    "f2 = 229.0\n",
    "rate = 8000.0\n",
    "L = 3\n",
    "times = np.linspace(0,L,int(rate*L))\n",
    "signal = np.sin(2*np.pi*f1*times) + np.sin(2*np.pi*f2*times)\n",
    "\n",
    "Audio(data=signal, rate=rate)"
   ]
  },
  {
   "cell_type": "markdown",
   "metadata": {},
   "source": [
    "Try adjusting the two frequencies and listen to the difference."
   ]
  },
  {
   "cell_type": "markdown",
   "metadata": {},
   "source": [
    "## Video\n",
    "Video from online sources such as YouTube can be embedded easily:"
   ]
  },
  {
   "cell_type": "code",
   "execution_count": null,
   "metadata": {
    "collapsed": true
   },
   "outputs": [],
   "source": [
    "from IPython.display import YouTubeVideo\n",
    "YouTubeVideo('8oc8GoOOUo4')"
   ]
  },
  {
   "cell_type": "markdown",
   "metadata": {},
   "source": [
    "Embedding local video files is also possible but it tends to be problematic due to variable codec support across operating systems and browsers."
   ]
  },
  {
   "cell_type": "markdown",
   "metadata": {},
   "source": [
    "# Building a GUI with ipywidgets\n",
    "When working in a notebook, we can often adjust values by editing the code directly. But we are not limited to this. Through the [ipywidgets](https://github.com/jupyter-widgets/ipywidgets) package, we can embed many GUI widgets into the notebook and link them to our code. \n",
    "\n",
    "We will cover basic usage and some examples here. For more examples, see the [ipywidgets example notebooks](https://github.com/jupyter-widgets/ipywidgets/blob/master/docs/source/examples/Index.ipynb).\n",
    "\n",
    "First, the imports:"
   ]
  },
  {
   "cell_type": "code",
   "execution_count": null,
   "metadata": {
    "collapsed": true
   },
   "outputs": [],
   "source": [
    "# Import the widgets\n",
    "from ipywidgets import widgets\n",
    "\n",
    "# Import the display function for explicitly displaying widgets in the notebook\n",
    "from IPython.display import display"
   ]
  },
  {
   "cell_type": "markdown",
   "metadata": {},
   "source": [
    "## Basic Usage\n",
    "\n",
    "All the widgets have the same common usage pattern:\n",
    "1. Create the widget object.\n",
    "2. Optionally configure the widget.\n",
    "3. Connect the event handlers.\n",
    "4. Display the widget.\n",
    "5. Optionally close the widget.\n",
    "\n",
    "Let's look at each of these steps using a `Text` widget."
   ]
  },
  {
   "cell_type": "markdown",
   "metadata": {},
   "source": [
    "###  Create and Configure\n",
    "This is a single step, because although the creation can be separated from configuration:"
   ]
  },
  {
   "cell_type": "code",
   "execution_count": null,
   "metadata": {
    "collapsed": true
   },
   "outputs": [],
   "source": [
    "text = widgets.Text()\n",
    "text.value = 'Hello World!'"
   ]
  },
  {
   "cell_type": "markdown",
   "metadata": {},
   "source": [
    "They can often be combined, particularly for the common options:"
   ]
  },
  {
   "cell_type": "code",
   "execution_count": null,
   "metadata": {
    "collapsed": true
   },
   "outputs": [],
   "source": [
    "text = widgets.Text(value='Hello World!')"
   ]
  },
  {
   "cell_type": "markdown",
   "metadata": {},
   "source": [
    "We can now display the text input box, but we have no way of knowing when the value changes:"
   ]
  },
  {
   "cell_type": "code",
   "execution_count": null,
   "metadata": {
    "collapsed": true
   },
   "outputs": [],
   "source": [
    "text"
   ]
  },
  {
   "cell_type": "markdown",
   "metadata": {},
   "source": [
    "### Attach Event Handlers\n",
    "Text input boxes provide the `on_submit` method for attaching event handlers:"
   ]
  },
  {
   "cell_type": "code",
   "execution_count": null,
   "metadata": {
    "collapsed": true
   },
   "outputs": [],
   "source": [
    "def print_value(sender):\n",
    "    print('Value is: ' + sender.value)\n",
    "    \n",
    "text.on_submit(print_value)"
   ]
  },
  {
   "cell_type": "markdown",
   "metadata": {},
   "source": [
    "However other widget types do not have this method. For all stateful widgets (nearly everything except buttons), you can attach an observer function to the widget value. This sounds complex but is easy to do using the `observe()` method:"
   ]
  },
  {
   "cell_type": "code",
   "execution_count": null,
   "metadata": {
    "collapsed": true
   },
   "outputs": [],
   "source": [
    "def on_value_change(change):\n",
    "    print('Value changed from {0} to {1}'.format(change['old'], change['new']))\n",
    "\n",
    "a = widgets.IntSlider()\n",
    "a.observe(on_value_change, 'value')\n",
    "a"
   ]
  },
  {
   "cell_type": "markdown",
   "metadata": {},
   "source": [
    "From the `change` object, you can retrieve both the old and new values as shown.\n",
    "\n",
    "Note that this approach should also work with text input widgets as an alternative to using `on_submit()`."
   ]
  },
  {
   "cell_type": "markdown",
   "metadata": {},
   "source": [
    "### Display\n",
    "Widgets define a `_repr_` method that lets them work with the notebook display system. Since this automatic display only occurs for the last item in a notebook, the `display()` function has to be used to display widgets on different lines of a code cell."
   ]
  },
  {
   "cell_type": "code",
   "execution_count": null,
   "metadata": {
    "collapsed": true
   },
   "outputs": [],
   "source": [
    "display(text)"
   ]
  },
  {
   "cell_type": "markdown",
   "metadata": {},
   "source": [
    "Try changing the text. Hit enter to submit the new value.\n",
    "\n",
    "Notice the output from our event handler appears below the widget. When using widgets, each code cell gains a third region called the *widget area*. The widget area sits between the input and output areas.\n",
    "\n",
    "To close a widget manually, click the small `x` displayed to the left of the widget. To close a widget programmatically, call the `close()` method."
   ]
  },
  {
   "cell_type": "code",
   "execution_count": null,
   "metadata": {
    "collapsed": true
   },
   "outputs": [],
   "source": [
    "text.close()"
   ]
  },
  {
   "cell_type": "markdown",
   "metadata": {},
   "source": [
    "## Seeing Double: Displaying the Same Widget Twice\n",
    "A single widget object can be displayed twice. Run the next code cell. What happens when you adjust one of the sliders? What do you think is going on?"
   ]
  },
  {
   "cell_type": "code",
   "execution_count": null,
   "metadata": {
    "collapsed": true
   },
   "outputs": [],
   "source": [
    "int_slider = widgets.IntSlider(value=0, min=-10, max=10)\n",
    "display(int_slider)\n",
    "display(int_slider)"
   ]
  },
  {
   "cell_type": "markdown",
   "metadata": {},
   "source": [
    "This works because the widget implementation separates the backend Python widget object from the frontend widget view. Displaying the same widget twice creates two separate views of the same widget."
   ]
  },
  {
   "cell_type": "markdown",
   "metadata": {},
   "source": [
    "## Linked Widgets\n",
    "A common feature of GUI applications is multiple widgets to edit the same value in different ways, such as a slider and input text box. This is easy to do with ipywidgets:"
   ]
  },
  {
   "cell_type": "code",
   "execution_count": null,
   "metadata": {
    "collapsed": true
   },
   "outputs": [],
   "source": [
    "bounds = (0, 100)\n",
    "# set readout=False, otherwise the editable text readout makes the linked text box redundant\n",
    "a = widgets.FloatSlider(min=bounds[0], max=bounds[1], readout=False)\n",
    "b = widgets.BoundedFloatText(min=bounds[0], max=bounds[1])\n",
    "\n",
    "# Magic happens here: link the value properties of the two widgets\n",
    "mylink = widgets.jslink((a, 'value'), (b, 'value'))\n",
    "\n",
    "# display can handle multiple widgets in one call\n",
    "display(a, b)"
   ]
  },
  {
   "cell_type": "markdown",
   "metadata": {},
   "source": [
    "If required, the widgets can be unlinked via the link object returned from `jslink()`. "
   ]
  },
  {
   "cell_type": "code",
   "execution_count": null,
   "metadata": {
    "collapsed": true
   },
   "outputs": [],
   "source": [
    "mylink.unlink()"
   ]
  },
  {
   "cell_type": "markdown",
   "metadata": {},
   "source": [
    "**After running the previous code cell, try adjust the linked widgets again.**"
   ]
  },
  {
   "cell_type": "markdown",
   "metadata": {},
   "source": [
    "## Widget Sampler\n",
    "In addition the widgets used already, here is a short list of other widgets. For a complete list, see the [Widget List notebook](https://github.com/jupyter-widgets/ipywidgets/blob/master/docs/source/examples/Widget%20List.ipynb) in the ipywidgets documentation.\n",
    "\n",
    "If you want to handle the value change event, just attach an observer to the `value` property."
   ]
  },
  {
   "cell_type": "markdown",
   "metadata": {},
   "source": [
    "### Label\n",
    "Labels are useful for building custom descriptions into your GUI. As well as `Label`, there are also `HTML` and `HTMLMath` widgets. `HTMLMath` is particularly nice as it lets you embed equations with MathJax."
   ]
  },
  {
   "cell_type": "code",
   "execution_count": null,
   "metadata": {
    "collapsed": true
   },
   "outputs": [],
   "source": [
    "description = widgets.Label(value=\"My Control\")\n",
    "# control could be any custom control\n",
    "control = widgets.IntSlider()\n",
    "widgets.HBox([description, control])"
   ]
  },
  {
   "cell_type": "code",
   "execution_count": null,
   "metadata": {
    "collapsed": true
   },
   "outputs": [],
   "source": [
    "description = widgets.HTMLMath(value=\"Select $x$ for calculating $y=x^2$\")\n",
    "# control could be any custom control\n",
    "control = widgets.FloatSlider()\n",
    "widgets.HBox([description, control])"
   ]
  },
  {
   "cell_type": "markdown",
   "metadata": {},
   "source": [
    "### Button"
   ]
  },
  {
   "cell_type": "code",
   "execution_count": null,
   "metadata": {
    "collapsed": true
   },
   "outputs": [],
   "source": [
    "widgets.Button(description='Click me', tooltip='Click me')"
   ]
  },
  {
   "cell_type": "markdown",
   "metadata": {},
   "source": [
    "### FloatRangeSlider"
   ]
  },
  {
   "cell_type": "code",
   "execution_count": null,
   "metadata": {
    "collapsed": true
   },
   "outputs": [],
   "source": [
    "widgets.FloatRangeSlider(\n",
    "    value=[5, 7.5],\n",
    "    min=0,\n",
    "    max=10.0,\n",
    "    step=0.1,\n",
    "    description='Parameter bounds:',\n",
    "    readout=True,\n",
    "    layout=widgets.Layout(width='50%'))"
   ]
  },
  {
   "cell_type": "markdown",
   "metadata": {},
   "source": [
    "### IntProgress"
   ]
  },
  {
   "cell_type": "code",
   "execution_count": null,
   "metadata": {
    "collapsed": true
   },
   "outputs": [],
   "source": [
    "from time import sleep\n",
    "\n",
    "ip = widgets.IntProgress(value=0, min=0, max=19, step=1, description='Doing the work:')\n",
    "display(ip)\n",
    "\n",
    "# Simulate doing some work \n",
    "def do_work():\n",
    "    sleep(0.25)\n",
    "    \n",
    "# Simulate doing a batch of work, updating the progress bar as we go\n",
    "for i in range(20):\n",
    "    do_work()\n",
    "    ip.value = i"
   ]
  },
  {
   "cell_type": "markdown",
   "metadata": {},
   "source": [
    "### Checkbox"
   ]
  },
  {
   "cell_type": "code",
   "execution_count": null,
   "metadata": {
    "collapsed": true
   },
   "outputs": [],
   "source": [
    "widgets.Checkbox(value=False, description='Use double precision', tooltip='Use double precision in the model')"
   ]
  },
  {
   "cell_type": "markdown",
   "metadata": {},
   "source": [
    "### Dropdown\n",
    "For the `options` property, you can supply either a list or a dictionary. For lists, the values are used for both display and selection. If you want to display some strings but have the Dropdown value come from a different set of items, then use a dictionary. The keys are used as the display items and the values are used as the selected value."
   ]
  },
  {
   "cell_type": "code",
   "execution_count": null,
   "metadata": {
    "collapsed": true
   },
   "outputs": [],
   "source": [
    "widgets.Dropdown(\n",
    "    options={'One': 1, 'Two': 2, 'Three': 3},\n",
    "    description='Pick a Number:')"
   ]
  },
  {
   "cell_type": "markdown",
   "metadata": {},
   "source": [
    "### SelectMultiple"
   ]
  },
  {
   "cell_type": "code",
   "execution_count": null,
   "metadata": {
    "collapsed": true
   },
   "outputs": [],
   "source": [
    "widgets.SelectMultiple(\n",
    "    options=['Apples', 'Oranges', 'Pears'],\n",
    "    value=['Oranges'])"
   ]
  },
  {
   "cell_type": "markdown",
   "metadata": {},
   "source": [
    "## Controlling your GUI Layout\n",
    "By default, widgets are displayed in a single column, in the order they are displayed:"
   ]
  },
  {
   "cell_type": "code",
   "execution_count": null,
   "metadata": {
    "collapsed": true
   },
   "outputs": [],
   "source": [
    "buttons = ['one', 'two', 'three', 'four']\n",
    "display(*(widgets.Button(description=d) for d in buttons))"
   ]
  },
  {
   "cell_type": "markdown",
   "metadata": {},
   "source": [
    "This is fine for one or two controls, but it soon becomes limiting for more complex GUIs. The layout widgets will help tame your many controls."
   ]
  },
  {
   "cell_type": "markdown",
   "metadata": {},
   "source": [
    "### Horizontal Boxes"
   ]
  },
  {
   "cell_type": "code",
   "execution_count": null,
   "metadata": {
    "collapsed": true
   },
   "outputs": [],
   "source": [
    "items = [widgets.Button(description=b) for b in buttons]\n",
    "widgets.HBox(items)"
   ]
  },
  {
   "cell_type": "markdown",
   "metadata": {},
   "source": [
    "### Vertical Boxes\n",
    "This example also shows nesting layout widgets for fine-grained control. Here we have vertical boxes nested inside a horizontal box."
   ]
  },
  {
   "cell_type": "code",
   "execution_count": null,
   "metadata": {
    "collapsed": true
   },
   "outputs": [],
   "source": [
    "items = [widgets.Button(description=b) for b in buttons]\n",
    "widgets.HBox([\n",
    "    widgets.VBox([items[0], items[1]]),\n",
    "    widgets.VBox([items[2], items[3]])\n",
    "])"
   ]
  },
  {
   "cell_type": "markdown",
   "metadata": {},
   "source": [
    "### Accordion\n",
    "Perfect for hiding groups of widgets. Box layouts are perfect for grouping multiple widgets into each accordion section."
   ]
  },
  {
   "cell_type": "code",
   "execution_count": null,
   "metadata": {
    "collapsed": true
   },
   "outputs": [],
   "source": [
    "items = [widgets.Button(description=b) for b in buttons]\n",
    "\n",
    "group1 = widgets.HBox([items[0], items[1]])\n",
    "group2 = widgets.HBox([items[2], items[3]])\n",
    "\n",
    "accordion = widgets.Accordion(children=[group1, group2])\n",
    "accordion.set_title(0, 'Group 1')\n",
    "accordion.set_title(1, 'Group 2')\n",
    "accordion"
   ]
  },
  {
   "cell_type": "markdown",
   "metadata": {},
   "source": [
    "### Tabs\n",
    "An alternative to accordion layouts for grouping controls and reducing cognitive overload from presenting too many controls at once."
   ]
  },
  {
   "cell_type": "code",
   "execution_count": null,
   "metadata": {
    "collapsed": true
   },
   "outputs": [],
   "source": [
    "# reuse the same control groups as the Accordion sample\n",
    "tab = widgets.Tab(children=[group1, group2])\n",
    "tab.set_title(0, 'Group 1')\n",
    "tab.set_title(1, 'Group 2')\n",
    "tab"
   ]
  },
  {
   "cell_type": "markdown",
   "metadata": {},
   "source": [
    "### Password Entry\n",
    "ipywidgets does not provide a text input widget that masks the input characters. If you require this behaviour, for example to read a password for authentication, it is possible to use the `getpass()` function. This does not provide interactivity with the  ipywidgets classes, but it works:"
   ]
  },
  {
   "cell_type": "code",
   "execution_count": null,
   "metadata": {
    "collapsed": true
   },
   "outputs": [],
   "source": [
    "import getpass\n",
    "\n",
    "try:\n",
    "    p = getpass.getpass(prompt=\"Password:\")\n",
    "except Exception as err:\n",
    "    print('ERROR:', err)\n",
    "else:\n",
    "    print('You entered:', p)"
   ]
  },
  {
   "cell_type": "markdown",
   "metadata": {},
   "source": [
    "# Data Visualisation\n",
    "Most of you will have seen inline plots with matplotlib, either created directly or with another library such as pandas. For example, let's plot a Lissajous curve for $k_x = 6.03$ and $k_y=8$:"
   ]
  },
  {
   "cell_type": "code",
   "execution_count": null,
   "metadata": {
    "collapsed": true
   },
   "outputs": [],
   "source": [
    "import numpy as np\n",
    "import matplotlib\n",
    "import matplotlib.pyplot as plt\n",
    "%matplotlib inline\n",
    "matplotlib.style.use('bmh')\n",
    "\n",
    "t = np.arange(0, 2*np.pi, 0.01)\n",
    "x = np.cos(6.03 * t)\n",
    "y = np.sin(8 * t)"
   ]
  },
  {
   "cell_type": "code",
   "execution_count": null,
   "metadata": {
    "collapsed": true,
    "scrolled": false
   },
   "outputs": [],
   "source": [
    "plt.figure(figsize=(10,7))\n",
    "plt.plot(y, x);"
   ]
  },
  {
   "cell_type": "markdown",
   "metadata": {},
   "source": [
    "## Using ipywidgets interact\n",
    "Ipywidgets provides an `interact` function that can automatically create UI controls for exploring code and data interactively. There are a large range of options, so I recommend the [tutorial](https://github.com/jupyter-widgets/ipywidgets/blob/master/docs/source/examples/Using%20Interact.ipynb) as a followup if you plan to use `interact`. Here we provide a teaser showing how to combine [matplotlib](https://matplotlib.org/) and `interact` to produce an interactive version of the Lissajous parametric function.\n",
    "\n",
    "Keep in mind that `interact` can generate widgets only for boolean (`Checkbox`), string(`Text`), integer(`IntSlider`), float(`FloatSlider`), list(`Dropdown`), or dictionary(`Dropdown`) parameters. "
   ]
  },
  {
   "cell_type": "code",
   "execution_count": null,
   "metadata": {
    "collapsed": true
   },
   "outputs": [],
   "source": [
    "def lissajous(k_x=2.0, k_y=1.0):\n",
    "    return np.cos(k_x * t), np.sin(k_y * t)\n",
    "\n",
    "# t does not change as a function of k_x or k_y, so keep it out of the function for efficiency\n",
    "t = np.arange(0, 2*np.pi, 0.01)\n",
    "\n",
    "def lissajous_plot(k_x=3.0, k_y=1.0):\n",
    "    x, y = lissajous(k_x, k_y)\n",
    "    plt.figure(figsize=(10,7))\n",
    "    plt.plot(y, x)\n",
    "    plt.show()\n",
    "\n",
    "widgets.interact(lissajous_plot, k_x=(0.1, 40.0, 0.1), k_y=(0.1, 40.0, 0.1));"
   ]
  },
  {
   "cell_type": "markdown",
   "metadata": {},
   "source": [
    "## Plotly\n",
    "There are many matplotlib alternatives. [Plotly](https://plot.ly) is one alternative. As well as the subscription service, the plotly Python libraries are available for [offline use](https://plot.ly/python/offline/) under a free and open source licence. We will explore a couple of offline uses here.\n",
    "\n",
    "Plotly creates plots with a different type of interactivity. Unlike the previous example that allowed us to dynamically explore a function over a range of values, plotly allows rich exploration with a static data set. You can zoom, pan, select and query data values.\n",
    "\n",
    "First, we import the plotly offline code and initialise it for inline use in the notebook (the plotly equivalent to `%matplotlib inline`):"
   ]
  },
  {
   "cell_type": "code",
   "execution_count": null,
   "metadata": {
    "collapsed": true
   },
   "outputs": [],
   "source": [
    "import plotly.graph_objs as go\n",
    "import plotly.offline as py\n",
    "from plotly import __version__ as plotly_version\n",
    "\n",
    "print(plotly_version) # requires version >= 1.9.0\n",
    "py.init_notebook_mode(connected=True)"
   ]
  },
  {
   "cell_type": "markdown",
   "metadata": {},
   "source": [
    "Here is the plotly version of the same Lissajous plot we did with matplotlib:"
   ]
  },
  {
   "cell_type": "code",
   "execution_count": null,
   "metadata": {
    "collapsed": true
   },
   "outputs": [],
   "source": [
    "py.iplot([{\"x\": x, \"y\": y}]);"
   ]
  },
  {
   "cell_type": "markdown",
   "metadata": {},
   "source": [
    "We don't have time to explore every aspect of plotly, but here is the [plotly 3D scatter plot sample](https://plot.ly/python/3d-scatter-plots/), adapted to use the offline libraries:"
   ]
  },
  {
   "cell_type": "code",
   "execution_count": null,
   "metadata": {
    "collapsed": true
   },
   "outputs": [],
   "source": [
    "x, y, z = np.random.multivariate_normal(np.array([0,0,0]), np.eye(3), 800).transpose()\n",
    "\n",
    "trace1 = go.Scatter3d(\n",
    "    x=x,\n",
    "    y=y,\n",
    "    z=z,\n",
    "    mode='markers',\n",
    "    marker=dict(\n",
    "        size=12,\n",
    "        color=z,                # set color to an array/list of desired values\n",
    "        colorscale='Portland',   # choose a colorscale\n",
    "        opacity=0.8))\n",
    "\n",
    "data = [trace1]\n",
    "layout = go.Layout(\n",
    "    margin=dict(\n",
    "        l=0,\n",
    "        r=0,\n",
    "        b=0,\n",
    "        t=0))\n",
    "fig = go.Figure(data=data, layout=layout)\n",
    "py.iplot(fig)"
   ]
  },
  {
   "cell_type": "markdown",
   "metadata": {},
   "source": [
    "# Interactive Maps\n",
    "A library for creating simple interactive maps with panning and zooming, [ipyleaflet](https://github.com/ellisonbg/ipyleaflet) supports annotations such as polygons, markers, and more generally any geojson-encoded geographical data structure.\n",
    "\n",
    "First, the obligatory imports for `ipyleaflet`:"
   ]
  },
  {
   "cell_type": "code",
   "execution_count": null,
   "metadata": {
    "collapsed": true
   },
   "outputs": [],
   "source": [
    "import ipyleaflet"
   ]
  },
  {
   "cell_type": "markdown",
   "metadata": {},
   "source": [
    "Embedding a map is very simple:"
   ]
  },
  {
   "cell_type": "code",
   "execution_count": null,
   "metadata": {
    "collapsed": true
   },
   "outputs": [],
   "source": [
    "m = ipyleaflet.Map(default_tiles=ipyleaflet.TileLayer(opacity=1.0), center=[-31.96775, 115.87825], zoom=11)\n",
    "m"
   ]
  },
  {
   "cell_type": "markdown",
   "metadata": {},
   "source": [
    "ipyleaflet is built on top of ipywidgets, so it works with all the ipywidgets features we have looked at already. For example, `interact()`:"
   ]
  },
  {
   "cell_type": "code",
   "execution_count": null,
   "metadata": {
    "collapsed": true
   },
   "outputs": [],
   "source": [
    "m.interact(zoom=(3, 19, 1))"
   ]
  },
  {
   "cell_type": "markdown",
   "metadata": {},
   "source": [
    "You can easily add and remove layers:"
   ]
  },
  {
   "cell_type": "code",
   "execution_count": null,
   "metadata": {
    "collapsed": true
   },
   "outputs": [],
   "source": [
    "m.remove_layer(m.default_tiles)"
   ]
  },
  {
   "cell_type": "code",
   "execution_count": null,
   "metadata": {
    "collapsed": true
   },
   "outputs": [],
   "source": [
    "m.add_layer(m.default_tiles)"
   ]
  },
  {
   "cell_type": "code",
   "execution_count": null,
   "metadata": {
    "collapsed": true
   },
   "outputs": [],
   "source": [
    "io = ipyleaflet.ImageOverlay(\n",
    "    url='http://ipython.org/_static/IPy_header.png',\n",
    "    bounds=m.bounds,\n",
    "    opacity=0.5)\n",
    "m.add_layer(io)"
   ]
  },
  {
   "cell_type": "code",
   "execution_count": null,
   "metadata": {
    "collapsed": true
   },
   "outputs": [],
   "source": [
    "m.remove_layer(io)"
   ]
  },
  {
   "cell_type": "markdown",
   "metadata": {},
   "source": [
    "Markers, lines and polygons are also straightforward.\n",
    "\n",
    "## Markers:"
   ]
  },
  {
   "cell_type": "code",
   "execution_count": null,
   "metadata": {
    "collapsed": true
   },
   "outputs": [],
   "source": [
    "# first, create a marker\n",
    "marker = ipyleaflet.Marker(location=(-37.8254, 144.9531), title=\"You are here\")\n",
    "marker.visible\n",
    "\n",
    "# Then add it to the map\n",
    "m += marker"
   ]
  },
  {
   "cell_type": "markdown",
   "metadata": {},
   "source": [
    "**Oops, that marker is probably out of view. Centre the map on it and zoom in**"
   ]
  },
  {
   "cell_type": "code",
   "execution_count": null,
   "metadata": {
    "collapsed": true
   },
   "outputs": [],
   "source": [
    "m.center = marker.location\n",
    "m.zoom = 17"
   ]
  },
  {
   "cell_type": "markdown",
   "metadata": {},
   "source": [
    "## Lines:"
   ]
  },
  {
   "cell_type": "code",
   "execution_count": null,
   "metadata": {
    "collapsed": true
   },
   "outputs": [],
   "source": [
    "# First create a polyline and add it\n",
    "pl = ipyleaflet.Polyline(locations=m.bounds_polygon)\n",
    "m += pl\n",
    "\n",
    "# zoom out one step to see the line more clearly\n",
    "m.zoom -= 1"
   ]
  },
  {
   "cell_type": "code",
   "execution_count": null,
   "metadata": {
    "collapsed": true
   },
   "outputs": [],
   "source": [
    "# Properties can be manipulated after adding to the map\n",
    "pl.fill_color = 'green'\n",
    "pl.fill_opacity = 1"
   ]
  },
  {
   "cell_type": "code",
   "execution_count": null,
   "metadata": {
    "collapsed": true
   },
   "outputs": [],
   "source": [
    "m -= pl"
   ]
  },
  {
   "cell_type": "markdown",
   "metadata": {},
   "source": [
    "## Polygons"
   ]
  },
  {
   "cell_type": "code",
   "execution_count": null,
   "metadata": {
    "collapsed": true
   },
   "outputs": [],
   "source": [
    "pg = ipyleaflet.Polygon(\n",
    "    locations=m.bounds_polygon,\n",
    "    weight=3,\n",
    "    color='#F00',\n",
    "    opacity=0.8,\n",
    "    fill_opacity=0.2,\n",
    "    fill_color='#0F0')\n",
    "m += pg"
   ]
  },
  {
   "cell_type": "code",
   "execution_count": null,
   "metadata": {
    "collapsed": true
   },
   "outputs": [],
   "source": [
    "m -= pg"
   ]
  },
  {
   "cell_type": "markdown",
   "metadata": {},
   "source": [
    "## GeoJSON\n",
    "In this example, we create a new map (so we don't have to keep scrolling up), and add a data layer from some publicly available information about [open space parks in Hobart](https://data.gov.au/dataset/open-space-parks/resource/c823d699-5180-4a1f-b649-a78c3a60377f).\n",
    "\n",
    "Additionally, we make use of some ipywidgets controls."
   ]
  },
  {
   "cell_type": "code",
   "execution_count": null,
   "metadata": {
    "collapsed": true
   },
   "outputs": [],
   "source": [
    "import json\n",
    "import requests\n",
    "from ipywidgets import widgets\n",
    "from IPython.display import display"
   ]
  },
  {
   "cell_type": "markdown",
   "metadata": {},
   "source": [
    "Use the requests library to read the GeoJSON data:"
   ]
  },
  {
   "cell_type": "code",
   "execution_count": null,
   "metadata": {
    "collapsed": true
   },
   "outputs": [],
   "source": [
    "url = 'http://data-1.hobartcc.opendata.arcgis.com/datasets/773ad2ecf1304a5fabe9a5e580c11586_0.geojson'\n",
    "r = requests.get(url)\n",
    "data = json.loads(r.text)"
   ]
  },
  {
   "cell_type": "markdown",
   "metadata": {},
   "source": [
    "And then load it into a layer object:"
   ]
  },
  {
   "cell_type": "code",
   "execution_count": null,
   "metadata": {
    "collapsed": true
   },
   "outputs": [],
   "source": [
    "layer = ipyleaflet.GeoJSON(data=data, hover_style={'fillColor': 'red'})"
   ]
  },
  {
   "cell_type": "markdown",
   "metadata": {},
   "source": [
    "Now, define some additional widgets and hook them to the mouse hover events in the map:"
   ]
  },
  {
   "cell_type": "code",
   "execution_count": null,
   "metadata": {
    "collapsed": true
   },
   "outputs": [],
   "source": [
    "label = widgets.Label(layout=widgets.Layout(width='100%'))\n",
    "\n",
    "def hover_handler(event=None, id=None, properties=None):\n",
    "    try:\n",
    "        label.value = properties['Park_Name']\n",
    "    except:\n",
    "        # Some data elements don't have a Park_Name\n",
    "        label.value = ''\n",
    "    \n",
    "layer.on_hover(hover_handler)"
   ]
  },
  {
   "cell_type": "markdown",
   "metadata": {},
   "source": [
    "Finally, create the map, add the layer and display in a vertical layout widget:"
   ]
  },
  {
   "cell_type": "code",
   "execution_count": null,
   "metadata": {
    "collapsed": true
   },
   "outputs": [],
   "source": [
    "m = ipyleaflet.Map(center = [-42.884014670442525, 147.2222900390625], zoom = 11)\n",
    "m.add_layer(layer)\n",
    "widgets.VBox([m, label])"
   ]
  },
  {
   "cell_type": "markdown",
   "metadata": {},
   "source": [
    "# References\n",
    "* [ipywidgets](https://github.com/jupyter-widgets/ipywidgets)\n",
    "* [plotly](https://plot.ly/)\n",
    "* [matplotlib](https://matplotlib.org/)\n",
    "* [ipyleaflets](https://github.com/ellisonbg/ipyleaflet)"
   ]
  }
 ],
 "metadata": {
  "kernelspec": {
   "display_name": "Python 3",
   "language": "python",
   "name": "python3"
  },
  "language_info": {
   "codemirror_mode": {
    "name": "ipython",
    "version": 3
   },
   "file_extension": ".py",
   "mimetype": "text/x-python",
   "name": "python",
   "nbconvert_exporter": "python",
   "pygments_lexer": "ipython3",
   "version": "3.6.1"
  }
 },
 "nbformat": 4,
 "nbformat_minor": 2
}
