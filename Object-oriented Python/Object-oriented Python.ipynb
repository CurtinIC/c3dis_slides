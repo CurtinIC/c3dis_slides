{
 "cells": [
  {
   "cell_type": "markdown",
   "metadata": {},
   "source": [
    "# Background\n",
    "[Object-oriented programming (OOP)](https://en.wikipedia.org/wiki/Object-oriented_programming) is a programming methodology based on objects. An object can be viewed as the combination of data or state and the operations that can be performed on the data (behaviour). The data items are often called fields or attributes while the operations are known as methods. In addition to objects, OOP frequently makes use of a number of other concepts, including abstraction, encapsulation, composition, inheritance, interfaces, and polymorphism. We will examine how most of these concepts can be utilised in Python, but we won't spend too much time on the theory."
   ]
  },
  {
   "cell_type": "markdown",
   "metadata": {},
   "source": [
    "# Topics covered\n",
    "* What is Object-oriented programming?\n",
    "* Classes and Objects\n",
    "    * Defining a class with fields and methods\n",
    "    * Creating an object\n",
    "* Encapsulation: protecting your data\n",
    "* Properties: controlling access to data fields\n",
    "* Inheritance\n",
    "* Special Methods\n",
    "    * Interacting with Notebooks\n",
    "    * Making your objects callable\n",
    "* Static Methods"
   ]
  },
  {
   "cell_type": "markdown",
   "metadata": {},
   "source": [
    "# Classes and Objects\n",
    "In Python, the basis of OOP is the class. A class is the blueprint from which objects are created, while objects are specific instances of a class. For example, I have a coffee cup and water glass sitting on my desk. Both are unique objects, but they could be considered as instances of a more general class of *cups*. Let's explore these relationships with our first Python class. The simplest possible class would be:"
   ]
  },
  {
   "cell_type": "code",
   "execution_count": null,
   "metadata": {
    "collapsed": true
   },
   "outputs": [],
   "source": [
    "class Cup:\n",
    "    pass"
   ]
  },
  {
   "cell_type": "markdown",
   "metadata": {},
   "source": [
    "We have defined a new class, and can now create objects or instances of it:"
   ]
  },
  {
   "cell_type": "code",
   "execution_count": null,
   "metadata": {},
   "outputs": [],
   "source": [
    "coffee_mug = Cup()\n",
    "type(coffee_mug)"
   ]
  },
  {
   "cell_type": "markdown",
   "metadata": {},
   "source": [
    "However, we can't do much with this class. It defines no data and no operations. \n",
    "\n",
    "Let's add some now. To make sure the data fields are initialised correctly, we need to add a special `__init__` method. This is an example of a Python [special method](https://docs.python.org/3/reference/datamodel.html#special-method-names). Python calls these methods in specific circumstances, and some useful special methods are covered later in this notebook. For now, it is enough to know that `__init__` is called when a new object is being initialised."
   ]
  },
  {
   "cell_type": "code",
   "execution_count": null,
   "metadata": {
    "collapsed": true
   },
   "outputs": [],
   "source": [
    "class Cup:\n",
    "    def __init__(self, name, capacity, current_volume):\n",
    "        self.name = name\n",
    "        self.capacity = capacity\n",
    "        self.current_volume = current_volume"
   ]
  },
  {
   "cell_type": "markdown",
   "metadata": {},
   "source": [
    "See the first parameter called `self`? That is how the methods access the specific data for each instance or object. In Python, all (well, almost all - more on that later) class methods need to explicitly specify the `self` reference. This parameter doesn't actually have to be called self. It could be called `this` or `eric` if you wanted, but the Python convention is to use `self`.\n",
    "\n",
    "It is also considered best-practice to initialise all data fields inside the initialiser method. Some Python tools will even give warnings when you fail to do so.\n",
    "\n",
    "You access the data stored in an object via dot notation:"
   ]
  },
  {
   "cell_type": "code",
   "execution_count": null,
   "metadata": {},
   "outputs": [],
   "source": [
    "coffee_mug = Cup('coffee mug', 200, 50)\n",
    "coffee_mug.current_volume"
   ]
  },
  {
   "cell_type": "markdown",
   "metadata": {},
   "source": [
    "We can now create some objects to represent the drinking items on my desk:"
   ]
  },
  {
   "cell_type": "code",
   "execution_count": null,
   "metadata": {},
   "outputs": [],
   "source": [
    "coffee_mug = Cup('coffee mug', 200, 50)\n",
    "water_glass = Cup('large water glass', 400, 300)\n",
    "\n",
    "# It time for another coffee?\n",
    "print(\"{0} is {1} percent full\".format(coffee_mug.name, coffee_mug.current_volume / coffee_mug.capacity * 100))"
   ]
  },
  {
   "cell_type": "markdown",
   "metadata": {},
   "source": [
    "OK, now we can define a cup and store some data in it. But surely it would be easier to move the current status report into the class as well. Let's do that now by adding a method:"
   ]
  },
  {
   "cell_type": "code",
   "execution_count": null,
   "metadata": {
    "collapsed": true
   },
   "outputs": [],
   "source": [
    "class Cup:\n",
    "    def __init__(self, name, capacity, current_volume):\n",
    "        self.name = name\n",
    "        self.capacity = capacity\n",
    "        self.current_volume = current_volume\n",
    "    \n",
    "    def status(self):\n",
    "        return \"{0} is {1:.0f}% full\".format(\n",
    "            self.name,\n",
    "            self.current_volume / self.capacity * 100)"
   ]
  },
  {
   "cell_type": "code",
   "execution_count": null,
   "metadata": {},
   "outputs": [],
   "source": [
    "coffee_mug = Cup('coffee mug', 200, 50)\n",
    "water_glass = Cup('large water glass', 400, 300)\n",
    "coffee_mug.status()"
   ]
  },
  {
   "cell_type": "markdown",
   "metadata": {},
   "source": [
    "What happens if we try to print `coffee_mug` directly?"
   ]
  },
  {
   "cell_type": "code",
   "execution_count": null,
   "metadata": {},
   "outputs": [],
   "source": [
    "print(coffee_mug)"
   ]
  },
  {
   "cell_type": "markdown",
   "metadata": {},
   "source": [
    "By default, Python just prints the object type information and a memory address. Not that useful in this case. Let's look at a second special method: `__str__`. This method is called by Python when you pass an object to `print`."
   ]
  },
  {
   "cell_type": "code",
   "execution_count": null,
   "metadata": {
    "collapsed": true
   },
   "outputs": [],
   "source": [
    "class Cup:\n",
    "    def __init__(self, name, capacity, current_volume):\n",
    "        self.name = name\n",
    "        self.capacity = capacity\n",
    "        self.current_volume = current_volume\n",
    "        \n",
    "    def __str__(self):\n",
    "        return \"{0} is {1:.0f}% full\".format(\n",
    "            self.name,\n",
    "            self.current_volume / self.capacity * 100)\n",
    "    \n",
    "    def status(self):\n",
    "        # Keep the status method, but redirect to the __str__ method\n",
    "        return self.__str__()"
   ]
  },
  {
   "cell_type": "code",
   "execution_count": null,
   "metadata": {},
   "outputs": [],
   "source": [
    "coffee_mug = Cup('coffee mug', 200, 20)\n",
    "print(coffee_mug)"
   ]
  },
  {
   "cell_type": "markdown",
   "metadata": {},
   "source": [
    "Much nicer. And definitely time for a new coffee (or a drink of water)."
   ]
  },
  {
   "cell_type": "markdown",
   "metadata": {},
   "source": [
    "## Hands-on with Simple Classes\n",
    "Try creating a new Cup definition that provides two additional methods. A `sip` method removes 15ml (by default) from the current volume, and a `refill` method that restores the current volume to full."
   ]
  },
  {
   "cell_type": "code",
   "execution_count": null,
   "metadata": {
    "collapsed": true
   },
   "outputs": [],
   "source": [
    "class Cup:\n",
    "    def __init__(self, name, capacity, current_volume):\n",
    "        self.name = name\n",
    "        self.capacity = capacity\n",
    "        self.current_volume = current_volume\n",
    "        \n",
    "    def __str__(self):\n",
    "        if self.current_volume > 0:\n",
    "            return \"{0} is {1:.0f}% full\".format(\n",
    "                self.name,\n",
    "                self.current_volume / self.capacity * 100)\n",
    "        else:\n",
    "            return \"{0} is empty\".format(self.name)\n",
    "    \n",
    "    def status(self):\n",
    "        # Keep the status method, but redirect to the __str__ method\n",
    "        return self.__str__()\n",
    "    \n",
    "    def sip(self, amount=15):\n",
    "        # We guard against reducing the volume below zero, but don't guard against negative amounts.\n",
    "        self.current_volume = max(0, self.current_volume - amount)\n",
    "        print('sip')\n",
    "        # return a reference to self so we can chain method calls\n",
    "        return self\n",
    "        \n",
    "    def refill(self):\n",
    "        self.current_volume = self.capacity\n",
    "        # return a reference to self so we can chain method calls\n",
    "        return self"
   ]
  },
  {
   "cell_type": "code",
   "execution_count": null,
   "metadata": {},
   "outputs": [],
   "source": [
    "coffee_mug = Cup('coffee mug', 200, 200)\n",
    "print(coffee_mug)\n",
    "print(coffee_mug.sip().status())\n",
    "print(coffee_mug.sip().sip().status())\n",
    "\n",
    "coffee_mug.refill()\n",
    "print(coffee_mug)\n",
    "\n",
    "coffee_mug.sip(200)\n",
    "print(coffee_mug)"
   ]
  },
  {
   "cell_type": "markdown",
   "metadata": {},
   "source": [
    "# Encapsulation: Protecting Your Data\n",
    "If we work with the following version of `Cup`, we can quickly reveal a shortcoming relating to data access. First, the class definition:"
   ]
  },
  {
   "cell_type": "code",
   "execution_count": null,
   "metadata": {
    "collapsed": true
   },
   "outputs": [],
   "source": [
    "class Cup:\n",
    "    def __init__(self, name, capacity, current_volume):\n",
    "        self.name = name\n",
    "        self.capacity = capacity\n",
    "        self.current_volume = current_volume\n",
    "        \n",
    "    def __str__(self):\n",
    "        if self.current_volume > 0:\n",
    "            return \"{0} can hold {1} ml and currently holds {2} ml ({3:.0f}% full)\".format(\n",
    "                self.name,\n",
    "                self.capacity,\n",
    "                self.current_volume,\n",
    "                self.current_volume / self.capacity * 100)\n",
    "        else:\n",
    "            return \"{0} is empty\".format(self.name)"
   ]
  },
  {
   "cell_type": "markdown",
   "metadata": {},
   "source": [
    "Now, let's try to create mischief!"
   ]
  },
  {
   "cell_type": "code",
   "execution_count": null,
   "metadata": {},
   "outputs": [],
   "source": [
    "magic_cup = Cup('magic cup', 100, 50)\n",
    "print(magic_cup)"
   ]
  },
  {
   "cell_type": "markdown",
   "metadata": {},
   "source": [
    "That makes sense. But that cup is too large ..."
   ]
  },
  {
   "cell_type": "code",
   "execution_count": null,
   "metadata": {},
   "outputs": [],
   "source": [
    "# Make it smaller\n",
    "magic_cup.capacity = 10\n",
    "print(magic_cup)"
   ]
  },
  {
   "cell_type": "markdown",
   "metadata": {},
   "source": [
    "500% full? That is magic.\n",
    "\n",
    "The problem is that by allowing direct access to the data fields, it is easy to get an object into an inconsistent state. Python provides some tools for reducing but not completely preventing this problem."
   ]
  },
  {
   "cell_type": "markdown",
   "metadata": {},
   "source": [
    "## Public, Protected, and Private\n",
    "Many Object-oriented languages have a concept of levels of access for class data. Typically these are called *public*, *protected*, and *private*. The syntax varies between languages, but the semantics are that public data is freely accessible from outside the class, protected data is only accessible by the class and any subclasses (covered more fully in the inheritance section of this notebook), while private data is not even accessible by subclasses.\n",
    "\n",
    "Provision for data access levels is part of a concept called *encapsulation* or information hiding.\n",
    "\n",
    "By default, everything in a Python class is **public**.\n",
    "\n",
    "We are not talking about trying to hide all data fields all the time, just when it makes sense to do so."
   ]
  },
  {
   "cell_type": "markdown",
   "metadata": {},
   "source": [
    "### Implementing Protected Data\n",
    "The Python language doesn't provide a method to define protected data. But there is a convention to prepend a single underscore to protected fields. Although the language doesn't enforce anything, following this convention makes it clear to users of your class that directly modifying some fields is not part of the design."
   ]
  },
  {
   "cell_type": "code",
   "execution_count": null,
   "metadata": {
    "collapsed": true
   },
   "outputs": [],
   "source": [
    "class Cup:\n",
    "    def __init__(self, name, capacity, current_volume):\n",
    "        self._name = name\n",
    "        self._capacity = capacity\n",
    "        self._current_volume = current_volume\n",
    "        \n",
    "    def __str__(self):\n",
    "        if self._current_volume > 0:\n",
    "            return \"{0} can hold {1} ml and currently holds {2} ml ({3:.0f}% full)\".format(\n",
    "                self._name,\n",
    "                self._capacity,\n",
    "                self._current_volume,\n",
    "                self._current_volume / self._capacity * 100)\n",
    "        else:\n",
    "            return \"{0} is empty\".format(self._name)"
   ]
  },
  {
   "cell_type": "code",
   "execution_count": null,
   "metadata": {},
   "outputs": [],
   "source": [
    "magic_cup = Cup('magic cup', 100, 50)\n",
    "magic_cup._capacity = 25\n",
    "print(magic_cup)"
   ]
  },
  {
   "cell_type": "markdown",
   "metadata": {},
   "source": [
    "So, no data encapsulation at all but at least the intent is clearer."
   ]
  },
  {
   "cell_type": "markdown",
   "metadata": {},
   "source": [
    "### Implementing Private Data\n",
    "Fortunately for fans of encapsulation, Python does provide a data hiding method that is enforced (partly). It does this by applying [name mangling](https://en.wikipedia.org/wiki/Name_mangling#Name_mangling_in_Python) to any member name that is **prefixed with at least two underscores, and suffixed with no more than one underscore**. The mangled name is converted to `_<classname><membername>`. Let's have a look ..."
   ]
  },
  {
   "cell_type": "code",
   "execution_count": null,
   "metadata": {
    "collapsed": true
   },
   "outputs": [],
   "source": [
    "class Cup:\n",
    "    def __init__(self, name, capacity, current_volume):\n",
    "        self.__name = name\n",
    "        self.__capacity = capacity\n",
    "        self.__current_volume = current_volume\n",
    "        \n",
    "    def __str__(self):\n",
    "        if self.__current_volume > 0:\n",
    "            return \"{0} can hold {1} ml and currently holds {2} ml ({3:.0f}% full)\".format(\n",
    "                self.__name,\n",
    "                self.__capacity,\n",
    "                self.__current_volume,\n",
    "                self.__current_volume / self.__capacity * 100)\n",
    "        else:\n",
    "            return \"{0} is empty\".format(self.__name)"
   ]
  },
  {
   "cell_type": "code",
   "execution_count": null,
   "metadata": {},
   "outputs": [],
   "source": [
    "magic_cup = Cup('magic cup', 100, 50)\n",
    "dir(magic_cup)"
   ]
  },
  {
   "cell_type": "markdown",
   "metadata": {},
   "source": [
    "See the name-mangled fields for capacity, current volume, and name? Now try to modify the size ..."
   ]
  },
  {
   "cell_type": "code",
   "execution_count": null,
   "metadata": {},
   "outputs": [],
   "source": [
    "magic_cup = Cup('magic cup', 100, 50)\n",
    "print('before: ', magic_cup)\n",
    "magic_cup.__capacity = 10\n",
    "print('after:  ', magic_cup)"
   ]
  },
  {
   "cell_type": "markdown",
   "metadata": {},
   "source": [
    "Note that trying to set the value didn't raise any errors (what do you think actually happened?), but we didn't succeed in putting the object into an inconsistent state.\n",
    "\n",
    "However, the mangled names are still actually accessible if you really try, so everything really is public after all. This is a really bad idea though."
   ]
  },
  {
   "cell_type": "code",
   "execution_count": null,
   "metadata": {},
   "outputs": [],
   "source": [
    "magic_cup._Cup__capacity = 10\n",
    "print(magic_cup)"
   ]
  },
  {
   "cell_type": "markdown",
   "metadata": {},
   "source": [
    "# Elegant Encapsulation with Properties\n",
    "We have looked at some methods of data encapsulation through naming conventions and name mangling. But what if we want users of our `Cup` class to have a simple but robust way of adjusting the capacity? A way that includes error checks but still looks likes direct access to a public field. I want to be able to write `my_cup.capacity = 50` but still avoid inconsistencies. Fortunately for us Python provides a way to do just that: the `@property` decorator.\n",
    "\n",
    "Using decorators requires the class implementer to write more code, so they needn't be used on everything. Name mangling is sufficient for fields that don't need any public access, and if you have no need of any additional logic when a value is accessed, then a public field will be fine. Additionally, because public fields and properties look the same from the outside, you can easily start with public data and then switch to properties later without having to change the client code.\n",
    "\n",
    "Let's see how to write a new `Cup` class with a capacity property."
   ]
  },
  {
   "cell_type": "code",
   "execution_count": null,
   "metadata": {
    "collapsed": true
   },
   "outputs": [],
   "source": [
    "class Cup:\n",
    "    def __init__(self, name, capacity, current_volume):\n",
    "        # There is no reason for name to be private or a property. It's just a name.\n",
    "        self.name = name\n",
    "        self._current_volume = current_volume\n",
    "        \n",
    "        # When using properties, the property should be called from other class methods.\n",
    "        # It is a good practice to only access the private backing field from the property \n",
    "        # accessors themselves.\n",
    "        self.capacity = capacity\n",
    "        \n",
    "    # First we define a normal method for returning the property value.\n",
    "    # The name of the method is the name we want for the public property.\n",
    "    @property\n",
    "    def capacity(self):\n",
    "        # In this case we are returning the private value,\n",
    "        # but you can also define properties that return derived values.\n",
    "        return self.__capacity\n",
    "    \n",
    "    # Now we define a second method with the same name. \n",
    "    # This method contains the logic for setting the property value.\n",
    "    @capacity.setter\n",
    "    def capacity(self, capacity):\n",
    "        # Store the new capacity\n",
    "        # This might not be the best approach, but for simplicity treat\n",
    "        # negative values as 0\n",
    "        self.__capacity = max(0, capacity)\n",
    "            \n",
    "        # Spill any excess liquid\n",
    "        self._current_volume = min(self._current_volume, self.capacity)\n",
    "        \n",
    "    def refill(self):\n",
    "        self._current_volume = self.capacity\n",
    "        \n",
    "    def __str__(self):\n",
    "        if self._current_volume > 0:\n",
    "            return \"{0} can hold {1} ml and currently holds {2} ml ({3:.0f}% full)\".format(\n",
    "                self.name,\n",
    "                self.capacity,\n",
    "                self._current_volume,\n",
    "                self._current_volume / self.capacity * 100)\n",
    "        else:\n",
    "            return \"{0} is empty\".format(self.name)"
   ]
  },
  {
   "cell_type": "code",
   "execution_count": null,
   "metadata": {},
   "outputs": [],
   "source": [
    "coffee = Cup(\"Espresso!\", 80, 40)\n",
    "print(coffee)\n",
    "\n",
    "# I don't want an espresso. Make it a long black\n",
    "coffee.name = \"long black\"\n",
    "coffee.capacity = 200\n",
    "coffee.refill()\n",
    "print(coffee)\n",
    "\n",
    "# Actually, can I have an espresso after all?\n",
    "coffee.name = \"make up your mind!\"\n",
    "coffee.capacity = 80\n",
    "print(coffee)\n",
    "\n",
    "# Uh oh, I dropped and smashed the cup\n",
    "coffee.capacity = -1\n",
    "print(coffee)"
   ]
  },
  {
   "cell_type": "markdown",
   "metadata": {},
   "source": [
    "That's a bit nicer. Just as simple to use as public data, but increased safety. Hooray!"
   ]
  },
  {
   "cell_type": "markdown",
   "metadata": {},
   "source": [
    "## Read-only Properties and Monkey Patching\n",
    "Let's look at adding a read-only property that returns a dynamically calculated value. Also, I am getting tired of pasting the entire class definition each time, so lets look at a technique called *monkey patching*. \n",
    "\n",
    "What is a monkey patch? First, unlike some other languages, classes in Python are just objects. *Mutable* objects. So we can change the class definition after the fact. A monkey patch is simply the name given to code that modifies the definition of a class after the class has been defined. It's not a good idea to do this all the time. Code can get hard to understand when you can't trust the class definition. But it is something you will see in existing code, and used wisely monkey patching is a valuable technique."
   ]
  },
  {
   "cell_type": "code",
   "execution_count": null,
   "metadata": {},
   "outputs": [],
   "source": [
    "# First, define the function that will become the new class method\n",
    "@property\n",
    "def percent_full(self):\n",
    "    if self.capacity > 0:\n",
    "        return self._current_volume / self.capacity * 100\n",
    "    else:\n",
    "        return 0\n",
    "\n",
    "# now monkey patch the new property into the existing Cup class\n",
    "Cup.percent_full = percent_full\n",
    "\n",
    "# Let's try it out\n",
    "patched_coffee = Cup(\"patched\", 200, 150)\n",
    "print(patched_coffee)\n",
    "print(patched_coffee.percent_full)"
   ]
  },
  {
   "cell_type": "markdown",
   "metadata": {},
   "source": [
    "It works. But is it read-only?"
   ]
  },
  {
   "cell_type": "code",
   "execution_count": null,
   "metadata": {},
   "outputs": [],
   "source": [
    "try:\n",
    "    patched_coffee.percent_full = 40\n",
    "except:\n",
    "    print(\"Yep, can't set the property\")"
   ]
  },
  {
   "cell_type": "markdown",
   "metadata": {},
   "source": [
    "# Inheritance\n",
    "An aspect of OOP that we have yet to look at is inheritance. Inheritance allows you to derive a new class from an existing one to build up a hierarchy of related classes that differ in key ways. Typical examples include building a class hierarchy to draw shapes on a screen. You may have a `Shape` class with all the common data and behaviours (position, color etc), and then derive sub-classes to define specialised shapes: `Circle`, `Square` etc. The sub-classes add the unique data and behaviours required for just that one type of shape.\n",
    "\n",
    "I don't want to get drawn too deeply into the principles, benefits, and risks of inheritance hierarchies here. The goal is to look at how to implement inheritance in Python. Whether building a class hierarchy is a good idea for your application is a much harder question to answer.\n",
    "\n",
    "In [Learn Python the Hard Way](https://learnpythonthehardway.org/book/ex44.html) inheritance is described as an evil forest full of traps, dangers, and complexity. I highly recommend reading that linked chapter of Learn Python the Hard Way. It describes quite clearly some of the complexities that inheritance can lead to, and an alternative solution known as composition or aggregation. Be that as it may, inheritance is everywhere in Python, so it pays to understand the basics. \n",
    "\n",
    "## Terminology\n",
    "* A class can inherit attributes and methods from another class, called the ***superclass*** or ***parent class***.\n",
    "* A class which inherits from a superclass is called a ***subclass*** or ***child class***.\n",
    "\n",
    "## New Style Objects vs Old Style Objects\n",
    "What was that about inheritance being everywhere in Python? In Python 3, all classes implicitly inherit from a special system class called `object`. The `object` class provides core functionality that is common to all Python objects. So all the `Cup` classes we have created have already been using inheritance implicitly. If you paid attention to the output from `dir(Cup)`, you will have noticed a whole bunch of items that we didn't define. They come from `object`."
   ]
  },
  {
   "cell_type": "code",
   "execution_count": null,
   "metadata": {},
   "outputs": [],
   "source": [
    "dir(Cup)"
   ]
  },
  {
   "cell_type": "code",
   "execution_count": null,
   "metadata": {},
   "outputs": [],
   "source": [
    "dir(object)"
   ]
  },
  {
   "cell_type": "markdown",
   "metadata": {},
   "source": [
    "So what about new-style and old-style objects? In Python 2.2, a new type of object was introduced. This *new style* object had different functionality and a different implementation. The original object implementation was labeled *old style*. To retain  backwards compatibility, old style objects remained the default in Python 2. To use new style objects in Python 2, you had to explicitly inherit from the new `object` class:\n",
    "\n",
    "```python\n",
    "    def OldStyleIn2_NewStyleIn3:\n",
    "        pass\n",
    "        \n",
    "    def NewStyleIn2and3(object):\n",
    "        pass\n",
    "```\n",
    "\n",
    "In Python 3, old style objects have been removed completely. You always get a new style object regardless of whether you explicitly or implicitly inherit from `object`. One consequence of this is that in order to write universal code that runs with Python 2 and Python 3, it is a good practice to explicitly inherit from `object`."
   ]
  },
  {
   "cell_type": "markdown",
   "metadata": {},
   "source": [
    "## The Three Basic Uses of Inheritance\n",
    "I mentioned that the [Learn Python the Hard Way chapter on inheritance](https://learnpythonthehardway.org/book/ex44.html) is well worth reading. In fact, it is hard to think of a clearer description of the 3 basic uses of inheritance. I will therefore summarise part of the chapter here, but please follow up with the book itself for the second part of the discussion on replacing inheritance with composition.\n",
    "\n",
    "When creating a subclass, there are typically three basic goals:\n",
    "1. Actions on the child imply an action on the parent.\n",
    "2. Actions on the child override or replace an action on the parent.\n",
    "3. Actions on the child modify the action on the parent.\n",
    "\n",
    "Let's look at each of these in turn. "
   ]
  },
  {
   "cell_type": "markdown",
   "metadata": {},
   "source": [
    "### Implied Actions on the Parent\n",
    "This happens when a subclass inherits an operation as-is, without making any modifications."
   ]
  },
  {
   "cell_type": "code",
   "execution_count": null,
   "metadata": {},
   "outputs": [],
   "source": [
    "class Parent(object):\n",
    "    def implicit(self):\n",
    "        print(\"{0} calling Parent implicit()\".format(type(self)))\n",
    "        \n",
    "class Child(Parent):\n",
    "    pass\n",
    "\n",
    "dad = Parent()\n",
    "son = Child()\n",
    "\n",
    "dad.implicit()\n",
    "son.implicit()"
   ]
  },
  {
   "cell_type": "markdown",
   "metadata": {},
   "source": [
    "You can see that `Parent.implicit` is called regardless of whether the method was called on an object of type `Parent` or of type `Child`. Calling `implicit()` on `son` implicitly called the method from the superclass."
   ]
  },
  {
   "cell_type": "markdown",
   "metadata": {},
   "source": [
    "### Overriding Actions on the Parent\n",
    "Sometimes the reason we create a subclass is so the subclass can do things differently. Replacing the functionality of a superclass is called *overriding* that functionality."
   ]
  },
  {
   "cell_type": "code",
   "execution_count": null,
   "metadata": {},
   "outputs": [],
   "source": [
    "class Parent(object):\n",
    "    def override(self):\n",
    "        print(\"{0} calling Parent override()\".format(type(self)))\n",
    "                \n",
    "class Child(Parent):\n",
    "     def override(self):\n",
    "        print(\"{0} calling Child override()\".format(type(self)))\n",
    "\n",
    "dad = Parent()\n",
    "son = Child()\n",
    "\n",
    "dad.override()\n",
    "son.override()"
   ]
  },
  {
   "cell_type": "markdown",
   "metadata": {},
   "source": [
    "So in this case, the version of the `override()` method depends on the type of the object making the call. Call `override()` on a `Parent` type and you get the `Parent.override()` method. Call `override()` on a `Child` type and you get the `Child.override()` method.\n",
    "\n",
    "In the original example of defining shape classes, overriding could be used to define the `draw()` methods, allowing each shape to draw itself in a different way."
   ]
  },
  {
   "cell_type": "markdown",
   "metadata": {},
   "source": [
    "### Modifying the Actions of a Parent"
   ]
  },
  {
   "cell_type": "code",
   "execution_count": null,
   "metadata": {},
   "outputs": [],
   "source": [
    "class Parent(object):\n",
    "    def altered(self):\n",
    "        print(\"{0} calling Parent altered()\".format(type(self)))\n",
    "        \n",
    "class Child(Parent):\n",
    "\n",
    "    def altered(self):\n",
    "        print(\"Child, doing some work before calling Parent altered()\")\n",
    "        super().altered()\n",
    "        print(\"Child, doing some work after calling Parent altered()\")\n",
    "\n",
    "dad = Parent()\n",
    "son = Child()\n",
    "\n",
    "dad.altered()\n",
    "print()\n",
    "son.altered()"
   ]
  },
  {
   "cell_type": "markdown",
   "metadata": {},
   "source": [
    "Here we can see the subclass doing work both before and after calling the superclass. This code also introduces the `super()` function. `super()` hides some complex functionality, particularly when multiple inheritance is being used, but the gist is that it resolves to the next superclass. In a linear hierarchy like we have here, the next superclass is the immediate parent class. In Python 2, you need to supply the current class name and the self reference, so `super()` becomes `super(Child, self)`.\n",
    "\n",
    "Although it might be regarded as a [code smell](https://en.wikipedia.org/wiki/Code_smell), it is possible to explicitly call a specific superclass in the hierarchy."
   ]
  },
  {
   "cell_type": "code",
   "execution_count": null,
   "metadata": {},
   "outputs": [],
   "source": [
    "class Grandparent(object):\n",
    "    def do_something(self):\n",
    "        print(\"{0}: Grandparent.do_something()\".format(type(self)))\n",
    "        \n",
    "class Parent(Grandparent):\n",
    "    def do_something(self):\n",
    "        # override Grandparent.do_something()\n",
    "        print(\"{0}: Parent.do_something()\".format(type(self)))\n",
    "        \n",
    "class Child(Parent):\n",
    "    def do_something(self):\n",
    "        # Do something ourselves\n",
    "        print(\"{0}: Child.do_something()\".format(type(self)))\n",
    "        # Then call Grandparent.do_something(), bypassing the Parent override\n",
    "        # This works because a class is also the name of an object, so read this line as\n",
    "        # \"call the do_something method on the class object called Grandparent, and pass self as the data reference\"\n",
    "        Grandparent.do_something(self)\n",
    "        \n",
    "    def do_something_with_super(self):\n",
    "        # Do something ourselves\n",
    "        print(\"{0}: Child.do_something_with_super()\".format(type(self)))\n",
    "        super().do_something()\n",
    "        \n",
    "child = Child()\n",
    "child.do_something()\n",
    "print()\n",
    "child.do_something_with_super()"
   ]
  },
  {
   "cell_type": "markdown",
   "metadata": {},
   "source": [
    "## __init__: the most common use of super()\n",
    "I want to finish this section on inheritance with the most common use of `super()`: making sure all classes in a hierarchy are correctly initialised. Consider a new class hierarchy that extends our `Cup` class into a more general `Container` superclass and a `Cup` subclass. Containers hold things but you can't drink from them. Cups do everything a container does while adding the ability to drink their contents. For the sake of brevity, we omit any error checks, methods, and properties that might make sense for these classes but are not required to illustrate the correct initialisation of superclasses."
   ]
  },
  {
   "cell_type": "code",
   "execution_count": null,
   "metadata": {},
   "outputs": [],
   "source": [
    "class Container(object):\n",
    "    def __init__(self, name='container', current_volume=0, capacity=1000):\n",
    "        self.name = name\n",
    "        self.current_volume = current_volume\n",
    "        self.capacity = capacity\n",
    "        \n",
    "    def __str__(self):\n",
    "        return '{0} holds {1}/{2}'.format(self.name, self.current_volume, self.capacity)\n",
    "    \n",
    "class Cup(Container):\n",
    "    # Override the superclass __init__ so we can define different default values\n",
    "    def __init__(self, name='cup', current_volume=0, capacity=200):\n",
    "        # Now call __init__ on the superclass, passing in the required data\n",
    "        super().__init__(name, current_volume, capacity)\n",
    "        \n",
    "    def drink(self, amount=10):\n",
    "        print('Drinking ', amount)\n",
    "        self.current_volume = max(self.current_volume - amount, 0)\n",
    "        \n",
    "container = Container()\n",
    "print(container)\n",
    "\n",
    "cup = Cup(current_volume=150)\n",
    "cup.drink()\n",
    "\n",
    "print(cup)\n",
    "\n",
    "# you can drink from a cup, but not a container?\n",
    "container.drink()"
   ]
  },
  {
   "cell_type": "markdown",
   "metadata": {},
   "source": [
    "In the above code cell, calling `print(cup)` is an example of substitutability or [subtype polymorphism](https://en.wikipedia.org/wiki/Subtyping). Any valid code written for a superclass (`Container`) should be expected to execute when a subclass is substituted. When calling `print`, we didn't have to check what type of object we had, so long as it implemented `__str__`. Since a default version of `__str__` is provided by the `object` class, we can substitute any class.\n",
    "\n",
    "However, not every class defines a `drink` method. Not even `Container` defines it. So if we want to call `drink` we need to make sure that we have the right type of object. One way to do this is with `isinstance`, an example of [*look before you leap (LBYL)*](https://docs.python.org/3/glossary.html#term-lbyl) coding style:"
   ]
  },
  {
   "cell_type": "code",
   "execution_count": null,
   "metadata": {},
   "outputs": [],
   "source": [
    "if isinstance(container, Cup):\n",
    "    container.drink()\n",
    "else:\n",
    "    print(\"Can't drink\")"
   ]
  },
  {
   "cell_type": "markdown",
   "metadata": {},
   "source": [
    "Some would argue that this is not pythonic, since it breaks the principle of [*duck typing*](https://en.wikipedia.org/wiki/Duck_typing) - the idea that if something looks like a duck then it is a duck. In Python this means that often we don't actually care what type of objects we have so long as they define the methods we want to call (walk like a duck). \n",
    "\n",
    "So if we wanted to drink from something without checking for an explicit type, one way might be to use an [*easier to ask for forgiveness than permission (EAFP)*](https://docs.python.org/3/glossary.html#term-eafp) coding style:"
   ]
  },
  {
   "cell_type": "code",
   "execution_count": null,
   "metadata": {},
   "outputs": [],
   "source": [
    "try:\n",
    "    container.drink()\n",
    "except:\n",
    "    print(\"Can't drink\")"
   ]
  },
  {
   "cell_type": "markdown",
   "metadata": {},
   "source": [
    "For one thing, this means that the code won't break if the class hierarchy gets changed so that more than one subclass (or the `Container` class itself) supports drinking. In fact, the second version will work for anything that provides a `drink` method, regardless of whether it is related to the `Container` class or not."
   ]
  },
  {
   "cell_type": "markdown",
   "metadata": {},
   "source": [
    "# Special Methods\n",
    "Recall that [special methods](https://docs.python.org/3/reference/datamodel.html#special-method-names) are called by Python in specific circumstances. We have already seen the `__init__` method that is called when creating a new object, and the `__str__` method called when an object is passed to `print`. We won't explore the full set of special methods here, just some of the more commonly useful ones."
   ]
  },
  {
   "cell_type": "markdown",
   "metadata": {},
   "source": [
    "## \\__init__\n",
    "When creating a new object, `__init__` is called after `__new__` but before returning the object to the caller. Typically init is used to initialise the object. Also, if the class inherits from anything other than `object`, the init definition should also call init on the superclass."
   ]
  },
  {
   "cell_type": "markdown",
   "metadata": {},
   "source": [
    "## \\__str__\n",
    "Called by `str(object)` and `print(object)`, this method should return a string that represents a *pretty-printed* or informative description of the object. The default implementation calls `__repr__`."
   ]
  },
  {
   "cell_type": "markdown",
   "metadata": {},
   "source": [
    "## \\__repr__\n",
    "Called by the `repr()` built-in function to retrieve the official string representation of an object. The Python documentation suggests that the string represent valid Python expression that could be used to recreate the object. Sometimes this can be done, and sometimes it can't. Note that the default implementation for custom classes just returns the class name and the memory address of the object. This is useful for debugging but can't be used to recreate the specific object."
   ]
  },
  {
   "cell_type": "code",
   "execution_count": null,
   "metadata": {},
   "outputs": [],
   "source": [
    "repr(cup)"
   ]
  },
  {
   "cell_type": "code",
   "execution_count": null,
   "metadata": {},
   "outputs": [],
   "source": [
    "class Container(object):\n",
    "    def __init__(self, name='container', current_volume=0, capacity=1000):\n",
    "        self.name = name\n",
    "        self.current_volume = current_volume\n",
    "        self.capacity = capacity\n",
    "        \n",
    "    def __str__(self):\n",
    "        return '{0} holds {1}/{2}'.format(self.name, self.current_volume, self.capacity)\n",
    "    \n",
    "    def __repr__(self):\n",
    "        return 'Container(name={0}, current_volume={1}, capacity={2})'.format(\n",
    "            self.name,\n",
    "            self.current_volume,\n",
    "            self.capacity)\n",
    "    \n",
    "c = Container()\n",
    "print(str(c))\n",
    "print(repr(c))"
   ]
  },
  {
   "cell_type": "markdown",
   "metadata": {},
   "source": [
    "## \\_repr\\_html_\n",
    "Strictly speaking, `_repr_html_` is not a Python special method (note the single underscores - core special methods all use double underscores). This method is [supported by Jupyter notebooks](http://ipython.readthedocs.io/en/stable/config/integrating.html?highlight=_repr_) to display a richer version of your objects. This is how pandas data frames manage to look so pretty - they provide a `_repr_html_` method that returns a nicely formatted HTML table. In addition to HTML, other methods are supported for formats such as svg, png, jpeg, javascript, and latex. If these methods don't exist, or if they return `None`, then the output from `__repr__` is used instead."
   ]
  },
  {
   "cell_type": "code",
   "execution_count": null,
   "metadata": {},
   "outputs": [],
   "source": [
    "# Monkey patch into the previous Container definition\n",
    "def _repr_html_(self):\n",
    "    return '<span style=\"color:green\"><h1>{0}</h1></span><span style=\"color:blue\">{1}/{2}</span>'.format(\n",
    "        self.name, self.current_volume, self.capacity)\n",
    "\n",
    "Container._repr_html_ = _repr_html_\n",
    "\n",
    "Container()"
   ]
  },
  {
   "cell_type": "markdown",
   "metadata": {},
   "source": [
    "## \\__call__\n",
    "Called when the instance is *called* as a function; if this method is defined, `x(arg1, arg2, ...)` is a shorthand for `x.__call__(arg1, arg2, ...)`.\n",
    "\n",
    "This special method essentially lets you call an object as though it was a function. Let's look at an interesting use of call to define a decorator. I am leaving out comments this time. See if you can figure out how it all works."
   ]
  },
  {
   "cell_type": "code",
   "execution_count": null,
   "metadata": {},
   "outputs": [],
   "source": [
    "class FunctionWrapper(object):\n",
    "\n",
    "    def __init__(self, arg1, arg2=5):\n",
    "        self.arg1 = arg1\n",
    "        self.arg2 = arg2\n",
    "        \n",
    "    def __str__(self):\n",
    "        return 'arg1={0}, arg2={1}'.format(self.arg1, self.arg2)\n",
    "\n",
    "    def __call__(self, f):\n",
    "        def new_f():\n",
    "            print(\"Entering\", f.__name__)\n",
    "            print(self)\n",
    "            f()\n",
    "            print(\"Leaving\", f.__name__)\n",
    "        return new_f\n",
    "\n",
    "\n",
    "@FunctionWrapper(\"Eric the half a bee\")\n",
    "def hello():\n",
    "    print(\"Hello\")\n",
    "    \n",
    "hello()"
   ]
  },
  {
   "cell_type": "markdown",
   "metadata": {},
   "source": [
    "## \\__bool__\n",
    "Called when an object is used where a boolean value is expected, or if passed to the built in `bool` function."
   ]
  },
  {
   "cell_type": "code",
   "execution_count": null,
   "metadata": {},
   "outputs": [],
   "source": [
    "class Container(object):\n",
    "    def __init__(self, name='container', current_volume=0, capacity=1000):\n",
    "        self.name = name\n",
    "        self.current_volume = current_volume\n",
    "        self.capacity = capacity\n",
    "        \n",
    "    def __str__(self):\n",
    "        return '{0} holds {1}/{2}'.format(self.name, self.current_volume, self.capacity)\n",
    "    \n",
    "    def __bool__(self):\n",
    "        \"Returns True if the container contains something, or False if it is empty.\"\n",
    "        return self.current_volume > 0\n",
    "    \n",
    "class Cup(Container):\n",
    "    # Override the superclass __init__ so we can define different default values\n",
    "    def __init__(self, name='cup', current_volume=0, capacity=200):\n",
    "        # Now call __init__ on the superclass, passing in the required data\n",
    "        super().__init__(name, current_volume, capacity)\n",
    "        \n",
    "    def drink(self, amount=10):\n",
    "        self.current_volume = max(self.current_volume - amount, 0)\n",
    "\n",
    "        \n",
    "coffee = Cup(\"coffee\", current_volume=50)\n",
    "\n",
    "# note how we are relying on the __bool__ behaviour inherited from the superclass\n",
    "while coffee:\n",
    "    print('drink some coffee')\n",
    "    coffee.drink()\n",
    "\n",
    "print('all gone')"
   ]
  },
  {
   "cell_type": "markdown",
   "metadata": {},
   "source": [
    "## Comparison Methods\n",
    "Python supports a number of special methods that all deal with how comparisons (greater than, equals, less than, etc) should be defined for a class. For details of their implementation I refer you to the [Python documentation](https://docs.python.org/3/reference/datamodel.html#object.__lt__)."
   ]
  },
  {
   "cell_type": "markdown",
   "metadata": {},
   "source": [
    "# Static Methods\n",
    "So far, all the methods we have defined have had `self` as the first argument. But what if you have a method that never needs to access data or methods via `self`? You could define a `self` argument and then not use it. But users of your class will still need to have an object to call the method. Consider that you are creating a class to represent email addresses, and you want a method that checks whether a given string represents a valid email address:"
   ]
  },
  {
   "cell_type": "code",
   "execution_count": null,
   "metadata": {},
   "outputs": [],
   "source": [
    "class NotVeryUsefulEmail(object):   \n",
    "    # To call this you need an object\n",
    "    # And yes, I know this is a pointless and terrible implementation ...\n",
    "    def is_valid(self, email):\n",
    "        parts = email.split('@')\n",
    "        if len(parts) == 2:\n",
    "            return len(parts[0]) > 0 and len(parts[1]) > 0\n",
    "        return False\n",
    "    \n",
    "my_email = \"eric@monty.python\"\n",
    "\n",
    "# To call the not very useful validation method, we need an object\n",
    "validator = NotVeryUsefulEmail()\n",
    "print(validator.is_valid(my_email))\n",
    "\n",
    "# Or we need to jump through strange hoops\n",
    "print(NotVeryUsefulEmail.is_valid(None, my_email))"
   ]
  },
  {
   "cell_type": "markdown",
   "metadata": {},
   "source": [
    "Definitely not very useful. In OOP jargon, a method that doesn't require a reference to an object instance (`self` in Python) is called a *static method*. Python provides a `staticmethod` decorator for just this purpose:"
   ]
  },
  {
   "cell_type": "code",
   "execution_count": null,
   "metadata": {},
   "outputs": [],
   "source": [
    "class Email(object):   \n",
    "    # The staticmethod decorator indicates that this method doesn't require a self reference\n",
    "    @staticmethod\n",
    "    def is_valid(email):\n",
    "        parts = email.split('@')\n",
    "        if len(parts) == 2:\n",
    "            return len(parts[0]) > 0 and len(parts[1]) > 0\n",
    "        return False\n",
    "    \n",
    "print(Email.is_valid('john@python.com'))\n",
    "print(Email.is_valid('eric@'))"
   ]
  },
  {
   "cell_type": "markdown",
   "metadata": {},
   "source": [
    "# References\n",
    "* [Learn Python the Hard Way](https://learnpythonthehardway.org)\n",
    "* [Python Special Methods](https://docs.python.org/3/reference/datamodel.html#special-method-names)"
   ]
  }
 ],
 "metadata": {
  "kernelspec": {
   "display_name": "Python 3",
   "language": "python",
   "name": "python3"
  },
  "language_info": {
   "codemirror_mode": {
    "name": "ipython",
    "version": 3
   },
   "file_extension": ".py",
   "mimetype": "text/x-python",
   "name": "python",
   "nbconvert_exporter": "python",
   "pygments_lexer": "ipython3",
   "version": "3.6.1"
  }
 },
 "nbformat": 4,
 "nbformat_minor": 2
}
