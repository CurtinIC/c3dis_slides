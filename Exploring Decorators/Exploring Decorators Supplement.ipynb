{
 "cells": [
  {
   "cell_type": "markdown",
   "metadata": {},
   "source": [
    "# Background\n",
    "\n",
    "This notebook provides examples that supplement the main *Exploring Decorators* notebook.\n",
    "\n",
    "These examples have been tested with Python 3.5 and 3.6 but should also work with Python 2.7"
   ]
  },
  {
   "cell_type": "markdown",
   "metadata": {},
   "source": [
    "# Topics covered\n",
    "* Decorator call sequence\n",
    "  * Without parameters\n",
    "  * With parameters\n",
    "* Finding out more about @property\n",
    "* Simple native code generation"
   ]
  },
  {
   "cell_type": "markdown",
   "metadata": {},
   "source": [
    "# Call sequence\n",
    "These examples provide more insight into the decorator call sequence.\n",
    "\n",
    "The first example shows call order when multiple decorators (a, b) when no parameters are applied to a function."
   ]
  },
  {
   "cell_type": "code",
   "execution_count": null,
   "metadata": {
    "collapsed": true
   },
   "outputs": [],
   "source": [
    "class a:\n",
    "    def __init__(self, func):\n",
    "        self.func = func\n",
    "        print('a init')\n",
    "\n",
    "    def __call__(self, *args, **kwargs):\n",
    "        print('a before calling {0}'.format(self.func))\n",
    "        result = self.func(*args, **kwargs)\n",
    "        print('a after calling {0}'.format(self.func))\n",
    "        return result\n",
    "\n",
    "class b:\n",
    "    def __init__(self, func):\n",
    "        self.func = func\n",
    "        print('b init')\n",
    "\n",
    "    def __call__(self, *args, **kwargs):\n",
    "        print('b before calling  {0}'.format(self.func))\n",
    "        result = self.func(*args, **kwargs)\n",
    "        print('b after calling {0}'.format(self.func))\n",
    "        return result"
   ]
  },
  {
   "cell_type": "markdown",
   "metadata": {},
   "source": [
    "This..."
   ]
  },
  {
   "cell_type": "code",
   "execution_count": null,
   "metadata": {
    "collapsed": true
   },
   "outputs": [],
   "source": [
    "@a\n",
    "@b\n",
    "def f(n):\n",
    "    return n*n\n",
    "\n",
    "f(4)"
   ]
  },
  {
   "cell_type": "markdown",
   "metadata": {},
   "source": [
    "...is the same as..."
   ]
  },
  {
   "cell_type": "code",
   "execution_count": null,
   "metadata": {
    "collapsed": true
   },
   "outputs": [],
   "source": [
    "def g(n):\n",
    "    return n*n\n",
    "\n",
    "a(b(g))(4)"
   ]
  },
  {
   "cell_type": "markdown",
   "metadata": {},
   "source": [
    "The next example shows call order when multiple decorators (a, b) with parameters are applied to a function."
   ]
  },
  {
   "cell_type": "code",
   "execution_count": null,
   "metadata": {
    "collapsed": true
   },
   "outputs": [],
   "source": [
    "class a:\n",
    "    def __init__(self, *args):\n",
    "        self.decargs = args\n",
    "        print('a init')\n",
    "\n",
    "    def __call__(self, func):\n",
    "        print('a __call__ invoked to return wrapped function')\n",
    "        def wrapped(*args, **kwargs):\n",
    "            print('a before calling {0}'.format(func))\n",
    "            result = func(*args, **kwargs)\n",
    "            print('a after calling {0}'.format(func))\n",
    "            return result\n",
    "        return wrapped\n",
    "\n",
    "class b:\n",
    "    def __init__(self, *args):\n",
    "        self.decargs = args\n",
    "        print('b init')\n",
    "\n",
    "    def __call__(self, func):\n",
    "        print('b __call__ invoked to return wrapped function')\n",
    "        def wrapped(*args, **kwargs):\n",
    "            print('b before calling  {0}'.format(func))\n",
    "            result = func(*args, **kwargs)\n",
    "            print('b after calling {0}'.format(func))\n",
    "            return result\n",
    "\n",
    "        return wrapped"
   ]
  },
  {
   "cell_type": "markdown",
   "metadata": {},
   "source": [
    "This..."
   ]
  },
  {
   "cell_type": "code",
   "execution_count": null,
   "metadata": {
    "collapsed": true
   },
   "outputs": [],
   "source": [
    "@a(1,2)\n",
    "@b(3,4)\n",
    "def f(n):\n",
    "    return n*n\n",
    "\n",
    "f(4)"
   ]
  },
  {
   "cell_type": "markdown",
   "metadata": {},
   "source": [
    "...is the same as..."
   ]
  },
  {
   "cell_type": "code",
   "execution_count": null,
   "metadata": {
    "collapsed": true
   },
   "outputs": [],
   "source": [
    "def g(n):\n",
    "    return n*n\n",
    "\n",
    "a(1,2)(b(3,4)(g))(4)"
   ]
  },
  {
   "cell_type": "markdown",
   "metadata": {},
   "source": [
    "Notice that `__call__` is only invoked once, at decorator definition time."
   ]
  },
  {
   "cell_type": "code",
   "execution_count": null,
   "metadata": {
    "collapsed": true
   },
   "outputs": [],
   "source": [
    "f(4)"
   ]
  },
  {
   "cell_type": "markdown",
   "metadata": {},
   "source": [
    "# Finding out more about @property"
   ]
  },
  {
   "cell_type": "markdown",
   "metadata": {},
   "source": [
    "There are a couple of resources worth reading to understand the internals of `@property`:\n",
    "* https://stackoverflow.com/questions/17330160/how-does-the-property-decorator-work\n",
    "* https://docs.python.org/2/howto/descriptor.html#properties"
   ]
  },
  {
   "cell_type": "markdown",
   "metadata": {},
   "source": [
    "# Conclusions\n",
    "The decorator mechanism and syntax in Python is fairly simple and easy to get started with, but when multiple decorators are applied to the same function, side effects must be considered."
   ]
  }
 ],
 "metadata": {
  "anaconda-cloud": {},
  "kernelspec": {
   "display_name": "Python 3",
   "language": "python",
   "name": "python3"
  },
  "language_info": {
   "codemirror_mode": {
    "name": "ipython",
    "version": 3
   },
   "file_extension": ".py",
   "mimetype": "text/x-python",
   "name": "python",
   "nbconvert_exporter": "python",
   "pygments_lexer": "ipython3",
   "version": "3.6.1"
  }
 },
 "nbformat": 4,
 "nbformat_minor": 2
}
