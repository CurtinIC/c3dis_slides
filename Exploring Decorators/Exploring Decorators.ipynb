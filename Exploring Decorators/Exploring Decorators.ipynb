{
 "cells": [
  {
   "cell_type": "markdown",
   "metadata": {},
   "source": [
    "# Background\n",
    "\n",
    "This notebook provides examples to accompany the C3DIS 2017 _Exploring Python Decorators_ presentation. Equally, it can be used as a stand-alone exploration of decorators.\n",
    "\n",
    "These examples have been tested with Python 3.5 and 3.6 but should also work with Python 2.7\n",
    "\n",
    "Working through this notebook will:\n",
    "* get you started with writing decorators;\n",
    "* provide some examples of use and references;\n",
    "* as well as pointing out some problems to be aware of."
   ]
  },
  {
   "cell_type": "markdown",
   "metadata": {},
   "source": [
    "# Topics covered\n",
    "* Toward decorators\n",
    "* Timer decorator using a function\n",
    "* NOP decorator and its uses\n",
    "* Timer decorator using a class\n",
    "* Memoising decorator (composition and side effects)\n",
    "* Simple type checking\n",
    "  * decorator parameters\n",
    "  * type annotations\n",
    "* Timing (is) everything; decorating a class\n",
    "* Some other uses for decorators"
   ]
  },
  {
   "cell_type": "markdown",
   "metadata": {},
   "source": [
    "# Toward decorators\n",
    "Suppose we want to time a function's execution..."
   ]
  },
  {
   "cell_type": "code",
   "execution_count": null,
   "metadata": {
    "collapsed": true
   },
   "outputs": [],
   "source": [
    "def range_sum(n):\n",
    "    return sum(range(1, n+1))"
   ]
  },
  {
   "cell_type": "code",
   "execution_count": null,
   "metadata": {
    "collapsed": true,
    "scrolled": true
   },
   "outputs": [],
   "source": [
    "import time\n",
    "\n",
    "t0 = time.clock()\n",
    "print(range_sum(10000000))\n",
    "t1 = time.clock()\n",
    "\n",
    "print(\"Elapsed time: {0:1.5f} seconds\".format(t1-t0))"
   ]
  },
  {
   "cell_type": "markdown",
   "metadata": {},
   "source": [
    "But there are probably other functions to time, so we could write a function like this..."
   ]
  },
  {
   "cell_type": "code",
   "execution_count": null,
   "metadata": {
    "collapsed": true
   },
   "outputs": [],
   "source": [
    "import time\n",
    "\n",
    "\n",
    "def timer(func, *args):\n",
    "    t0 = time.clock()\n",
    "    result = func(*args)\n",
    "    t1 = time.clock()\n",
    "    print(\"Elapsed time: {0:1.5f} seconds\".format(t1-t0))\n",
    "    return result"
   ]
  },
  {
   "cell_type": "markdown",
   "metadata": {},
   "source": [
    "and *try* calling it..."
   ]
  },
  {
   "cell_type": "code",
   "execution_count": null,
   "metadata": {
    "collapsed": true
   },
   "outputs": [],
   "source": [
    "timer(range_sum(10000000))"
   ]
  },
  {
   "cell_type": "markdown",
   "metadata": {},
   "source": [
    "Not quite.\n",
    "\n",
    "We've passed in the integer result of calling `range_sum` to the `timer` function.\n",
    "\n",
    "Second attempt..."
   ]
  },
  {
   "cell_type": "code",
   "execution_count": null,
   "metadata": {
    "collapsed": true
   },
   "outputs": [],
   "source": [
    "args = [10000000]\n",
    "timer(range_sum, *args)"
   ]
  },
  {
   "cell_type": "markdown",
   "metadata": {},
   "source": [
    "...or just..."
   ]
  },
  {
   "cell_type": "code",
   "execution_count": null,
   "metadata": {
    "collapsed": true
   },
   "outputs": [],
   "source": [
    "timer(range_sum, *[10000000])"
   ]
  },
  {
   "cell_type": "markdown",
   "metadata": {},
   "source": [
    "This _works_ but it's a bit cumbersome.\n",
    "\n",
    "If we knew there was only ever one argument, we could define the `timer` function to take just one and have:"
   ]
  },
  {
   "cell_type": "code",
   "execution_count": null,
   "metadata": {
    "collapsed": true
   },
   "outputs": [],
   "source": [
    "timer(range_sum, 10000000)"
   ]
  },
  {
   "cell_type": "markdown",
   "metadata": {},
   "source": [
    "But, we want to generalise `timer` to handle any kind of function and do so without changing how we would normally call a function.\n",
    "\n",
    "Next attempt: a function that returns a function..."
   ]
  },
  {
   "cell_type": "markdown",
   "metadata": {},
   "source": [
    "# Timer decorator using a function"
   ]
  },
  {
   "cell_type": "code",
   "execution_count": null,
   "metadata": {
    "collapsed": true
   },
   "outputs": [],
   "source": [
    "import time\n",
    "\n",
    "def timer(func):\n",
    "    # For arbitrary function calls, we include positional and keyword args\n",
    "    def wrapped(*args, **kwargs):\n",
    "        t0 = time.clock()\n",
    "        result = func(*args, **kwargs)\n",
    "        t1 = time.clock()\n",
    "        print(\"Elapsed time: {0:1.5f} seconds\".format(t1-t0))\n",
    "        return result\n",
    "    return wrapped"
   ]
  },
  {
   "cell_type": "code",
   "execution_count": null,
   "metadata": {
    "collapsed": true
   },
   "outputs": [],
   "source": [
    "timer(range_sum)"
   ]
  },
  {
   "cell_type": "code",
   "execution_count": null,
   "metadata": {
    "collapsed": true
   },
   "outputs": [],
   "source": [
    "timer(range_sum)(10000000)"
   ]
  },
  {
   "cell_type": "markdown",
   "metadata": {},
   "source": [
    "This works by returning a function (`wrapped` or `inner` or `laundromat`) that can be applied to a normal parameter list.\n",
    "\n",
    "Almost there!\n",
    "\n",
    "This higher-order function has _just the right form_ necessary for a decorator.\n",
    "\n",
    "Since `func` is passed as a parameter to `timer`, it becomes part of `wrapped`'s environment, so is remembered by it (i.e. `wrapped` is a [closure](https://stackoverflow.com/questions/2796855/python-closures-example-code)).\n",
    "\n",
    "So, now we can decorate functions of interest and call them normally e.g."
   ]
  },
  {
   "cell_type": "code",
   "execution_count": null,
   "metadata": {
    "collapsed": true
   },
   "outputs": [],
   "source": [
    "@timer\n",
    "def range_sum(n):\n",
    "    return sum(range(1,n+1))\n",
    "\n",
    "@timer\n",
    "def iterative_sum(n):\n",
    "    sum = 0\n",
    "    for k in range(1,n+1):\n",
    "        sum += k\n",
    "    return sum\n",
    "\n",
    "@timer\n",
    "def gaussian_sum(n):\n",
    "    return n*(n+1)/2"
   ]
  },
  {
   "cell_type": "markdown",
   "metadata": {},
   "source": [
    "But what does a function decorated with timer look like?"
   ]
  },
  {
   "cell_type": "code",
   "execution_count": null,
   "metadata": {
    "collapsed": true
   },
   "outputs": [],
   "source": [
    "range_sum"
   ]
  },
  {
   "cell_type": "markdown",
   "metadata": {},
   "source": [
    "Just a function that will call another function.\n",
    "\n",
    "So, now we can just call the (decorated) functions..."
   ]
  },
  {
   "cell_type": "code",
   "execution_count": null,
   "metadata": {
    "collapsed": true
   },
   "outputs": [],
   "source": [
    "iterative_sum(10000000)\n",
    "range_sum(10000000)\n",
    "gaussian_sum(10000000)"
   ]
  },
  {
   "cell_type": "markdown",
   "metadata": {},
   "source": [
    "So, in this way, the decorator annotation is syntactic sugar."
   ]
  },
  {
   "cell_type": "markdown",
   "metadata": {},
   "source": [
    "# NOP decorator\n",
    "\n",
    "Before continuing, let's look at the simplest decorator (and why it's of interest)."
   ]
  },
  {
   "cell_type": "code",
   "execution_count": null,
   "metadata": {
    "collapsed": true
   },
   "outputs": [],
   "source": [
    "def nop(func):\n",
    "    def inner(*args, **kwargs):\n",
    "        pass\n",
    "    return inner"
   ]
  },
  {
   "cell_type": "code",
   "execution_count": null,
   "metadata": {
    "collapsed": true
   },
   "outputs": [],
   "source": [
    "def f():\n",
    "    print(\"Hello, decorator\")\n",
    "\n",
    "f()"
   ]
  },
  {
   "cell_type": "code",
   "execution_count": null,
   "metadata": {
    "collapsed": true
   },
   "outputs": [],
   "source": [
    "@nop\n",
    "def g():\n",
    "    print(\"Hello, decorator (or not)\")\n",
    "\n",
    "g()"
   ]
  },
  {
   "cell_type": "markdown",
   "metadata": {},
   "source": [
    "The [Python 3 unittest library](https://docs.python.org/3/library/unittest.html#skipping-tests-and-expected-failures) is an example of how this can be useful as in the next cell."
   ]
  },
  {
   "cell_type": "code",
   "execution_count": null,
   "metadata": {
    "collapsed": true
   },
   "outputs": [],
   "source": [
    "import unittest\n",
    "import requests\n",
    "\n",
    "class MyTestCase(unittest.TestCase):\n",
    "\n",
    "    @unittest.skip(\"demonstrating skipping\")\n",
    "    def test_nothing(self):\n",
    "        self.fail(\"shouldn't happen\")\n",
    "\n",
    "    @unittest.skipIf(requests.__version__ < '2.13.0',\n",
    "                     \"not supported in this library version\")\n",
    "    def test_format(self):\n",
    "        # Tests that work for only a certain version of the library.\n",
    "        pass"
   ]
  },
  {
   "cell_type": "markdown",
   "metadata": {},
   "source": [
    "# Timer decorator using a class\n",
    "Sometimes, a class may be more suitable when defining a decorator. We can redefine our `timer` function like this.\n",
    "\n",
    "The function is passed to `__init__` and the arguments to `__call__`. It's used in the same way as a decorator."
   ]
  },
  {
   "cell_type": "code",
   "execution_count": null,
   "metadata": {
    "collapsed": true
   },
   "outputs": [],
   "source": [
    "import time\n",
    "\n",
    "class timer:\n",
    "    def __init__(self, func):\n",
    "        print(\">timer init\")\n",
    "        self.func = func\n",
    "\n",
    "    def __call__(self, *args, **kwargs):\n",
    "        print(\">timer entry\")\n",
    "        t0 = time.clock()\n",
    "        result = self.func(*args, **kwargs)\n",
    "        t1 = time.clock()\n",
    "        print(\"Elapsed time: {0:1.5f} seconds\".format(t1-t0))\n",
    "        print(\"<timer exit\")\n",
    "        return result"
   ]
  },
  {
   "cell_type": "markdown",
   "metadata": {},
   "source": [
    " We don't gain anything by using a class for `timer` but we'll see examples of where it can be useful.\n",
    " \n",
    " The reason for the additional print statements will be clear in the next example."
   ]
  },
  {
   "cell_type": "markdown",
   "metadata": {},
   "source": [
    "# Memoising decorator (and composing decorators)\n",
    "Suppose you had a function that took a while to compute its result so that caching results is useful."
   ]
  },
  {
   "cell_type": "code",
   "execution_count": null,
   "metadata": {
    "collapsed": true
   },
   "outputs": [],
   "source": [
    "class memoize:\n",
    "    def __init__(self, func):\n",
    "        print(\">memoize init\")\n",
    "        self.func = func\n",
    "        self.cache = {}\n",
    "\n",
    "    def __call__(self, *args):\n",
    "        print(\">memoize entry\")\n",
    "        if args not in self.cache:\n",
    "            self.cache[args] = self.func(*args)\n",
    "        else:\n",
    "            print(\"result for {0} was cached\".format(*args))\n",
    "        print(\"<memoize exit\")\n",
    "        return self.cache[args]"
   ]
  },
  {
   "cell_type": "code",
   "execution_count": null,
   "metadata": {},
   "outputs": [],
   "source": [
    "@timer\n",
    "@memoize\n",
    "def iterative_sum(n):\n",
    "    print(\">iterative_sum entry\")\n",
    "    sum = 0\n",
    "    for i in range(1,n+1):\n",
    "        sum += i\n",
    "    print(\"<iterative_sum exit\")\n",
    "    return sum\n",
    "\n",
    "\n",
    "@timer\n",
    "@memoize\n",
    "def gaussian_sum(n):\n",
    "    return n*(n+1)/2"
   ]
  },
  {
   "cell_type": "markdown",
   "metadata": {},
   "source": [
    "Notice that for each decorated function, an instance of the decorator classes is _created_ in a particular order: the reverse of their lexical appearance.\n",
    "\n",
    "When called, the decorators and function are executed in the order of lexical appearance in the code, in this case:\n",
    "1. timer\n",
    "2. memoize\n",
    "3. iterative_sum"
   ]
  },
  {
   "cell_type": "code",
   "execution_count": null,
   "metadata": {
    "collapsed": true
   },
   "outputs": [],
   "source": [
    "iterative_sum(10000000)"
   ]
  },
  {
   "cell_type": "markdown",
   "metadata": {},
   "source": [
    "Now we make the same call as before. This time the value is remembered, not re-computed."
   ]
  },
  {
   "cell_type": "code",
   "execution_count": null,
   "metadata": {
    "collapsed": true
   },
   "outputs": [],
   "source": [
    "iterative_sum(10000000)"
   ]
  },
  {
   "cell_type": "markdown",
   "metadata": {},
   "source": [
    "Of course, since `timer` calls `memoize` which calls `iterative_sum`, the execution time includes `memoize`'s execution time too (even though small).\n",
    "\n",
    "Changing decoration order has consequences just as changing the order in a function composition will, e.g. f(g(x)) vs g(f(x)).\n",
    "\n",
    "After the first call to `iterative_sum` with a particular value, a lexical reversal of `@timer` and `@memoize` will lead to the cached value being returned by `memoize` but the timer decorator will not print an \"elapsed time\" message since with the reversal, `memoize` is invoked first and never needs to call anything further downstream after caching a value.\n",
    "\n",
    "So, depending upon decoration and order and implementation, there can be \"interesting\" side effects."
   ]
  },
  {
   "cell_type": "code",
   "execution_count": null,
   "metadata": {},
   "outputs": [],
   "source": [
    "@memoize\n",
    "@timer\n",
    "def iterative_sum(n):\n",
    "    print(\">iterative_sum entry\")\n",
    "    sum = 0\n",
    "    for i in range(1,n+1):\n",
    "        sum += i\n",
    "    print(\"<iterative_sum exit\")\n",
    "    return sum"
   ]
  },
  {
   "cell_type": "code",
   "execution_count": null,
   "metadata": {},
   "outputs": [],
   "source": [
    "iterative_sum(10000000)"
   ]
  },
  {
   "cell_type": "code",
   "execution_count": null,
   "metadata": {},
   "outputs": [],
   "source": [
    "iterative_sum(10000000)"
   ]
  },
  {
   "cell_type": "markdown",
   "metadata": {},
   "source": [
    "For more decorator call sequence examples, see the _Exploring Decorators Supplement_ notebook. "
   ]
  },
  {
   "cell_type": "markdown",
   "metadata": {},
   "source": [
    "# Simple type checking (decorators with parameters)\n",
    "Decorators can take parameters.\n",
    "\n",
    "Suppose you wanted to impose simple constraints on a function's types. \n",
    "\n",
    "In this simple code, you would expect the third call to `pow2` to fail..."
   ]
  },
  {
   "cell_type": "code",
   "execution_count": null,
   "metadata": {
    "collapsed": true
   },
   "outputs": [],
   "source": [
    "def pow2(n):\n",
    "    return 2**n\n",
    "\n",
    "print(pow2(10))\n",
    "print(pow2(20.5))\n",
    "print(pow2(2, 10))"
   ]
  },
  {
   "cell_type": "markdown",
   "metadata": {},
   "source": [
    "...but what if you also wanted to impose constraints on permissible types for `n`?"
   ]
  },
  {
   "cell_type": "code",
   "execution_count": null,
   "metadata": {
    "collapsed": true
   },
   "outputs": [],
   "source": [
    "class check:\n",
    "    def __init__(self, *args):\n",
    "        self.types = args\n",
    "\n",
    "    def __call__(self, func):\n",
    "        def wrapped(*args, **kwargs):\n",
    "            length_check(func.__name__, self.types, args)\n",
    "            type_check(func.__name__, self.types, args)\n",
    "            return func(*args, **kwargs)\n",
    "\n",
    "\n",
    "        def length_check(func_name, formals, actuals):\n",
    "            # Do the formal and actual lists have the same length?\n",
    "            if len(formals) != len(actuals):\n",
    "                msg = '{0}: argument count mismatch: ' \\\n",
    "                      'formals: {1}, actuals: {2}'. \\\n",
    "                          format(func_name, len(formals), len(actuals))\n",
    "                raise TypeError(msg)\n",
    "\n",
    "\n",
    "        def type_check(func_name, formals, actuals):\n",
    "                # Check each argument's type.\n",
    "                for index, expected_type in enumerate(formals):\n",
    "                    actual_type = type(actuals[index])\n",
    "                    if actual_type != expected_type:\n",
    "                        msg = '{0}: argument {1} is {2} but {3} expected'. \\\n",
    "                                  format(func_name, index+1, \n",
    "                                         actual_type.__name__, \n",
    "                                         expected_type.__name__)\n",
    "                        raise TypeError(msg)\n",
    "\n",
    "        return wrapped"
   ]
  },
  {
   "cell_type": "markdown",
   "metadata": {},
   "source": [
    "The decorator mechanism here requires that we make a distinction between decorator arguments (passed to `__init__`) and function arguments. So, the `__call__` method now takes the function to be decorated and returns a decorated function which takes the ultimate function arguments of interest.\n",
    "\n",
    "We can use this to check that we only ever pass an integer to `pow2`, for example:"
   ]
  },
  {
   "cell_type": "code",
   "execution_count": null,
   "metadata": {},
   "outputs": [],
   "source": [
    "@check(int)\n",
    "def pow2(n):\n",
    "    return 2**n\n",
    "\n",
    "print(pow2(10))\n",
    "print(pow2(20.5))\n",
    "print(pow2(2, 10))"
   ]
  },
  {
   "cell_type": "markdown",
   "metadata": {},
   "source": [
    "Instead, use type hints/annotation (from Python 3.5):"
   ]
  },
  {
   "cell_type": "code",
   "execution_count": null,
   "metadata": {
    "collapsed": true
   },
   "outputs": [],
   "source": [
    "def pow2(n: int):\n",
    "    return 2**n"
   ]
  },
  {
   "cell_type": "markdown",
   "metadata": {},
   "source": [
    "and a tool like `mypy` or a type checking decorator:\n",
    "* http://www.machinalis.com/blog/a-day-with-mypy-part-1\n",
    "* https://pypi.python.org/pypi/typecheck-decorator\n",
    "\n",
    "Or, we could rewrite our `@check` to use type annotations..."
   ]
  },
  {
   "cell_type": "code",
   "execution_count": null,
   "metadata": {
    "collapsed": true
   },
   "outputs": [],
   "source": [
    "class check:\n",
    "    def __init__(self, func):\n",
    "        self.func = func\n",
    "        self.annotations = func.__annotations__\n",
    "\n",
    "    def __call__(self, *args, **kwargs):\n",
    "        self.length_check(self.annotations, args)\n",
    "        self.type_check(self.annotations, args)\n",
    "        return self.func(*args, **kwargs)\n",
    "    \n",
    "    \n",
    "    def length_check(self, formals, actuals):\n",
    "        if len(formals) != len(actuals):\n",
    "            msg = '{0}: argument count mismatch: ' \\\n",
    "                  'formals: {1}, actuals: {2}'. \\\n",
    "                      format(self.func.__name__, \n",
    "                             len(formals), len(actuals))\n",
    "            raise TypeError(msg)\n",
    "\n",
    "    def type_check(self, formals, actuals):\n",
    "        for formal, actual in zip(formals, actuals):\n",
    "            actual_type = type(actual)\n",
    "            expected_type = formals[formal]\n",
    "            if actual_type != expected_type:\n",
    "                msg = '{0}: {1} is {2} but {3} expected'. \\\n",
    "                          format(self.func.__name__, formal,\n",
    "                                 actual_type.__name__, \n",
    "                                 expected_type.__name__)\n",
    "                raise TypeError(msg)"
   ]
  },
  {
   "cell_type": "markdown",
   "metadata": {},
   "source": [
    "...and then this..."
   ]
  },
  {
   "cell_type": "code",
   "execution_count": null,
   "metadata": {},
   "outputs": [],
   "source": [
    "@check\n",
    "def pow2(n: int):\n",
    "    return 2**n\n",
    "\n",
    "print(pow2(10))\n",
    "print(pow2(20.5))\n",
    "print(pow2(2, 10))"
   ]
  },
  {
   "cell_type": "markdown",
   "metadata": {},
   "source": [
    "Both implementations need to be generalised, e.g. handling return types."
   ]
  },
  {
   "cell_type": "markdown",
   "metadata": {},
   "source": [
    "# Timing (is) everything; decorating a class\n",
    "What if we want to decorate some or all methods in a class, e.g. to time them?\n",
    "\n",
    "I'm glad you asked...\n",
    "\n",
    "Given our old `timer` decorator friend (with a line to print the name of the function for additional output):"
   ]
  },
  {
   "cell_type": "code",
   "execution_count": null,
   "metadata": {
    "collapsed": true
   },
   "outputs": [],
   "source": [
    "import time\n",
    "\n",
    "class timer:\n",
    "    def __init__(self, func):\n",
    "        self.func = func\n",
    "\n",
    "    def __call__(self, *args, **kwargs):\n",
    "        print(self.func.__name__)\n",
    "        t0 = time.clock()\n",
    "        result = self.func(*args, **kwargs)\n",
    "        t1 = time.clock()\n",
    "        print(\"Elapsed time: {0:1.5f} seconds\".format(t1-t0))\n",
    "        return result"
   ]
  },
  {
   "cell_type": "markdown",
   "metadata": {},
   "source": [
    "It would be nice to be able to decorate methods in a class, like this:"
   ]
  },
  {
   "cell_type": "code",
   "execution_count": null,
   "metadata": {
    "collapsed": true
   },
   "outputs": [],
   "source": [
    "@class_decorator(timer, \"iterative_sum\", \"gaussian_sum\")\n",
    "class Summers:\n",
    "    def iterative_sum(self, n):\n",
    "        sum = 0\n",
    "        for i in range(1, n+1):\n",
    "            sum += i\n",
    "        return sum\n",
    "\n",
    "    def range_sum(self, n):\n",
    "        return sum(range(1, n+1))\n",
    "\n",
    "    def gaussian_sum(self, n):\n",
    "        return n*(n+1)/2"
   ]
  },
  {
   "cell_type": "markdown",
   "metadata": {},
   "source": [
    "...and then say:"
   ]
  },
  {
   "cell_type": "code",
   "execution_count": null,
   "metadata": {
    "collapsed": true
   },
   "outputs": [],
   "source": [
    "summers = Summers()\n",
    "\n",
    "print(summers.iterative_sum(10000000))\n",
    "print(summers.range_sum(10000000))\n",
    "print(summers.gaussian_sum(10000000))"
   ]
  },
  {
   "cell_type": "markdown",
   "metadata": {},
   "source": [
    "The missing piece is `class_decorator`, a function that takes a decorator and method names and returns a `class_rebuilder` function, just like our first `timer` function did.\n",
    "\n",
    "That wrapped function returns a class  (`DecoratedClass`) that specialises a target class (`Summers` in our case) by decorating the specified methods (supplied in `method_names`), by overriding the `__get_attribute__()` method. Notice that `obj` is a function object that is passed to the decorator in the just the same way as we have been doing until now."
   ]
  },
  {
   "cell_type": "code",
   "execution_count": null,
   "metadata": {
    "collapsed": true
   },
   "outputs": [],
   "source": [
    "def class_decorator(decorator, *method_names):\n",
    "    def class_rebuilder(cls):\n",
    "        class DecoratedClass(cls):\n",
    "            def __getattribute__(self, attr_name):\n",
    "                obj = super().__getattribute__(attr_name)\n",
    "                if hasattr(obj, '__call__') and attr_name in method_names:\n",
    "                    return decorator(obj)\n",
    "                return obj\n",
    "        return DecoratedClass\n",
    "    return class_rebuilder"
   ]
  },
  {
   "cell_type": "markdown",
   "metadata": {},
   "source": [
    "Thanks to Ben Leighton for the question (last time I gave a [talk about decorators](https://confluence.csiro.au/display/BioinformaticsCore/Bioinformatics+Seminar+Series+2017)) and the pointer to https://andrefsp.wordpress.com/2012/08/23/writing-a-class-decorator-in-python.\n",
    "\n",
    "I've generalised the code from that page to allow any decorator to be applied to class methods."
   ]
  },
  {
   "cell_type": "markdown",
   "metadata": {},
   "source": [
    "# Some other uses for decorators\n",
    "  * Frameworks, e.g. `@route` in Flask web framework\n",
    "  * Execution tracing\n",
    "  * Logging\n",
    "  * Retries\n",
    "  * Authentication\n",
    "  * Concurrency, synchronisation (e.g. **monitors**)\n",
    "  * Periodic timers\n",
    "  * Method decorators\n",
    "    * `@property`\n",
    "    * `@staticmethod`\n",
    "    * `@classmethod`\n",
    "  * UIs (**@gooey** needs to be made compatible with Python 3)\n",
    "  * **Native code generation and execution, i.e. JIT (ala Numba)**\n",
    "  * SLURM batch job submission and checking (Daniel Collins mentioned seeing this used recently)\n",
    "  \n",
    "  The items in bold relate to ideas I plan to follow up on or have already done some work towards."
   ]
  },
  {
   "cell_type": "markdown",
   "metadata": {},
   "source": [
    "# Conclusions\n",
    "The decorator mechanism and syntax in Python is fairly simple and easy to get started with, but when multiple decorators are applied to the same function, side effects must be considered.\n",
    "\n",
    "The possible applications of this simple mechanism are numerous."
   ]
  },
  {
   "attachments": {},
   "cell_type": "markdown",
   "metadata": {},
   "source": [
    "# References\n",
    "\n",
    "### Decorators\n",
    "* https://www.python.org/dev/peps/pep-0318/\n",
    "* https://realpython.com/blog/python/primer-on-python-decorators/\n",
    "* https://wiki.python.org/moin/PythonDecorators\n",
    "* https://wiki.python.org/moin/PythonDecoratorLibrary \n",
    "* https://andrefsp.wordpress.com/2012/08/23/writing-a-class-decorator-in-python/\n",
    "* https://www.codementor.io/sheena/advanced-use-python-decorators-class-function-du107nxsv\n",
    "* https://docs.python.org/3/library/unittest.html#skipping-tests-and-expected-failures\n",
    "* http://www.artima.com/weblogs/viewpost.jsp?thread=240808#function-decorators\n",
    "* https://stackoverflow.com/questions/2366713/can-a-python-decorator-of-an-instance-method-access-the-class\n",
    "* https://www.oreilly.com/ideas/5-reasons-you-need-to-learn-to-write-python-decorators\n",
    "* https://stackoverflow.com/questions/17330160/how-does-the-property-decorator-work\n",
    "\n",
    "### Supporting Information\n",
    "* https://stackoverflow.com/questions/2796855/python-closures-example-code\n",
    "* https://stackoverflow.com/questions/3394835/args-and-kwargs\n",
    "* https://en.wikipedia.org/wiki/Python_syntax_and_semantics \n",
    "* https://stackoverflow.com/questions/9450656/positional-argument-v-s-keyword-argument\n",
    "* http://numba.pydata.org/\n",
    "* https://docs.python.org/3/library/functools.html\n",
    "* https://stackoverflow.com/questions/13591970/does-python-optimize-tail-recursion"
   ]
  },
  {
   "cell_type": "code",
   "execution_count": null,
   "metadata": {
    "collapsed": true
   },
   "outputs": [],
   "source": []
  }
 ],
 "metadata": {
  "anaconda-cloud": {},
  "kernelspec": {
   "display_name": "Python 3",
   "language": "python",
   "name": "python3"
  },
  "language_info": {
   "codemirror_mode": {
    "name": "ipython",
    "version": 3
   },
   "file_extension": ".py",
   "mimetype": "text/x-python",
   "name": "python",
   "nbconvert_exporter": "python",
   "pygments_lexer": "ipython3",
   "version": "3.6.1"
  }
 },
 "nbformat": 4,
 "nbformat_minor": 2
}
