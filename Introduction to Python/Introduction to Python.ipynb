{
 "cells": [
  {
   "cell_type": "markdown",
   "metadata": {},
   "source": [
    "# Introduction to Jupyter Notebooks"
   ]
  },
  {
   "cell_type": "markdown",
   "metadata": {},
   "source": [
    "The [Jupyter Notebook](http://jupyter.org/) is an open-source web application that allows you to create and share documents that contain live code, equations, visualizations and explanatory text.\n",
    "\n",
    "IM&T Scientific Computing makes it easy to start, stop, and review your remote sessions using the [SC Launcher](https://wiki.csiro.au/display/ASC/Using+the+SC+Launcher).\n",
    "\n",
    "Specifically, the SC Launcher provides assistance in [managing Jupyter Notebook sessions](https://wiki.csiro.au/display/ASC/Using+IPython+Notebooks)."
   ]
  },
  {
   "cell_type": "markdown",
   "metadata": {},
   "source": [
    "**Table of Contents**\n",
    "\n",
    " * [Introduction to Jupyter Notebooks](#Introduction-to-Jupyter-Notebooks)\n",
    "\n",
    " * [Why Notebooks?](#Why-Notebooks?)\n",
    "\n",
    " * [2-Minute Tour of the Notebook](#2-Minute-Tour-of-the-Notebook)\n",
    "\n",
    "   * [Code Cells](#Code-Cells)\n",
    "\n",
    "   * [Markdown cells](#Markdown-cells)\n",
    "\n",
    "   * [The Notebook Format](#The-Notebook-Format)\n",
    "\n",
    "   * [Navigation](#Navigation)\n",
    "\n",
    " * [Introduction to Python](#Introduction-to-Python)\n",
    "\n",
    "   * [Print](#Print)\n",
    "\n",
    "   * [Comments](#Comments)\n",
    "\n",
    "     * [Single Line Comments](#Single-Line-Comments)\n",
    "\n",
    "     * [Multiple Line Comments](#Multiple-Line-Comments)\n",
    "\n",
    "   * [Indentation](#Indentation)\n",
    "\n",
    "   * [Variables and their Type](#Variables-and-their-Type)\n",
    "\n",
    "     * [Numbers](#Numbers)\n",
    "\n",
    "     * [Strings](#Strings)\n",
    "\n",
    "     * [Lists](#Lists)\n",
    "\n",
    "     * [Packing and Unpacking](#Packing-and-Unpacking)\n",
    "\n",
    "   * [Operators](#Operators)\n",
    "\n",
    "     * [Arithmetic Operators](#Arithmetic-Operators)\n",
    "\n",
    "     * [String Operators](#String-Operators)\n",
    "\n",
    "     * [List Operators](#List-Operators)\n",
    "\n",
    "   * [String Formatting](#String-Formatting)\n",
    "\n",
    "   * [Conditions](#Conditions)\n",
    "\n",
    "     * [Boolean - True or False](#Boolean---True-or-False)\n",
    "\n",
    "     * [Boolean operators](#Boolean-operators)\n",
    "\n",
    "     * [The in operator](#The-in-operator)\n",
    "\n",
    "     * [The is operator](#The-is-operator)\n",
    "\n",
    "     * [The not operator](#The-not-operator)\n",
    "\n",
    "   * [Looping Constructs](#Looping-Constructs)\n",
    "\n",
    "     * [The for loop](#The-for-loop)\n",
    "\n",
    "     * [The while loop](#The-while-loop)\n",
    "\n",
    "     * [break and continue statements](#break-and-continue-statements)\n",
    "\n",
    "   * [Functions](#Functions)\n",
    "\n",
    "     * [What are Functions?](#What-are-Functions?)\n",
    "\n",
    "     * [How do you write a function?](#How-do-you-write-a-function?)\n",
    "\n",
    "     * [How do you call a function?](#How-do-you-call-a-function?)\n",
    "\n",
    "     * [Optional Arguments](#Optional-Arguments)\n",
    "\n",
    "   * [Classes and Objects](#Classes-and-Objects)\n",
    "\n",
    "     * [Accessing Object Variables](#Accessing-Object-Variables)\n",
    "\n",
    "     * [Accessing Object Functions](#Accessing-Object-Functions)\n",
    "\n",
    "     * [Self](#Self)\n",
    "\n",
    "     * [Constructors](#Constructors)\n",
    "\n",
    "   * [Dictionaries](#Dictionaries)\n",
    "\n",
    "     * [Iterating over dictionaries](#Iterating-over-dictionaries)\n",
    "\n",
    "     * [Removing a dictionary value](#Removing-a-dictionary-value)\n",
    "\n",
    "   * [Modules and Packages](#Modules-and-Packages)\n",
    "\n",
    "     * [Exploring built-in modules](#Exploring-built-in-modules)\n",
    "\n",
    "   * [List Comprehensions](#List-Comprehensions)\n",
    "\n",
    "   * [Reading and Writing Files](#Reading-and-Writing-Files)\n",
    "\n",
    "     * [Opening Files](#Opening-Files)\n",
    "\n",
    "     * [Writing to files](#Writing-to-files)\n",
    "\n",
    "     * [Closing Files](#Closing-Files)\n",
    "\n",
    "     * [Reading from files](#Reading-from-files)\n",
    "\n",
    "     * [With](#With)\n",
    "\n",
    "   * [Downloading Files](#Downloading-Files)\n",
    "\n",
    "   * [Working with CSV Files](#Working-with-CSV-Files)\n",
    "\n",
    "     * [Pandas for CSV](#Pandas-for-CSV)\n",
    "\n",
    "   * [Debugging in the Notebook](#Debugging-in-the-Notebook)\n",
    "\n",
    "   * [Python IDEs](#Python-IDEs)\n",
    "\n",
    "   * [Python 2 or 3?](#Python-2-or-3?)\n",
    "\n",
    " * [Final Thoughts](#Final-Thoughts)\n",
    "\n"
   ]
  },
  {
   "cell_type": "markdown",
   "metadata": {},
   "source": [
    "# Why Notebooks?"
   ]
  },
  {
   "cell_type": "markdown",
   "metadata": {},
   "source": [
    "In the 1980s, Donald Knuth proposed [Literate programming](http://en.wikipedia.org/wiki/Literate_programming), the objective of which was to combine human and machine languages in the same document (program) more naturally.\n",
    "\n",
    "IPython and other notebook formats might be better considered examples of **literate computing**. They combine natural languge and visualisations with the live computation to provide insight and explanation."
   ]
  },
  {
   "cell_type": "markdown",
   "metadata": {},
   "source": [
    "# 2-Minute Tour of the Notebook"
   ]
  },
  {
   "cell_type": "markdown",
   "metadata": {},
   "source": [
    "You can edit this notebook in-place, so lets start by making a backup!\n",
    "\n",
    "<span style=\"color:green\">In the menu select:\n",
    "\n",
    "     File -> Make A Copy\n",
    "</span>     \n",
    "\n",
    "It should open a new browser tab in which you can safely experiment on the duplicated notebook."
   ]
  },
  {
   "cell_type": "markdown",
   "metadata": {},
   "source": [
    "Notebooks are made up of *cells* such as:\n",
    "\n",
    "- code cells\n",
    "- markdown cells\n",
    "- header cells"
   ]
  },
  {
   "cell_type": "markdown",
   "metadata": {},
   "source": [
    "## Code Cells"
   ]
  },
  {
   "cell_type": "markdown",
   "metadata": {},
   "source": [
    "Generally speaking code cells are written in Python, however that need not be the case - there are [many projects](https://github.com/ipython/ipython/wiki/Projects-using-IPython) using the IPython framework with alternative language backends.\n"
   ]
  },
  {
   "cell_type": "markdown",
   "metadata": {},
   "source": [
    "<span style=\"color:green\">Run any code cell on a page by first selecting it and then using `shift-enter` or pressing the <button><i class=\"fa-step-forward fa\"></i></button> button in the toolbar above:</span>"
   ]
  },
  {
   "cell_type": "code",
   "execution_count": null,
   "metadata": {
    "collapsed": true
   },
   "outputs": [],
   "source": [
    "a = 10\n",
    "print(a)"
   ]
  },
  {
   "cell_type": "markdown",
   "metadata": {},
   "source": [
    "There are two other keyboard shortcuts for running code:\n",
    "\n",
    "* `Alt-Enter` runs the current cell and inserts a new one below.\n",
    "* `Ctrl-Enter` run the current cell and enters command mode."
   ]
  },
  {
   "cell_type": "code",
   "execution_count": null,
   "metadata": {
    "collapsed": true
   },
   "outputs": [],
   "source": [
    "import matplotlib.pyplot as plt\n",
    "%matplotlib inline"
   ]
  },
  {
   "cell_type": "code",
   "execution_count": null,
   "metadata": {
    "collapsed": true
   },
   "outputs": [],
   "source": [
    "plt.plot([5,1,5,1,5]);"
   ]
  },
  {
   "cell_type": "markdown",
   "metadata": {},
   "source": [
    "Notice that images produced are displayed inline, supported representations include:\n",
    "\n",
    "* HTML\n",
    "* JSON\n",
    "* PNG\n",
    "* JPEG\n",
    "* SVG\n",
    "* LaTeX"
   ]
  },
  {
   "cell_type": "code",
   "execution_count": null,
   "metadata": {
    "collapsed": true
   },
   "outputs": [],
   "source": [
    "from IPython.display import Image\n",
    "Image('http://www.scienceimage.csiro.au/images/embed/300_0_DA3675.jpg')"
   ]
  },
  {
   "cell_type": "markdown",
   "metadata": {},
   "source": [
    "Code is run in a separate process called the IPython Kernel.  The Kernel can be interrupted or restarted.\n",
    "While a cell is running (marked with a \\*) you can press the <button><i class=\"fa-stop fa\"></i></button>  button in the toolbar above. This is roughly equivalent to pressing *ctrl-c* in a Python session.\n",
    "\n",
    "Try running the following cell and then hit the <button><i class='fa-stop fa'></i></button> button."
   ]
  },
  {
   "cell_type": "code",
   "execution_count": null,
   "metadata": {
    "collapsed": true,
    "scrolled": true
   },
   "outputs": [],
   "source": [
    "import time\n",
    "time.sleep(10)"
   ]
  },
  {
   "cell_type": "markdown",
   "metadata": {},
   "source": [
    "## Markdown cells"
   ]
  },
  {
   "cell_type": "markdown",
   "metadata": {},
   "source": [
    "You can make text *italic* or **bold**."
   ]
  },
  {
   "cell_type": "markdown",
   "metadata": {},
   "source": [
    "You can build nested itemized or enumerated lists:\n",
    "\n",
    "* One\n",
    "    - Sublist\n",
    "        - This\n",
    "  - Sublist\n",
    "        - That\n",
    "        - The other thing\n",
    "* Two\n",
    "  - Sublist"
   ]
  },
  {
   "cell_type": "markdown",
   "metadata": {},
   "source": [
    "You can embed images:\n",
    "![Bat?](http://www.scienceimage.csiro.au/images/embed/300_0_DA3675.jpg \"Inline Image\")"
   ]
  },
  {
   "cell_type": "markdown",
   "metadata": {},
   "source": [
    "Courtesy of [MathJax](https://www.mathjax.org/), you can include mathematical expressions using $\\LaTeX$ both inline: \n",
    "$e^{i\\pi} + 1 = 0$  and displayed:\n",
    "\n",
    "$$e^x=\\sum_{i=0}^\\infty \\frac{1}{i!}x^i$$"
   ]
  },
  {
   "cell_type": "markdown",
   "metadata": {},
   "source": [
    "Because Markdown is a superset of HTML you can even add things like HTML tables:\n",
    "\n",
    "<table>\n",
    "<tr>\n",
    "<th>Header 1</th>\n",
    "<th>Header 2</th>\n",
    "</tr>\n",
    "<tr>\n",
    "<td>row 1, cell 1</td>\n",
    "<td>row 1, cell 2</td>\n",
    "</tr>\n",
    "<tr>\n",
    "<td>row 2, cell 1</td>\n",
    "<td>row 2, cell 2</td>\n",
    "</tr>\n",
    "</table>"
   ]
  },
  {
   "cell_type": "markdown",
   "metadata": {},
   "source": [
    "You can learn more about Markdown at:\n",
    "\n",
    "- http://daringfireball.net/projects/markdown/syntax\n",
    "- [examples as a notebook](http://nbviewer.ipython.org/github/ipython/ipython/blob/1.x/examples/notebooks/Part%204%20-%20Markdown%20Cells.ipynb)\n",
    "\n",
    "More about MathJax and the support $\\LaTeX$ command set:\n",
    "- [MathJax](https://www.mathjax.org/)\n",
    "- [MathJax TeX and LaTeX Support](http://docs.mathjax.org/en/latest/tex.html#tex-support)"
   ]
  },
  {
   "cell_type": "markdown",
   "metadata": {},
   "source": [
    "## The Notebook Format"
   ]
  },
  {
   "cell_type": "markdown",
   "metadata": {},
   "source": [
    "Notebooks are files in JSON (JavaScript Object Notation) format and look something like this:"
   ]
  },
  {
   "cell_type": "markdown",
   "metadata": {},
   "source": [
    "    {\n",
    "     \"metadata\": {\n",
    "      \"name\": \"\",\n",
    "      \"signature\": \"sha256:922e2efa9f20e67705e5ce015471a18197f12fb5cacec18b4f2ec8fe342396f5\"\n",
    "     },\n",
    "     \"nbformat\": 3,\n",
    "     \"nbformat_minor\": 0,\n",
    "     \"worksheets\": [\n",
    "      {\n",
    "       \"cells\": [\n",
    "        {\n",
    "         \"cell_type\": \"heading\",\n",
    "         \"level\": 1,\n",
    "         \"metadata\": {},\n",
    "         \"source\": [\n",
    "          \"A Heading\"\n",
    "         ]\n",
    "        },\n",
    "        {\n",
    "         \"cell_type\": \"markdown\",\n",
    "         \"metadata\": {},\n",
    "         \"source\": [\n",
    "          \"This notebook demonstrates how to automatically generate a table of contents from Header cells.\\n\",\n",
    "          \"\\n\",\n",
    "          \"When run it generates a Markdown cell at the start of the notebook containing:\"\n",
    "         ]\n",
    "        }\n",
    "      }"
   ]
  },
  {
   "cell_type": "markdown",
   "metadata": {},
   "source": [
    "Thankfully, you should never need to edit this directly. In fact the notebook file may contain binary blobs such as output images so it is not intended to be human readable.\n",
    "\n",
    "A notebook can be shared with others, to view, edit, and run.\n",
    "\n",
    "In the menu bar select:\n",
    "\n",
    "    File -> Download As -> IPython Notebook (.ipynb)\n",
    "\n",
    "Alternatively, you directly access the notebooks within your home directory on IM&T Scientific Computing platforms in:\n",
    "\n",
    "    ~ident/notebooks/\n",
    "\n",
    "Simply drag any notebook you receive onto the dashboard / home page of your notebook server to add it to your own collection."
   ]
  },
  {
   "cell_type": "markdown",
   "metadata": {},
   "source": [
    "## Navigation\n",
    "The Notebook UI works in two modes - *command-mode* and *edit-mode*. In command-mode, cells are highlighted in blue, and you can perform commands that work on whole cells or the entire notebook. Edit-mode is active while a cell is being edited, with the cell being highlighted in green. To edit a cell, press *enter* while the cell is selected in command-mode. To exit edit-mode, press *escape*.\n",
    "\n",
    "Some useful command-mode keyboard shortcuts are:\n",
    "* `a`: Add a new cell above the current cell\n",
    "* `b`: Add a new cell below the current cell\n",
    "* `m`: Change the cell type to Markdown\n",
    "* `y`: Change the cell type to Code\n",
    "* `c`: copy the selected cells into the cell clipboard\n",
    "* `v`: paste the cell clipboard into new cells below the current cell selection\n",
    "* `j`: select the preceeding cell\n",
    "* `k`: select the next cell\n",
    "* `enter`: Edit the selected cell (enter edit-mode)\n",
    "* `control-enter`: Execute the current cell\n",
    "* `shift-enter`: Execute the current cell and move the cell selection to the next cell\n",
    "\n",
    "You can find a complete list of shortcuts in the `Help - Keyboard Shortcuts` menu."
   ]
  },
  {
   "cell_type": "markdown",
   "metadata": {},
   "source": [
    "## More on the Jupyter Notebook Environment\n",
    "For more information on the notebook environment, see the [Jupyter Notebook Examples](../Additional%20Notebooks/Jupyter%20Notebook%20Examples)."
   ]
  },
  {
   "cell_type": "markdown",
   "metadata": {},
   "source": [
    "***"
   ]
  },
  {
   "cell_type": "markdown",
   "metadata": {},
   "source": [
    "# Introduction to Python"
   ]
  },
  {
   "cell_type": "markdown",
   "metadata": {},
   "source": [
    "What follows is  an overview of the Python language - syntax, keywords and core features.\n",
    "\n",
    "Those with no programming background would do well to first search out tutorials on *computational thinking*.\n",
    "\n",
    "There are very few defined exercises, instead readers are encouraged to modify the code cells and observe changes in behaviour."
   ]
  },
  {
   "cell_type": "markdown",
   "metadata": {},
   "source": [
    "## Print"
   ]
  },
  {
   "cell_type": "markdown",
   "metadata": {},
   "source": [
    "The first Python directive we will explore is `print`.\n",
    "\n",
    "Unsurprisingly, it simply displays a line of text. Unlike many languages such as C/C++, it includes a newline.\n",
    "\n",
    "To print a string, we write:"
   ]
  },
  {
   "cell_type": "code",
   "execution_count": null,
   "metadata": {
    "collapsed": true
   },
   "outputs": [],
   "source": [
    "print(\"Hello Everyone!!!\")"
   ]
  },
  {
   "cell_type": "markdown",
   "metadata": {},
   "source": [
    "<span style=\"color:green\">Now would be a good time to try inserting your own code cell by pressing the <button><i class=\"fa-plus fa\"></i></button> button and printing your own message.</span>"
   ]
  },
  {
   "cell_type": "markdown",
   "metadata": {},
   "source": [
    "## Comments"
   ]
  },
  {
   "cell_type": "markdown",
   "metadata": {},
   "source": [
    "Comments are annotations embedded in the code to summarise and explain the programmer's intent.\n",
    "\n",
    "In Python there two styles of comment, the single line and the multiple line."
   ]
  },
  {
   "cell_type": "markdown",
   "metadata": {},
   "source": [
    "### Single Line Comments"
   ]
  },
  {
   "cell_type": "markdown",
   "metadata": {},
   "source": [
    "Anything that follows a # (pound) symbol is considered a comment, ending with at the first newline encountered."
   ]
  },
  {
   "cell_type": "code",
   "execution_count": null,
   "metadata": {
    "collapsed": true
   },
   "outputs": [],
   "source": [
    "print(\"Hello\")\n",
    "# print(\"Again\")\n",
    "print(\"World\") # trailing comment"
   ]
  },
  {
   "cell_type": "markdown",
   "metadata": {},
   "source": [
    "### Multiple Line Comments"
   ]
  },
  {
   "cell_type": "markdown",
   "metadata": {},
   "source": [
    "Multiple line comments use triple single quotes to mark their beginning and end."
   ]
  },
  {
   "cell_type": "code",
   "execution_count": null,
   "metadata": {
    "collapsed": true
   },
   "outputs": [],
   "source": [
    "'''\n",
    "print(\"Hello\")\n",
    "print (\"World\")\n",
    "'''"
   ]
  },
  {
   "cell_type": "markdown",
   "metadata": {},
   "source": [
    "Did you notice that the previous code cell produces an output, even though all the code is enclosed in a multi-line comment? This is because multiple line comments don't really exist. Triple quotes actually create a multi-line string, but if you don't assign that string to a variable, then it has no effect and is effectively \"commented out\". However, the Notebook environment always trys to display the result of the final line of code in a cell, which is why you see the string output."
   ]
  },
  {
   "cell_type": "markdown",
   "metadata": {},
   "source": [
    "Of course when using an IPython Notebook, we might prefer to make good use of Markdown cells to document how our program works!\n",
    "\n",
    "To disable an entire code cell, just change the cell type to Markdown. Reenable by changing back to a code cell. This is much easier than commenting out the code. Note that executing the Markdown cell will make it look like your code formatting has been destroyed, but this is just an illusion caused by the way Markdown renders whitespace. Revert to a code cell and the code layout will be restored. Try this on one of the code cells now."
   ]
  },
  {
   "cell_type": "markdown",
   "metadata": {},
   "source": [
    "<span style=\"color:green\">Try changing a code cell to Markdown and then back to code now.</span>"
   ]
  },
  {
   "cell_type": "markdown",
   "metadata": {},
   "source": [
    "## Indentation"
   ]
  },
  {
   "cell_type": "markdown",
   "metadata": {},
   "source": [
    "Python uses the indentation level to determine the start and end of code blocks - unlike many languages which use braces (curly brackets).\n",
    "\n",
    "For example:"
   ]
  },
  {
   "cell_type": "code",
   "execution_count": null,
   "metadata": {
    "collapsed": true
   },
   "outputs": [],
   "source": [
    "if True:\n",
    "    print('We have a tautology!') # this line is indented four spaces\n",
    "    print('inside the block')\n",
    "    if not False:\n",
    "        print('false')\n",
    "        \n",
    "print(\"outside the block\")"
   ]
  },
  {
   "cell_type": "markdown",
   "metadata": {},
   "source": [
    "You will typically find a colon (:) at the end any line that preceeds an indented code block."
   ]
  },
  {
   "cell_type": "markdown",
   "metadata": {},
   "source": [
    "The Python standard requires the indentation be exactly four spaces (or multiple thereof when nested) however tabs are supported. Additionally, some interpreters are more relaxed and will accept indentation that is not exactly 4 spaces so long as the entire code block is consistent. Don't do this though. Just use a Python-aware editor and stick to 4 spaces for maximum compatibility."
   ]
  },
  {
   "cell_type": "markdown",
   "metadata": {},
   "source": [
    "## Variables and their Type"
   ]
  },
  {
   "cell_type": "markdown",
   "metadata": {},
   "source": [
    "Variables are symbols (often descriptive words) that can represent or stand in for different values and that value may change during the execution of a program. \n",
    "\n",
    "For the computer science minded, Python is a dynamically-typed, strongly-typed, object-oriented, and garbage-collected language. Quite a mouthful, but in day to day use this means:\n",
    "\n",
    "* **Dynamic typing**: You do not need to declare variables before using them, or declare that x is an integer and foo is a string. Variables need not even remain the same type over the entire execution. Also, you generally don't need to check the type of an object before using it. Your code can just try to use the variables. This is sometimes called *Duck Typing*: if it looks like a duck, and walks like a duck, then it is a duck.\n",
    "* **Strong typing**: Objects have a strong type that cannot be changed (although conversions to a new object of a different type are possible). Operations only work with specific types, so adding numbers to strings for example will not work.\n",
    "* **Object-oriented**: Nearly everything in Python is an object. Objects (sometimes called Classes although there is a distinction) are a way of bundling together some data and the operations that are defined on that data. Nearly everything in Python is an object, even things that you might not expect. So while the expected things like numbers, strings, and lists are objects, so are functions. This allows some powerful programming techniques. Finally, although not covered today, Python provides very rich mechanisms for defining your own classes of objects.\n",
    "* **Garbage-collected**: Unlike some other languages such as C or C++, you generally don't need to worry about memory management. When there are no longer any references to an object, the memory will be reclaimed automatically by the Python garbage collector. There *are* occasions where you need to worry about resource management (for example when opening a file), but Python gives you ways to do this."
   ]
  },
  {
   "cell_type": "markdown",
   "metadata": {},
   "source": [
    "### Numbers"
   ]
  },
  {
   "cell_type": "markdown",
   "metadata": {},
   "source": [
    "Python supports different types of numbers:\n",
    "\n",
    "- integers\n",
    "- floating point numbers\n",
    "- complex numbers\n",
    "\n",
    "To define an integer we simple write:"
   ]
  },
  {
   "cell_type": "code",
   "execution_count": null,
   "metadata": {
    "collapsed": true
   },
   "outputs": [],
   "source": [
    "myint = 1"
   ]
  },
  {
   "cell_type": "markdown",
   "metadata": {},
   "source": [
    "To define a floating point number we must include a decimal point (otherwise it would be an integer!):"
   ]
  },
  {
   "cell_type": "code",
   "execution_count": null,
   "metadata": {
    "collapsed": true
   },
   "outputs": [],
   "source": [
    "myfloat = 1.0\n",
    "\n",
    "# alternatively..\n",
    "myfloat = float(1)\n",
    "myfloat = float(myint)"
   ]
  },
  {
   "cell_type": "markdown",
   "metadata": {},
   "source": [
    "Complex numbers can be defined by using the built in `Complex` type, or by using `j` to denote the imaginary part:"
   ]
  },
  {
   "cell_type": "code",
   "execution_count": null,
   "metadata": {
    "collapsed": true
   },
   "outputs": [],
   "source": [
    "# the most natural-looking way\n",
    "mycomplex = 3 + 4j\n",
    "print(mycomplex)\n",
    "\n",
    "# alternatively...\n",
    "mycomplex = complex(3,4)\n",
    "print(mycomplex.real, ',', mycomplex.imag)"
   ]
  },
  {
   "cell_type": "markdown",
   "metadata": {},
   "source": [
    "Simple operators can be executed on numbers:"
   ]
  },
  {
   "cell_type": "code",
   "execution_count": null,
   "metadata": {
    "collapsed": true
   },
   "outputs": [],
   "source": [
    "x = 22\n",
    "y = 7\n",
    "z = x + y\n",
    "print(z)\n",
    "\n",
    "xy = x * y\n",
    "print(xy)"
   ]
  },
  {
   "cell_type": "markdown",
   "metadata": {},
   "source": [
    "### Strings"
   ]
  },
  {
   "cell_type": "markdown",
   "metadata": {},
   "source": [
    "Strings may be defined using single or double quotes:"
   ]
  },
  {
   "cell_type": "code",
   "execution_count": null,
   "metadata": {
    "collapsed": true
   },
   "outputs": [],
   "source": [
    "string1 = 'hello'\n",
    "string2 = \"hello\""
   ]
  },
  {
   "cell_type": "markdown",
   "metadata": {},
   "source": [
    "One difference is that double quotes allow for apostrophes, which would otherwise mark the end of the string."
   ]
  },
  {
   "cell_type": "code",
   "execution_count": null,
   "metadata": {
    "collapsed": true
   },
   "outputs": [],
   "source": [
    "string3 = \"When you're using single quotes, confusing your with you're is not even wrong, it's fatal\"\n",
    "string3"
   ]
  },
  {
   "cell_type": "code",
   "execution_count": null,
   "metadata": {
    "collapsed": true
   },
   "outputs": [],
   "source": [
    "string4 = \"This is a single quote: '. This is a double quote: \\\"\"\n",
    "string4"
   ]
  },
  {
   "cell_type": "markdown",
   "metadata": {},
   "source": [
    "There are additional variations on defining strings that make it easier to include things such as carriage returns, backslashes and Unicode characters. These are beyond the scope of this tutorial, but are covered in the [Python documentation](http://docs.python.org/tutorial/introduction.html#strings).\n",
    "\n",
    "Simple operators can be executed on strings:"
   ]
  },
  {
   "cell_type": "code",
   "execution_count": null,
   "metadata": {
    "collapsed": true
   },
   "outputs": [],
   "source": [
    "s1 = \"hello\"\n",
    "s2 = \"world\"\n",
    "s3 = s1 + \" \" + s2\n",
    "print(s3)"
   ]
  },
  {
   "cell_type": "markdown",
   "metadata": {},
   "source": [
    "Mixing operations on numbers and strings is not supported (recall strong-typing):"
   ]
  },
  {
   "cell_type": "code",
   "execution_count": null,
   "metadata": {
    "collapsed": true
   },
   "outputs": [],
   "source": [
    "print(\"Do you 'like' or\" + 1)"
   ]
  },
  {
   "cell_type": "markdown",
   "metadata": {},
   "source": [
    "However, you can explicitly convert numbers to their string representation first:"
   ]
  },
  {
   "cell_type": "code",
   "execution_count": null,
   "metadata": {
    "collapsed": true
   },
   "outputs": [],
   "source": [
    "print(str(x) + \" / \" + str(y) + \" exceeds Pi\")"
   ]
  },
  {
   "cell_type": "markdown",
   "metadata": {},
   "source": [
    "**However, if you ever find yourself building complex string concatenations in order to format some output, you are doing it wrong. Python provides much more [elegant ways of formatting strings](https://docs.python.org/3/library/string.html#string-formatting) (covered below).**"
   ]
  },
  {
   "cell_type": "markdown",
   "metadata": {},
   "source": [
    "### Lists"
   ]
  },
  {
   "cell_type": "markdown",
   "metadata": {},
   "source": [
    "Probably the most commonly used container in Python, lists are used to group together multiple values. They can contain variables of any type and can dynamically vary the number of elements contained. It is simple to iterate over the items in a list.\n",
    "\n",
    "Here is an example of how to build a list:"
   ]
  },
  {
   "cell_type": "code",
   "execution_count": null,
   "metadata": {
    "collapsed": true
   },
   "outputs": [],
   "source": [
    "mylist = []"
   ]
  },
  {
   "cell_type": "code",
   "execution_count": null,
   "metadata": {
    "collapsed": true
   },
   "outputs": [],
   "source": [
    "mylist.append(1)\n",
    "mylist.append(2)\n",
    "mylist.append(3)\n",
    "print(mylist)"
   ]
  },
  {
   "cell_type": "code",
   "execution_count": null,
   "metadata": {
    "collapsed": true
   },
   "outputs": [],
   "source": [
    "print(mylist[0]) # prints 1\n",
    "print(mylist[1]) # prints 2\n",
    "print(mylist[2]) # prints 3"
   ]
  },
  {
   "cell_type": "code",
   "execution_count": null,
   "metadata": {
    "collapsed": true
   },
   "outputs": [],
   "source": [
    "# prints out 1,2,3\n",
    "for x in mylist:\n",
    "    print(x)"
   ]
  },
  {
   "cell_type": "markdown",
   "metadata": {},
   "source": [
    "Attempting to access a non-existent index generates an error. We call it *raising an exception*:"
   ]
  },
  {
   "cell_type": "code",
   "execution_count": null,
   "metadata": {
    "collapsed": true
   },
   "outputs": [],
   "source": [
    "mylist = [1,2,3]\n",
    "print(mylist[10])"
   ]
  },
  {
   "cell_type": "code",
   "execution_count": null,
   "metadata": {
    "collapsed": true
   },
   "outputs": [],
   "source": [
    "len(mylist)"
   ]
  },
  {
   "cell_type": "markdown",
   "metadata": {},
   "source": [
    "We can access multiple elements at one time, known as a *slice*:"
   ]
  },
  {
   "cell_type": "code",
   "execution_count": null,
   "metadata": {
    "collapsed": true
   },
   "outputs": [],
   "source": [
    "mylist[0:2]"
   ]
  },
  {
   "cell_type": "markdown",
   "metadata": {},
   "source": [
    "Here are some more list methods:"
   ]
  },
  {
   "cell_type": "code",
   "execution_count": null,
   "metadata": {
    "collapsed": true
   },
   "outputs": [],
   "source": [
    "a = ['spam', 'spam', 'eggs', 'spam']"
   ]
  },
  {
   "cell_type": "code",
   "execution_count": null,
   "metadata": {
    "collapsed": true
   },
   "outputs": [],
   "source": [
    "print(a.count('spam'))\n",
    "print(a.count('eggs'))\n",
    "print(a.count('bacon'))\n",
    "print(a.count(5))"
   ]
  },
  {
   "cell_type": "code",
   "execution_count": null,
   "metadata": {
    "collapsed": true
   },
   "outputs": [],
   "source": [
    "a.insert(2, 'sausage')\n",
    "a.append('eggs')\n",
    "a"
   ]
  },
  {
   "cell_type": "code",
   "execution_count": null,
   "metadata": {
    "collapsed": true
   },
   "outputs": [],
   "source": [
    "print(a.index('eggs'))"
   ]
  },
  {
   "cell_type": "code",
   "execution_count": null,
   "metadata": {
    "collapsed": true
   },
   "outputs": [],
   "source": [
    "a.remove('spam')\n",
    "a"
   ]
  },
  {
   "cell_type": "code",
   "execution_count": null,
   "metadata": {
    "collapsed": true
   },
   "outputs": [],
   "source": [
    "a.reverse()\n",
    "a"
   ]
  },
  {
   "cell_type": "code",
   "execution_count": null,
   "metadata": {
    "collapsed": true
   },
   "outputs": [],
   "source": [
    "a.sort()\n",
    "a"
   ]
  },
  {
   "cell_type": "markdown",
   "metadata": {},
   "source": [
    "Notice for these final examples we did not bother calling `print`.\n",
    "\n",
    "For now accept there are subtle differences between the two types of output but the latter is only visible if it is the final statement executed in a code cell!"
   ]
  },
  {
   "cell_type": "markdown",
   "metadata": {},
   "source": [
    "### Packing and Unpacking"
   ]
  },
  {
   "cell_type": "markdown",
   "metadata": {},
   "source": [
    "Assignments of more than one variable can be performed in a single statement:"
   ]
  },
  {
   "cell_type": "code",
   "execution_count": null,
   "metadata": {
    "collapsed": true
   },
   "outputs": [],
   "source": [
    "a, b = 3, 4\n",
    "print(a)\n",
    "print(b)"
   ]
  },
  {
   "cell_type": "markdown",
   "metadata": {},
   "source": [
    "The longer form would be:"
   ]
  },
  {
   "cell_type": "code",
   "execution_count": null,
   "metadata": {
    "collapsed": true
   },
   "outputs": [],
   "source": [
    "a = 3\n",
    "b = 4"
   ]
  },
  {
   "cell_type": "markdown",
   "metadata": {},
   "source": [
    "An interesting use for swapping two values:"
   ]
  },
  {
   "cell_type": "code",
   "execution_count": null,
   "metadata": {
    "collapsed": true
   },
   "outputs": [],
   "source": [
    "a = 'a'\n",
    "b = 'b'\n",
    "a, b = b, a\n",
    "print(a)\n",
    "print(b)"
   ]
  },
  {
   "cell_type": "markdown",
   "metadata": {},
   "source": [
    "We can unpack a list into multiple variables:"
   ]
  },
  {
   "cell_type": "code",
   "execution_count": null,
   "metadata": {
    "collapsed": true
   },
   "outputs": [],
   "source": [
    "mylist = [5, 6, 7, 8]\n",
    "a, b, c, d = mylist\n",
    "print(mylist)\n",
    "print(a)\n",
    "print(b)"
   ]
  },
  {
   "cell_type": "markdown",
   "metadata": {},
   "source": [
    "This would be equivalent to:"
   ]
  },
  {
   "cell_type": "code",
   "execution_count": null,
   "metadata": {
    "collapsed": true
   },
   "outputs": [],
   "source": [
    "a = mylist[0]\n",
    "b = mylist[1]\n",
    "c = mylist[2]\n",
    "d = mylist[3]"
   ]
  },
  {
   "cell_type": "markdown",
   "metadata": {},
   "source": [
    "The reverse is not quite as simple:"
   ]
  },
  {
   "cell_type": "code",
   "execution_count": null,
   "metadata": {
    "collapsed": true
   },
   "outputs": [],
   "source": [
    "ab = a, b\n",
    "print(ab)"
   ]
  },
  {
   "cell_type": "markdown",
   "metadata": {},
   "source": [
    "Here we have *not* created a list, but rather a tuple!\n",
    "\n",
    "Unlike lists, tuples are *immutable*  sequences (cannot be modified) which may not be the desired outcome.\n",
    "\n",
    "Instead we need to use `list()`:"
   ]
  },
  {
   "cell_type": "code",
   "execution_count": null,
   "metadata": {
    "collapsed": true
   },
   "outputs": [],
   "source": [
    "tuple(list(ab))"
   ]
  },
  {
   "cell_type": "markdown",
   "metadata": {},
   "source": [
    "## Operators"
   ]
  },
  {
   "cell_type": "markdown",
   "metadata": {},
   "source": [
    "### Arithmetic Operators"
   ]
  },
  {
   "cell_type": "markdown",
   "metadata": {},
   "source": [
    "As in any programming language, the standard arithmetic operators are available:"
   ]
  },
  {
   "cell_type": "code",
   "execution_count": null,
   "metadata": {
    "collapsed": true
   },
   "outputs": [],
   "source": [
    "result = 1 + 2 * 3 / 4.0 - 5.\n",
    "result"
   ]
  },
  {
   "cell_type": "markdown",
   "metadata": {},
   "source": [
    "Note that the interpretation of integer division is different in Python 2 and Python 3. In Python 2, '2 / 3' is the integer modulo operator, while Python 3 treats the operands as floating point and then divides."
   ]
  },
  {
   "cell_type": "code",
   "execution_count": null,
   "metadata": {
    "collapsed": true
   },
   "outputs": [],
   "source": [
    "nearpi = 22 / 7\n",
    "nearpi"
   ]
  },
  {
   "cell_type": "markdown",
   "metadata": {},
   "source": [
    "Operators beyond addition, subtraction, multiplication, and division operators have less familiar notation."
   ]
  },
  {
   "cell_type": "markdown",
   "metadata": {},
   "source": [
    "In Python 3, the modulo (%) operator returns the integer remainder of one number divided by another:"
   ]
  },
  {
   "cell_type": "code",
   "execution_count": null,
   "metadata": {
    "collapsed": true
   },
   "outputs": [],
   "source": [
    "print(16 % 5)"
   ]
  },
  {
   "cell_type": "markdown",
   "metadata": {},
   "source": [
    "The power (\\*\\*) operator raises the first value to the power of the second, i.e. m \\*\\* n = $m^{n}$"
   ]
  },
  {
   "cell_type": "code",
   "execution_count": null,
   "metadata": {
    "collapsed": true
   },
   "outputs": [],
   "source": [
    "ninesquared = 9 ** 2 \n",
    "kibibyte = 2 ** 10"
   ]
  },
  {
   "cell_type": "markdown",
   "metadata": {},
   "source": [
    "Finally, the floor division operator (//) simply divides the number and rounds down."
   ]
  },
  {
   "cell_type": "code",
   "execution_count": null,
   "metadata": {
    "collapsed": true
   },
   "outputs": [],
   "source": [
    "print (9 // 10) #floor division"
   ]
  },
  {
   "cell_type": "markdown",
   "metadata": {},
   "source": [
    "### String Operators"
   ]
  },
  {
   "cell_type": "markdown",
   "metadata": {},
   "source": [
    "In Python, string concatenation is done with the addition operator:"
   ]
  },
  {
   "cell_type": "code",
   "execution_count": null,
   "metadata": {
    "collapsed": true
   },
   "outputs": [],
   "source": [
    "cafe = \"Greasy\" + \" \" + \"Spoon\"\n",
    "print(cafe)"
   ]
  },
  {
   "cell_type": "markdown",
   "metadata": {},
   "source": [
    "Python also supports multiplying strings to form a string with a repeating sequence:"
   ]
  },
  {
   "cell_type": "code",
   "execution_count": null,
   "metadata": {
    "collapsed": true
   },
   "outputs": [],
   "source": [
    "menu = \"spam \" * 10\n",
    "print(menu)"
   ]
  },
  {
   "cell_type": "markdown",
   "metadata": {},
   "source": [
    "### List Operators"
   ]
  },
  {
   "cell_type": "markdown",
   "metadata": {},
   "source": [
    "Lists can be concatenated using the addition operator (which also performs string concatenation):"
   ]
  },
  {
   "cell_type": "code",
   "execution_count": null,
   "metadata": {
    "collapsed": true
   },
   "outputs": [],
   "source": [
    "evens = [0, 2, 4, 6, 8]\n",
    "odds = [1, 3, 5, 7, 9]\n",
    "somenumbers = evens + odds\n",
    "print(somenumbers)\n",
    "#print(sort(somenumbers))"
   ]
  },
  {
   "cell_type": "markdown",
   "metadata": {},
   "source": [
    "As with strings, lists can be repeated using the multiplication operator. As for strings, this is syntactic sugar for repeated concatenation:"
   ]
  },
  {
   "cell_type": "code",
   "execution_count": null,
   "metadata": {
    "collapsed": true
   },
   "outputs": [],
   "source": [
    "print(odds * 3)"
   ]
  },
  {
   "cell_type": "markdown",
   "metadata": {},
   "source": [
    "## String Formatting"
   ]
  },
  {
   "cell_type": "markdown",
   "metadata": {},
   "source": [
    "In addition to concatenation, Python has several ways to format longer strings. The preferred method for new Python code is to use the `string.format` method."
   ]
  },
  {
   "cell_type": "code",
   "execution_count": null,
   "metadata": {
    "collapsed": true
   },
   "outputs": [],
   "source": [
    "print('Python is named after {0}, not the snake.'.format('Monty Python'))"
   ]
  },
  {
   "cell_type": "markdown",
   "metadata": {},
   "source": [
    "You can also refer to substitions by name:"
   ]
  },
  {
   "cell_type": "code",
   "execution_count": null,
   "metadata": {
    "collapsed": true
   },
   "outputs": [],
   "source": [
    "print(\n",
    "    'Despite this, images of {image_name} are {frequency} used for Python projects'.format(\n",
    "        image_name='snakes',\n",
    "        frequency='often'))"
   ]
  },
  {
   "cell_type": "markdown",
   "metadata": {},
   "source": [
    "There are a wide range of options for controlling the precision used for formatting numbers. Note also that the positional order of the format arguments doesn't have to match the order in the format string. The index inside the '{}' is used to determine the substitutions."
   ]
  },
  {
   "cell_type": "code",
   "execution_count": null,
   "metadata": {
    "collapsed": true
   },
   "outputs": [],
   "source": [
    "numerator = 22.0\n",
    "denominator = 7.0\n",
    "\n",
    "print('{1} / {2} = {0}'.format(numerator/denominator, numerator, denominator))\n",
    "print('{1} / {2} = {0:.4}'.format(numerator/denominator, numerator, denominator))"
   ]
  },
  {
   "cell_type": "markdown",
   "metadata": {},
   "source": [
    "Referencing the properties of an object is particularly nice:"
   ]
  },
  {
   "cell_type": "code",
   "execution_count": null,
   "metadata": {
    "collapsed": true
   },
   "outputs": [],
   "source": [
    "c = 3-7j # define a complex number\n",
    "print('The complex number {0} is formed from the real part {0.real} and the imaginary part {0.imag}.'.format(c))"
   ]
  },
  {
   "cell_type": "markdown",
   "metadata": {},
   "source": [
    "### Old-style % Formatting\n",
    "Predating the `str.format()` method outlined above, there is another string formatting method that is similar to other languages' `printf`. It uses the percent (%) operator followed by special symbols such as \"%s\" or \"%d\".\n",
    "\n",
    "These describe the expected variable types that will follow the string.\n",
    "\n",
    "   - 's'\tString format. This is the default type for strings and may be omitted.\n",
    "   - 'd'\tDecimal Integer. Outputs the number in base 10.\n",
    "   - 'o'\tOctal format. Outputs the number in base 8.\n",
    "   - 'x'\tHex format. Outputs the number in base 16, using lower- case letters for the digits above 9.\n",
    "   - 'n'\tNumber. This is the same as 'd', except that it uses the current locale setting to insert the appropriate number separator characters.\n",
    "\n",
    "For example:"
   ]
  },
  {
   "cell_type": "code",
   "execution_count": null,
   "metadata": {
    "collapsed": true
   },
   "outputs": [],
   "source": [
    "job = \"Lumberjack\"\n",
    "print(\"He's a %s!\" % job)"
   ]
  },
  {
   "cell_type": "markdown",
   "metadata": {},
   "source": [
    "When two or more specifiers are used, the % is followed by a tuple:"
   ]
  },
  {
   "cell_type": "code",
   "execution_count": null,
   "metadata": {
    "collapsed": true
   },
   "outputs": [],
   "source": [
    "number = 5\n",
    "string = \"infinity\"\n",
    "print(\"%d is a sufficiently close approximate to %s.\" % (number, string))"
   ]
  },
  {
   "cell_type": "markdown",
   "metadata": {},
   "source": [
    "The %s operator can also be used on objects with a `repr` method, such as a `list`:"
   ]
  },
  {
   "cell_type": "code",
   "execution_count": null,
   "metadata": {
    "collapsed": true
   },
   "outputs": [],
   "source": [
    "mylist = [1,2,3]\n",
    "print(\"A list: %s\" % mylist)"
   ]
  },
  {
   "cell_type": "markdown",
   "metadata": {},
   "source": [
    "## Conditions"
   ]
  },
  {
   "cell_type": "markdown",
   "metadata": {},
   "source": [
    "Conditional statements are those that are only executed if a boolean expression evaluates to true."
   ]
  },
  {
   "cell_type": "markdown",
   "metadata": {},
   "source": [
    "### Boolean - True or False"
   ]
  },
  {
   "cell_type": "markdown",
   "metadata": {},
   "source": [
    "Python comparison operators return a boolean value, `True` or `False`, and these can be stored in boolean variables.\n",
    "\n",
    "Comparison between two variables is performed with the double-equals (==) operator while comparing for inequality uses exclamation-mark-equals (!=).\n",
    "\n",
    "For example:"
   ]
  },
  {
   "cell_type": "code",
   "execution_count": null,
   "metadata": {
    "collapsed": true
   },
   "outputs": [],
   "source": [
    "count = 3\n",
    "print(count == 4) # \"Four shalt thou not count.\"\n",
    "print(count > 4)  # \"Five is right out.\"\n",
    "print(count < 3 )\n",
    "print(count == 3)"
   ]
  },
  {
   "cell_type": "markdown",
   "metadata": {},
   "source": [
    "Here is an example for using Python's \"if\" statement using code blocks:"
   ]
  },
  {
   "cell_type": "markdown",
   "metadata": {},
   "source": [
    "```python\n",
    "    if <a true statement>:\n",
    "        <do something>\n",
    "        ....\n",
    "    elif <another true statement>: # else if\n",
    "        <do something else>\n",
    "        ....\n",
    "    else:\n",
    "        <do something else>\n",
    "        ....\n",
    "```"
   ]
  },
  {
   "cell_type": "markdown",
   "metadata": {},
   "source": [
    "For example:"
   ]
  },
  {
   "cell_type": "code",
   "execution_count": null,
   "metadata": {
    "collapsed": true
   },
   "outputs": [],
   "source": [
    "# try modifying the value\n",
    "value = 0\n",
    "if value == 0:\n",
    "    print(\"value is zero\")\n",
    "else:\n",
    "    print(\"value is non-zero\")"
   ]
  },
  {
   "cell_type": "markdown",
   "metadata": {},
   "source": [
    "### Boolean operators"
   ]
  },
  {
   "cell_type": "markdown",
   "metadata": {},
   "source": [
    "The boolean operators `and` and `or` let us build complex boolean expressions, such as:"
   ]
  },
  {
   "cell_type": "code",
   "execution_count": null,
   "metadata": {
    "collapsed": true
   },
   "outputs": [],
   "source": [
    "if 1 != 0 and 2 == 1:\n",
    "    print(\"It is True that 1 != 0 and 2 == 1\")\n",
    "else:\n",
    "    print(\"It is False that 1 != 0 and 2 == 1\")\n",
    "    \n",
    "\n",
    "if True or False:\n",
    "    print(\"It is True, that it is True or False.\")\n",
    "else:\n",
    "    print(\"The Liar Paradox is a lie.\")"
   ]
  },
  {
   "cell_type": "markdown",
   "metadata": {},
   "source": [
    "### The in operator"
   ]
  },
  {
   "cell_type": "markdown",
   "metadata": {},
   "source": [
    "The \"in\" operator tests for membership in a container such as a list:"
   ]
  },
  {
   "cell_type": "code",
   "execution_count": null,
   "metadata": {
    "collapsed": true
   },
   "outputs": [],
   "source": [
    "name = 'John'\n",
    "if name in [\"Graham\", \"John\", \"Terry\", \"Eric\", \"Michael\"]:\n",
    "    print(name + \" is very naughty.\")"
   ]
  },
  {
   "cell_type": "markdown",
   "metadata": {},
   "source": [
    "### The is operator"
   ]
  },
  {
   "cell_type": "markdown",
   "metadata": {},
   "source": [
    "Unlike the double-equals operator \"==\", the \"is\" operator does not match the values of two variables.\n",
    "\n",
    "Instead, it compares their identity which is essentially their memory addresses.\n",
    "\n",
    "Two variables with the same value will be equal but *may* not have the same identity."
   ]
  },
  {
   "cell_type": "code",
   "execution_count": null,
   "metadata": {
    "collapsed": true
   },
   "outputs": [],
   "source": [
    "x = [1,2,3]\n",
    "y = [1,2,3]\n",
    "z = y\n",
    "\n",
    "print(x == y) # True\n",
    "print(x is y) # False. The lists are equivalent but are unique objects in memory.\n",
    "print(z is y) # probably True (depends on circumstances like object type)"
   ]
  },
  {
   "cell_type": "markdown",
   "metadata": {},
   "source": [
    "### The not operator"
   ]
  },
  {
   "cell_type": "markdown",
   "metadata": {},
   "source": [
    "Using `not` before a boolean expression negates it:"
   ]
  },
  {
   "cell_type": "code",
   "execution_count": null,
   "metadata": {
    "collapsed": true
   },
   "outputs": [],
   "source": [
    "print(not True) # False\n",
    "print((not True) == (False)) # True"
   ]
  },
  {
   "cell_type": "markdown",
   "metadata": {},
   "source": [
    "## Looping Constructs"
   ]
  },
  {
   "cell_type": "markdown",
   "metadata": {},
   "source": [
    "There are two types of loops in Python, `for` and `while`."
   ]
  },
  {
   "cell_type": "markdown",
   "metadata": {},
   "source": [
    "### The for loop"
   ]
  },
  {
   "cell_type": "markdown",
   "metadata": {},
   "source": [
    "For loops iterate over a given sequence. Here is an example:"
   ]
  },
  {
   "cell_type": "code",
   "execution_count": null,
   "metadata": {
    "collapsed": true
   },
   "outputs": [],
   "source": [
    "primes = [2,3,5,7]\n",
    "for prime in primes:\n",
    "    print(prime)"
   ]
  },
  {
   "cell_type": "markdown",
   "metadata": {},
   "source": [
    "If you need to iterate over a sequence of numbers, the built-in function range() comes in handy. It generates arithmetic progressions:"
   ]
  },
  {
   "cell_type": "code",
   "execution_count": null,
   "metadata": {
    "collapsed": true
   },
   "outputs": [],
   "source": [
    "for x in range(5):\n",
    "    print(x)"
   ]
  },
  {
   "cell_type": "markdown",
   "metadata": {},
   "source": [
    "Range can take a lower bound too.\n",
    "\n",
    "Jupyter Notebooks stream output to the browser as it arrives, rather than waiting for the loop to complete, so this should produce output progressively:"
   ]
  },
  {
   "cell_type": "code",
   "execution_count": null,
   "metadata": {
    "collapsed": true
   },
   "outputs": [],
   "source": [
    "import time\n",
    "for x in range(20,25):\n",
    "    time.sleep(1)\n",
    "    print(x)"
   ]
  },
  {
   "cell_type": "markdown",
   "metadata": {},
   "source": [
    "To iterate over the indices of a sequence, you could combine `range()` and `len()`:"
   ]
  },
  {
   "cell_type": "code",
   "execution_count": null,
   "metadata": {
    "collapsed": true
   },
   "outputs": [],
   "source": [
    "phrase = ['I’m', 'afraid', 'my', 'walk', 'has', 'become', 'rather', 'sillier', 'recently']"
   ]
  },
  {
   "cell_type": "code",
   "execution_count": null,
   "metadata": {
    "collapsed": true
   },
   "outputs": [],
   "source": [
    "for i in range(len(phrase)):\n",
    "    print(i, phrase[i])"
   ]
  },
  {
   "cell_type": "markdown",
   "metadata": {},
   "source": [
    "Or better yet, use the `enumerate()` function:"
   ]
  },
  {
   "cell_type": "code",
   "execution_count": null,
   "metadata": {
    "collapsed": true
   },
   "outputs": [],
   "source": [
    "for i, val in enumerate(phrase):\n",
    "    print(i, val)"
   ]
  },
  {
   "cell_type": "markdown",
   "metadata": {},
   "source": [
    "### The while loop"
   ]
  },
  {
   "cell_type": "markdown",
   "metadata": {},
   "source": [
    "While loops repeat as long as a boolean condition is true:"
   ]
  },
  {
   "cell_type": "code",
   "execution_count": null,
   "metadata": {
    "collapsed": true
   },
   "outputs": [],
   "source": [
    "count = 5\n",
    "while count > 0:\n",
    "    print(count)\n",
    "    count = count - 1"
   ]
  },
  {
   "cell_type": "markdown",
   "metadata": {},
   "source": [
    "### break and continue statements"
   ]
  },
  {
   "cell_type": "markdown",
   "metadata": {},
   "source": [
    "To exit a loop prematurely, the `break` statement is used.\n",
    "\n",
    "We can also `continue` the loop from the next iteration immediately, skipping the remainder of the current block."
   ]
  },
  {
   "cell_type": "code",
   "execution_count": null,
   "metadata": {
    "collapsed": true
   },
   "outputs": [],
   "source": [
    "count = 0\n",
    "while True:\n",
    "    print(count)\n",
    "    count += 1\n",
    "    if count >= 5:\n",
    "        break  # Terminates the entire loop    "
   ]
  },
  {
   "cell_type": "code",
   "execution_count": null,
   "metadata": {
    "collapsed": true
   },
   "outputs": [],
   "source": [
    "for x in range(10):\n",
    "    # Check if x is even\n",
    "    if x % 2 == 0:\n",
    "        continue  # skips the rest of the current iteration. Loop continues from next iteration\n",
    "    print(x)"
   ]
  },
  {
   "cell_type": "markdown",
   "metadata": {},
   "source": [
    "Of course, if you actually need a sequence of odd numbers, there are easier ways to get them. The `range()` function accepts extra parameters for the start, stop, and step:"
   ]
  },
  {
   "cell_type": "code",
   "execution_count": null,
   "metadata": {
    "collapsed": true
   },
   "outputs": [],
   "source": [
    "for x in range(1, 10, 2):\n",
    "    print(x)"
   ]
  },
  {
   "cell_type": "markdown",
   "metadata": {},
   "source": [
    "## Functions"
   ]
  },
  {
   "cell_type": "markdown",
   "metadata": {},
   "source": [
    "### What are Functions?"
   ]
  },
  {
   "cell_type": "markdown",
   "metadata": {},
   "source": [
    "Functions are a convenient way to divide your code into useful blocks, allowing us to order our code, make it more readable, reuse it and save some time. Also functions are a key way to define interfaces so programmers can share their code."
   ]
  },
  {
   "cell_type": "markdown",
   "metadata": {},
   "source": [
    "### How do you write a function?"
   ]
  },
  {
   "cell_type": "markdown",
   "metadata": {},
   "source": [
    "The keyword `def` marks the start of a function definition. \n",
    "\n",
    "It is then followed by the function name and a list of parameter names in brackets.\n",
    "\n",
    "Finally, the function body occurs as an indented code block."
   ]
  },
  {
   "cell_type": "markdown",
   "metadata": {},
   "source": [
    "```python\n",
    "def function_name(param1, param2): \n",
    "    do_something()\n",
    "    # a comment\n",
    "    something_else()\n",
    "```"
   ]
  },
  {
   "cell_type": "markdown",
   "metadata": {},
   "source": [
    "Functions may also return a result, for example:"
   ]
  },
  {
   "cell_type": "code",
   "execution_count": null,
   "metadata": {
    "collapsed": true
   },
   "outputs": [],
   "source": [
    "def avg(x, y):\n",
    "    return (x + y) / 2"
   ]
  },
  {
   "cell_type": "markdown",
   "metadata": {},
   "source": [
    "You can return multiple values in a tuple or other container:"
   ]
  },
  {
   "cell_type": "code",
   "execution_count": null,
   "metadata": {
    "collapsed": true
   },
   "outputs": [],
   "source": [
    "def minmax(x):\n",
    "    return (min(x), max(x))  # this returns a tuple of two values"
   ]
  },
  {
   "cell_type": "markdown",
   "metadata": {},
   "source": [
    "However, returning multiple values from a function automatically creates a tuple, so you can omit the outer braces:"
   ]
  },
  {
   "cell_type": "code",
   "execution_count": null,
   "metadata": {
    "collapsed": true
   },
   "outputs": [],
   "source": [
    "def minmax(x):\n",
    "    return min(x), max(x)  # this also returns a tuple of two values"
   ]
  },
  {
   "cell_type": "markdown",
   "metadata": {},
   "source": [
    "### How do you call a function?"
   ]
  },
  {
   "cell_type": "markdown",
   "metadata": {},
   "source": [
    "Simply write the function name followed by ()\n",
    "\n",
    "If the function takes arguments, place them within the brackets:"
   ]
  },
  {
   "cell_type": "code",
   "execution_count": null,
   "metadata": {
    "collapsed": true
   },
   "outputs": [],
   "source": [
    "avg(1, 3) == 2"
   ]
  },
  {
   "cell_type": "code",
   "execution_count": null,
   "metadata": {
    "collapsed": true
   },
   "outputs": [],
   "source": [
    "foo = [1, 2, 3, 4]\n",
    "minmax(foo)"
   ]
  },
  {
   "cell_type": "code",
   "execution_count": null,
   "metadata": {
    "collapsed": true
   },
   "outputs": [],
   "source": [
    "# Use the built-in function type() to confirm that the tuple is automatically created when the outer brackets are omitted\n",
    "r = minmax(foo)\n",
    "type(r)"
   ]
  },
  {
   "cell_type": "markdown",
   "metadata": {},
   "source": [
    "### Optional Arguments"
   ]
  },
  {
   "cell_type": "markdown",
   "metadata": {},
   "source": [
    "Optional arguments are those that provide a default value like this:"
   ]
  },
  {
   "cell_type": "code",
   "execution_count": null,
   "metadata": {
    "collapsed": true
   },
   "outputs": [],
   "source": [
    "def spamify(words, replacement=\"spam\"):\n",
    "    return [replacement for word in words.split(' ')]\n",
    "\n",
    "spamify('the original phrase', 'eggs')"
   ]
  },
  {
   "cell_type": "markdown",
   "metadata": {},
   "source": [
    "When the argument is omitted, it uses the default value:"
   ]
  },
  {
   "cell_type": "code",
   "execution_count": null,
   "metadata": {
    "collapsed": true
   },
   "outputs": [],
   "source": [
    "spamify('hello world')"
   ]
  },
  {
   "cell_type": "markdown",
   "metadata": {},
   "source": [
    "<span style=\"color:green\">Try defining a function that accepts a name and sings (prints) happy birthday to that person:</span>"
   ]
  },
  {
   "cell_type": "code",
   "execution_count": null,
   "metadata": {
    "collapsed": true
   },
   "outputs": [],
   "source": [
    "# insert code here\n",
    "\n"
   ]
  },
  {
   "cell_type": "markdown",
   "metadata": {},
   "source": [
    "<span style=\"color:green\">Now modify it to instead return the string and provide a suitable default name (e.g. 'You').</span>"
   ]
  },
  {
   "cell_type": "markdown",
   "metadata": {},
   "source": [
    "## Classes and Objects"
   ]
  },
  {
   "cell_type": "markdown",
   "metadata": {},
   "source": [
    "Objects are used to associate functions with data.\n",
    "\n",
    "Just as we have types such as numbers and strings, each manipulated with their own set of functions, user defined structures may need custom functions. It may be meaningless to 'perform addition on two objects' - perhaps the objects represent People!\n",
    "\n",
    "The 'template' for an object is described using a `class` definition which can contain both variables and function definitions.\n",
    "\n",
    "For example, a minimal class might be:"
   ]
  },
  {
   "cell_type": "code",
   "execution_count": null,
   "metadata": {
    "collapsed": true
   },
   "outputs": [],
   "source": [
    "class MyClass:\n",
    "    foo = 123\n",
    "\n",
    "    def function(self):\n",
    "        print(\"Hello from MyClass\")"
   ]
  },
  {
   "cell_type": "markdown",
   "metadata": {},
   "source": [
    "To instantiate an object of the above class we write:"
   ]
  },
  {
   "cell_type": "code",
   "execution_count": null,
   "metadata": {
    "collapsed": true
   },
   "outputs": [],
   "source": [
    "obj1 = MyClass()"
   ]
  },
  {
   "cell_type": "markdown",
   "metadata": {},
   "source": [
    "The `obj1` variable now points to an object of the class \"MyClass\". Next we'll see how to access it's internal data and functions."
   ]
  },
  {
   "cell_type": "markdown",
   "metadata": {},
   "source": [
    "### Accessing Object Variables"
   ]
  },
  {
   "cell_type": "markdown",
   "metadata": {},
   "source": [
    "To access a variable of `obj1` we write:"
   ]
  },
  {
   "cell_type": "code",
   "execution_count": null,
   "metadata": {
    "collapsed": true
   },
   "outputs": [],
   "source": [
    "obj1.foo"
   ]
  },
  {
   "cell_type": "markdown",
   "metadata": {},
   "source": [
    "We can modify the variable too:"
   ]
  },
  {
   "cell_type": "code",
   "execution_count": null,
   "metadata": {
    "collapsed": true
   },
   "outputs": [],
   "source": [
    "obj1.foo = 456\n",
    "obj1.foo"
   ]
  },
  {
   "cell_type": "markdown",
   "metadata": {},
   "source": [
    "This only modifies the specific object (instance) of the class.\n",
    "\n",
    "You can create multiple objects from a class template and each will have its own copy of a variable.\n",
    "\n",
    "For example:"
   ]
  },
  {
   "cell_type": "code",
   "execution_count": null,
   "metadata": {
    "collapsed": true
   },
   "outputs": [],
   "source": [
    "obj2 = MyClass()\n",
    "obj2.foo = 789"
   ]
  },
  {
   "cell_type": "markdown",
   "metadata": {},
   "source": [
    "Then print out both values:"
   ]
  },
  {
   "cell_type": "code",
   "execution_count": null,
   "metadata": {
    "collapsed": true
   },
   "outputs": [],
   "source": [
    "print(obj1.foo)\n",
    "print(obj2.foo)"
   ]
  },
  {
   "cell_type": "markdown",
   "metadata": {},
   "source": [
    "### Accessing Object Functions"
   ]
  },
  {
   "cell_type": "markdown",
   "metadata": {},
   "source": [
    "Unsurprisingly, this looks just like accessing an object variable but with the additional of function brackets (and arguments where required):"
   ]
  },
  {
   "cell_type": "code",
   "execution_count": null,
   "metadata": {
    "collapsed": true
   },
   "outputs": [],
   "source": [
    "obj1.function()"
   ]
  },
  {
   "cell_type": "markdown",
   "metadata": {},
   "source": [
    "You'll notice we did not provide a value for the first argument of ``function()`` or explain why it was necessary.\n",
    "\n",
    "Part of the answer is that Python passes the object itself as the first argument to the function, in effect re-writing it like this:\n",
    "\n",
    "```python\n",
    "MyClass.function(obj1)\n",
    "```\n",
    "\n",
    "The rest of the answer revolves around why it needs to be an explicit part of the language but is outside the scope of this tutorial.\n",
    "\n",
    "\n",
    "However ``self`` deserves more explanation as it is used in other ways..."
   ]
  },
  {
   "cell_type": "markdown",
   "metadata": {},
   "source": [
    "### Self"
   ]
  },
  {
   "cell_type": "markdown",
   "metadata": {},
   "source": [
    "The function in MyClass used a new keyword, `self`, as a way of differentiating between the multiple objects sharing a class template.\n",
    "\n",
    "Consider the following:"
   ]
  },
  {
   "cell_type": "code",
   "execution_count": null,
   "metadata": {
    "collapsed": true
   },
   "outputs": [],
   "source": [
    "class AnotherClass:\n",
    "    foo = 123\n",
    "\n",
    "    def function(self):\n",
    "        print(\"My value is %d\" % self.foo)\n",
    "        \n",
    "\n",
    "obj3 = AnotherClass()\n",
    "obj3.function()\n",
    "\n",
    "obj4 = AnotherClass()\n",
    "obj4.foo = 456\n",
    "obj4.function()"
   ]
  },
  {
   "cell_type": "markdown",
   "metadata": {},
   "source": [
    "``self`` was also required for ``function`` to refer to the specific instance of ``foo`` associated with the object ``function``` was being called upon.\n",
    "\n",
    "Without it, printing ``foo`` would search for a variable with that name in the global scope (which nay or may not exist)."
   ]
  },
  {
   "cell_type": "markdown",
   "metadata": {},
   "source": [
    "### Constructors"
   ]
  },
  {
   "cell_type": "markdown",
   "metadata": {},
   "source": [
    "Constructors are methods for creating objects.\n",
    "\n",
    "Python provides a default constructor as we saw with ``obj1 = MyClass()`` however if you wish to initialise an object's variables to specific values at instantiation time you must define a new constructor.\n",
    "\n",
    "This is done with the specially named ``__init__`` function:"
   ]
  },
  {
   "cell_type": "code",
   "execution_count": null,
   "metadata": {
    "collapsed": true
   },
   "outputs": [],
   "source": [
    "class Order:\n",
    "    items = []\n",
    "\n",
    "    def __init__(self, arg):\n",
    "        self.items = arg\n",
    "        \n",
    "    def check(self):\n",
    "        print(\"Your order was: %s?\" % self.items)"
   ]
  },
  {
   "cell_type": "code",
   "execution_count": null,
   "metadata": {
    "collapsed": true
   },
   "outputs": [],
   "source": [
    "myorder = Order(['eggs', 'spam'])\n",
    "myorder.check()"
   ]
  },
  {
   "cell_type": "markdown",
   "metadata": {},
   "source": [
    "Constructors can take additional arguments and do more than simply copy them into the objects own variables."
   ]
  },
  {
   "cell_type": "markdown",
   "metadata": {},
   "source": [
    "<span style=\"color:green\">Try defining a class with a constructor that accepts Polar coordinartes Rho and Phi but internally stores them as Cartesian coordinates *x* and *y*.</span>\n",
    "\n",
    "It may help to know:\n",
    "\n",
    "$x = r cos \\phi$\n",
    "\n",
    "$y = r sin \\phi$\n",
    "\n",
    "The ``cos`` and ``sin`` functions should be available in most Python environments, if not return to this after learning about ``modules``."
   ]
  },
  {
   "cell_type": "code",
   "execution_count": null,
   "metadata": {
    "collapsed": true
   },
   "outputs": [],
   "source": [
    "class Coord:\n",
    "    x = None\n",
    "    y = None\n",
    "    \n",
    "    def __repr__(self):\n",
    "        # objects of a class can be passed to print\n",
    "        # when a __repr__ function is defined\n",
    "        # it should return a string\n",
    "        return str([self.x, self.y])\n",
    "\n",
    "    # insert code here\n",
    "\n",
    "    \n",
    "    \n",
    "location = Coord(0.5, 1)\n",
    "print(location)"
   ]
  },
  {
   "cell_type": "markdown",
   "metadata": {},
   "source": [
    "**Solution:**\n",
    "\n",
    "```python\n",
    "    def __init__(self, rho, phi):\n",
    "        self.x = rho * cos(phi)\n",
    "        self.y = rho * sin(phi)\n",
    "```"
   ]
  },
  {
   "cell_type": "markdown",
   "metadata": {},
   "source": [
    "## Dictionaries"
   ]
  },
  {
   "cell_type": "markdown",
   "metadata": {},
   "source": [
    "A dictionary is a data structure similar to a list, but that uses keys instead of indexes.\n",
    "\n",
    "Each value in the dictionary is looked up using a key and new entries can be added by assigning to a non-existent key.\n",
    "\n",
    "For example, a phonebook can be created with:"
   ]
  },
  {
   "cell_type": "code",
   "execution_count": null,
   "metadata": {
    "collapsed": true
   },
   "outputs": [],
   "source": [
    "phonebook = {}\n",
    "phonebook[\"Chapman\"] = 55512341\n",
    "phonebook[\"Cleese\"] = 55512342\n",
    "phonebook[\"Gilliam\"] = 55512343"
   ]
  },
  {
   "cell_type": "markdown",
   "metadata": {},
   "source": [
    "Alternatively, the following shorthand can be used to initialise a dictionary:"
   ]
  },
  {
   "cell_type": "code",
   "execution_count": null,
   "metadata": {
    "collapsed": true
   },
   "outputs": [],
   "source": [
    "phonebook = {\n",
    "    \"Chapman\" : 55512341,\n",
    "    \"Cleese\" : 55512342,\n",
    "    \"Gilliam\" : 55512343\n",
    "}"
   ]
  },
  {
   "cell_type": "markdown",
   "metadata": {},
   "source": [
    "A key can be a string, number, or any hashable object (which roughly means no lists or other mutable containers).\n",
    " \n",
    "You can even mix key types in a single dict although it tends to be confusing (you often wish to sort on the keys later!):"
   ]
  },
  {
   "cell_type": "code",
   "execution_count": null,
   "metadata": {
    "collapsed": true
   },
   "outputs": [],
   "source": [
    "phrasebook = {\n",
    "    1 : \"Is 1 a page number?\",\n",
    "    \"My hovercraft is full of eels\" : \"A légpárnás hajóm tele van angolnákkal\",\n",
    "    2 : \"Does 2 come before or after 'My hovercraft'?\",\n",
    "    (2, '9-12') : \"sacred relic\"\n",
    "}\n",
    "phrasebook"
   ]
  },
  {
   "cell_type": "markdown",
   "metadata": {},
   "source": [
    "### Iterating over dictionaries"
   ]
  },
  {
   "cell_type": "markdown",
   "metadata": {},
   "source": [
    "Dictionaries can be iterated over in a similar manner to lists.\n",
    "\n",
    "However, dictionaries do not store their contents in order sorted on keys.\n",
    "\n",
    "To iterate over a dictionary's key-value pairs we write:"
   ]
  },
  {
   "cell_type": "code",
   "execution_count": null,
   "metadata": {
    "collapsed": true
   },
   "outputs": [],
   "source": [
    "for name, number in phonebook.items():\n",
    "    print(\"Phone number of %s is %d\" % (name, number))"
   ]
  },
  {
   "cell_type": "markdown",
   "metadata": {},
   "source": [
    "Where in a list we expect `enumerate()` to return indexes in sorted (ascending numerical) order, the same would not be true of a dictionary with numerical keys, nor would strings as keys be expected in alphabetical order."
   ]
  },
  {
   "cell_type": "markdown",
   "metadata": {},
   "source": [
    "### Removing a dictionary value"
   ]
  },
  {
   "cell_type": "markdown",
   "metadata": {},
   "source": [
    "To remove a specified index, use either one of the following notations:"
   ]
  },
  {
   "cell_type": "code",
   "execution_count": null,
   "metadata": {
    "collapsed": true
   },
   "outputs": [],
   "source": [
    "del phonebook[\"Cleese\"]"
   ]
  },
  {
   "cell_type": "markdown",
   "metadata": {},
   "source": [
    "or, if we want to return the value of the entry being removed:"
   ]
  },
  {
   "cell_type": "code",
   "execution_count": null,
   "metadata": {
    "collapsed": true
   },
   "outputs": [],
   "source": [
    "phonebook.pop(\"Chapman\")"
   ]
  },
  {
   "cell_type": "markdown",
   "metadata": {},
   "source": [
    "We can see the dictionary has been modified:"
   ]
  },
  {
   "cell_type": "code",
   "execution_count": null,
   "metadata": {
    "collapsed": true
   },
   "outputs": [],
   "source": [
    "phonebook"
   ]
  },
  {
   "cell_type": "markdown",
   "metadata": {},
   "source": [
    "## Modules and Packages"
   ]
  },
  {
   "cell_type": "markdown",
   "metadata": {},
   "source": [
    "Modules in Python are simply Python files with the .py extension, which implement a set of functions. Modules are imported from other modules using the import command.\n",
    "\n",
    "To import a module, we use the ``import`` command.\n",
    "\n",
    "The first time a module is loaded into a running Python script, it is initialized by executing the code in the module once. If another module in your code imports the same module again, it will not be loaded twice but once only - so local variables inside the module act as a \"singleton\" - they are initialized only once.\n",
    "\n",
    "The full list of built-in modules can be found at [module index](https://docs.python.org/3/py-modindex.html) but some immediately useful modules include:\n",
    "    \n",
    "- sys: for interactive with the system (environment, file I/O, etc.)\n",
    "- os: for platform-specific operations (file statistics, directories, paths, etc.)\n",
    "- math: for mathematical functions and constants\n",
    "\n",
    "Some of specific interest to science and engineering include:\n",
    "\n",
    "- numpy: a numerical library for vectorized arrays\n",
    "- scipy: a scientific library\n",
    "- matplotlib: for plotting and graphing\n",
    "- pandas: for data analysis\n",
    "\n",
    "For example:"
   ]
  },
  {
   "cell_type": "code",
   "execution_count": null,
   "metadata": {
    "collapsed": true
   },
   "outputs": [],
   "source": [
    "# import the library\n",
    "import os\n",
    "\n",
    "# use it\n",
    "os.listdir()"
   ]
  },
  {
   "cell_type": "markdown",
   "metadata": {},
   "source": [
    "### Exploring built-in modules"
   ]
  },
  {
   "cell_type": "markdown",
   "metadata": {},
   "source": [
    "Two very important functions come in handy when exploring modules in Python - the `dir()` and `help` functions.\n",
    "\n",
    "We can look for which functions are implemented in each module by using the dir function:"
   ]
  },
  {
   "cell_type": "code",
   "execution_count": null,
   "metadata": {
    "collapsed": true
   },
   "outputs": [],
   "source": [
    "import csv\n",
    "dir(csv)"
   ]
  },
  {
   "cell_type": "markdown",
   "metadata": {},
   "source": [
    "However, the output from `dir()` is not very useful for getting an overview of a module. For that, the `help()` function is often more helpful:"
   ]
  },
  {
   "cell_type": "code",
   "execution_count": null,
   "metadata": {
    "collapsed": true
   },
   "outputs": [],
   "source": [
    "help(csv)"
   ]
  },
  {
   "cell_type": "markdown",
   "metadata": {},
   "source": [
    "When we find the function in the module we want to use, we can read about it more using the `help()` function again, but this time passing just the specific function of interest:"
   ]
  },
  {
   "cell_type": "code",
   "execution_count": null,
   "metadata": {
    "collapsed": true
   },
   "outputs": [],
   "source": [
    "import os\n",
    "help(os.listdir)"
   ]
  },
  {
   "cell_type": "markdown",
   "metadata": {},
   "source": [
    "Within a Jupyter Notebook, you can display help in a separate panel with the `?` command:"
   ]
  },
  {
   "cell_type": "code",
   "execution_count": null,
   "metadata": {
    "collapsed": true
   },
   "outputs": [],
   "source": [
    "# This won't work outside Jupyter Notebooks\n",
    "?os.listdir"
   ]
  },
  {
   "cell_type": "markdown",
   "metadata": {},
   "source": [
    "You can supply help strings for functions you define like this: "
   ]
  },
  {
   "cell_type": "code",
   "execution_count": null,
   "metadata": {
    "collapsed": true
   },
   "outputs": [],
   "source": [
    "def myfunc():\n",
    "    '''here is some help'''\n",
    "    print('hello')\n",
    "    \n",
    "help(myfunc)"
   ]
  },
  {
   "cell_type": "markdown",
   "metadata": {},
   "source": [
    "Often we only wish to import a subset of functionality from a module. This can be done using the `from` statement:"
   ]
  },
  {
   "cell_type": "code",
   "execution_count": null,
   "metadata": {
    "collapsed": true
   },
   "outputs": [],
   "source": [
    "from os import listdir"
   ]
  },
  {
   "cell_type": "markdown",
   "metadata": {},
   "source": [
    "Notice we can call the function without the prefix `os.`:"
   ]
  },
  {
   "cell_type": "code",
   "execution_count": null,
   "metadata": {
    "collapsed": true
   },
   "outputs": [],
   "source": [
    "listdir()"
   ]
  },
  {
   "cell_type": "markdown",
   "metadata": {},
   "source": [
    "This can even make use of wild cards, for example\n",
    "\n",
    "        from os import *\n",
    "    \n",
    "However it is generally best avoided so as not to \"pollute the global namespace\""
   ]
  },
  {
   "cell_type": "markdown",
   "metadata": {},
   "source": [
    "<span style=\"color:green\">Try importing the ``math`` module and explore its contents with ``dir()`` and ``help()``:</span>"
   ]
  },
  {
   "cell_type": "code",
   "execution_count": null,
   "metadata": {
    "collapsed": true
   },
   "outputs": [],
   "source": [
    "# insert code here\n",
    "\n"
   ]
  },
  {
   "cell_type": "markdown",
   "metadata": {},
   "source": [
    "## List Comprehensions"
   ]
  },
  {
   "cell_type": "markdown",
   "metadata": {},
   "source": [
    "A List Comprehension is a powerful and concise way to create a new list from an existing list.\n",
    "\n",
    "Consider the following problem:\n",
    "\n",
    "    find the length of each word in a phrase if it begins with a capital letter"
   ]
  },
  {
   "cell_type": "code",
   "execution_count": null,
   "metadata": {
    "collapsed": true
   },
   "outputs": [],
   "source": [
    "phrase = \"Nobody expects the Spanish Inquisition\"\n",
    "words = phrase.split()\n",
    "\n",
    "lengths = []\n",
    "for word in words:\n",
    "    if word[0].isupper():\n",
    "        lengths.append(len(word))\n",
    "        \n",
    "print(lengths)"
   ]
  },
  {
   "cell_type": "markdown",
   "metadata": {},
   "source": [
    "A list comprehension is far shorter and reads very much like the description:"
   ]
  },
  {
   "cell_type": "code",
   "execution_count": null,
   "metadata": {
    "collapsed": true
   },
   "outputs": [],
   "source": [
    "phrase = \"Nobody expects the Spanish Inquisition\"\n",
    "words = phrase.split()\n",
    "\n",
    "lengths = [len(word) for word in words if word[0].isupper()]\n",
    "\n",
    "print(lengths)"
   ]
  },
  {
   "cell_type": "markdown",
   "metadata": {},
   "source": [
    "A list comprehension has the following form:\n",
    "\n",
    "- an expression (the new element), followed by\n",
    "- a `for` clause, followed by\n",
    "- a number of optional conditions (`if` clauses)\n",
    "\n",
    "Consider this new problem:\n",
    "\n",
    "    combine the elements of two lists where they are not equal\n",
    "    \n",
    "The solution:"
   ]
  },
  {
   "cell_type": "code",
   "execution_count": null,
   "metadata": {
    "collapsed": true
   },
   "outputs": [],
   "source": [
    "[(x, y) for x in ['Arthur', 'Ken', 'Spiny'] for y in ['Luigi', 'Ken'] if x != y]"
   ]
  },
  {
   "cell_type": "markdown",
   "metadata": {},
   "source": [
    "List comprehensions can contain complex expressions and nested functions:"
   ]
  },
  {
   "cell_type": "code",
   "execution_count": null,
   "metadata": {
    "collapsed": true
   },
   "outputs": [],
   "source": [
    "from math import pi\n",
    "[str(round(pi, i)) for i in range(1, 6)]"
   ]
  },
  {
   "cell_type": "markdown",
   "metadata": {},
   "source": [
    "## Generators\n",
    "If you know how to use list comprehensions, then you know how to write simple generators. For generators that use comprehension syntax, the code looks very similar:\n",
    "\n",
    "```python\n",
    "    # This is a list comprehension\n",
    "    [i for i in range(5)]\n",
    "    \n",
    "    # This is a generator\n",
    "    (i for i in range(5))\n",
    "```\n",
    "\n",
    "Both of those code snippets can be used to create the sequence of numbers [0..4]. But there is an important difference. The list comprehension creates the entire list into memory, all at once when the expression is first evaluated. On the other hand, the generator uses lazy (or on-demand) evaluation to only generate the next number in the sequence when that value is required. For small sequences the difference is negligible, but for large sequences using a generator can be much more efficient both for memory use and performance.\n",
    "\n",
    "There is another way to write generators which is more suitable when more complex logic is involved. We don't cover this other method here."
   ]
  },
  {
   "cell_type": "code",
   "execution_count": null,
   "metadata": {
    "collapsed": true
   },
   "outputs": [],
   "source": [
    "my_sequence1 = [i for i in range(10) if i % 2 == 0]\n",
    "print(my_sequence1)\n",
    "\n",
    "my_sequence2 = (i for i in range(10) if i % 2 == 0)\n",
    "print(my_sequence2)"
   ]
  },
  {
   "cell_type": "markdown",
   "metadata": {},
   "source": [
    "Note that printing the generator only displayed some type information. So how do we access the actual number sequence?\n",
    "\n",
    "One way is to create a list from the generator:"
   ]
  },
  {
   "cell_type": "code",
   "execution_count": null,
   "metadata": {
    "collapsed": true
   },
   "outputs": [],
   "source": [
    "list(my_sequence2)"
   ]
  },
  {
   "cell_type": "markdown",
   "metadata": {},
   "source": [
    "However, doing this probably indicates that a list comprehension would have been a better choice in the first place.\n",
    "\n",
    "The most common way of consuming values from a generator is by iterating in a loop or comprehension:"
   ]
  },
  {
   "cell_type": "code",
   "execution_count": null,
   "metadata": {
    "collapsed": true
   },
   "outputs": [],
   "source": [
    "# We have to create the generator again, since the sequence was exhausted when creating the list earlier\n",
    "my_sequence2 = (i for i in range(10) if i % 2 == 0)\n",
    "\n",
    "for i in my_sequence2:\n",
    "    print(i)"
   ]
  },
  {
   "cell_type": "markdown",
   "metadata": {},
   "source": [
    "## Reading and Writing Files"
   ]
  },
  {
   "cell_type": "markdown",
   "metadata": {},
   "source": [
    "### Opening Files"
   ]
  },
  {
   "cell_type": "markdown",
   "metadata": {},
   "source": [
    "To open a file we use `open()` which returns a file object:"
   ]
  },
  {
   "cell_type": "code",
   "execution_count": null,
   "metadata": {
    "collapsed": true
   },
   "outputs": [],
   "source": [
    "fout = open('workfile', 'w')"
   ]
  },
  {
   "cell_type": "markdown",
   "metadata": {},
   "source": [
    "The first argument is a string containing the *filename*.\n",
    "\n",
    "The second argument is another string containing the *mode* which describes the intended use.\n",
    "\n",
    "The mode can be:\n",
    "\n",
    "- 'r' : the file will only be read (this is the default)\n",
    "- 'w' : only writing (an existing file with the same name will be erased)\n",
    "- 'a' : for appending; any data written to the file is automatically added to the end\n",
    "- 'r+': both reading and writing\n",
    "\n",
    "\n",
    "Files are normally opened in text mode meaning reads and writes to the file will use strings. By appending 'b' to the mode, the file will be opened in binary mode."
   ]
  },
  {
   "cell_type": "markdown",
   "metadata": {},
   "source": [
    "### Writing to files"
   ]
  },
  {
   "cell_type": "markdown",
   "metadata": {},
   "source": [
    "`f.write(string)` writes the contents of string to the file, returning the number of characters written."
   ]
  },
  {
   "cell_type": "code",
   "execution_count": null,
   "metadata": {
    "collapsed": true
   },
   "outputs": [],
   "source": [
    "contents = 'This is the first line of the file.\\n' + 'Second line of the file\\n'\n",
    "fout.write(contents)"
   ]
  },
  {
   "cell_type": "markdown",
   "metadata": {},
   "source": [
    "### Closing Files"
   ]
  },
  {
   "cell_type": "code",
   "execution_count": null,
   "metadata": {
    "collapsed": true
   },
   "outputs": [],
   "source": [
    "fout.close()"
   ]
  },
  {
   "cell_type": "markdown",
   "metadata": {},
   "source": [
    "### Reading from files"
   ]
  },
  {
   "cell_type": "code",
   "execution_count": null,
   "metadata": {
    "collapsed": true
   },
   "outputs": [],
   "source": [
    "fin = open('workfile', 'r')"
   ]
  },
  {
   "cell_type": "markdown",
   "metadata": {},
   "source": [
    "`f.readline()` reads a single line from the file; a newline character (\\n) is left at the end of the string, and is only omitted on the last line of the file if the file doesn’t end in a newline. This makes the return value unambiguous; if f.readline() returns an empty string, the end of the file has been reached, while a blank line is represented by '\\n', a string containing only a single newline."
   ]
  },
  {
   "cell_type": "code",
   "execution_count": null,
   "metadata": {
    "collapsed": true
   },
   "outputs": [],
   "source": [
    "fin.readline()"
   ]
  },
  {
   "cell_type": "code",
   "execution_count": null,
   "metadata": {
    "collapsed": true
   },
   "outputs": [],
   "source": [
    "fin.readline()"
   ]
  },
  {
   "cell_type": "code",
   "execution_count": null,
   "metadata": {
    "collapsed": true
   },
   "outputs": [],
   "source": [
    "fin.readline()"
   ]
  },
  {
   "cell_type": "markdown",
   "metadata": {},
   "source": [
    "We can seek back to the beginning of a file:"
   ]
  },
  {
   "cell_type": "code",
   "execution_count": null,
   "metadata": {
    "collapsed": true
   },
   "outputs": [],
   "source": [
    "fin.seek(0)"
   ]
  },
  {
   "cell_type": "markdown",
   "metadata": {},
   "source": [
    "For reading lines from a file, you can loop over the file object. This is memory efficient, fast, and leads to simple code:"
   ]
  },
  {
   "cell_type": "code",
   "execution_count": null,
   "metadata": {
    "collapsed": true
   },
   "outputs": [],
   "source": [
    "for line in fin:\n",
    "    print(line)"
   ]
  },
  {
   "cell_type": "code",
   "execution_count": null,
   "metadata": {
    "collapsed": true
   },
   "outputs": [],
   "source": [
    "fin.close()"
   ]
  },
  {
   "cell_type": "markdown",
   "metadata": {},
   "source": [
    "### Keeping Things in Context With `with`"
   ]
  },
  {
   "cell_type": "markdown",
   "metadata": {},
   "source": [
    "It is good practice to use the `with` keyword when dealing with file objects.\n",
    "\n",
    "This has the advantage that the file is properly closed after its context finishes, even if an exception is raised on the way.\n",
    "\n",
    "**A good general pattern for line by line processing of a file is:**\n",
    "```python\n",
    "with open('myfile', 'r') as f:\n",
    "    for line in f:\n",
    "        # Do some processing on the line ...\n",
    "        process_the_line(line)\n",
    "```\n",
    "\n",
    "For example:"
   ]
  },
  {
   "cell_type": "code",
   "execution_count": null,
   "metadata": {
    "collapsed": true
   },
   "outputs": [],
   "source": [
    "with open('workfile', 'r') as f:\n",
    "     for line in f:\n",
    "            print(line)"
   ]
  },
  {
   "cell_type": "markdown",
   "metadata": {},
   "source": [
    "We can see the file was automatically closed:"
   ]
  },
  {
   "cell_type": "code",
   "execution_count": null,
   "metadata": {
    "collapsed": true
   },
   "outputs": [],
   "source": [
    "f.closed"
   ]
  },
  {
   "cell_type": "markdown",
   "metadata": {},
   "source": [
    "## Downloading Files"
   ]
  },
  {
   "cell_type": "markdown",
   "metadata": {},
   "source": [
    "Everything we need for this example is located in the `urllib.request` module.\n",
    "However this is only applicable to Python 3, earlier versions will likely use `urllib2`."
   ]
  },
  {
   "cell_type": "code",
   "execution_count": null,
   "metadata": {
    "collapsed": true
   },
   "outputs": [],
   "source": [
    "import urllib.request\n",
    "\n",
    "url='http://samplecsvs.s3.amazonaws.com/Sacramentorealestatetransactions.csv'\n",
    "filename='Sacramentorealestatetransactions.csv'"
   ]
  },
  {
   "cell_type": "markdown",
   "metadata": {},
   "source": [
    "The easiest way is to use `urlretrieve` although it is marked as legacy so may be deprecated one day:"
   ]
  },
  {
   "cell_type": "code",
   "execution_count": null,
   "metadata": {
    "collapsed": true
   },
   "outputs": [],
   "source": [
    "urllib.request.urlretrieve(url, filename)"
   ]
  },
  {
   "cell_type": "markdown",
   "metadata": {},
   "source": [
    "A slightly more verbose method might be:"
   ]
  },
  {
   "cell_type": "code",
   "execution_count": null,
   "metadata": {
    "collapsed": true
   },
   "outputs": [],
   "source": [
    "import shutil\n",
    "\n",
    "with urllib.request.urlopen(url) as response:\n",
    "    with open(filename, 'wb') as fout:\n",
    "        shutil.copyfileobj(response, fout)"
   ]
  },
  {
   "cell_type": "markdown",
   "metadata": {},
   "source": [
    "And of course there is no reason you couldn't provide your own one-liner.\n",
    "\n",
    "<span style=\"color:green\">Fill in the body of `myurlretrieve()`:</span>"
   ]
  },
  {
   "cell_type": "code",
   "execution_count": null,
   "metadata": {
    "collapsed": true
   },
   "outputs": [],
   "source": [
    "def myurlretrive(url, filename):\n",
    "    '''Downloads the file at url and saves it to filename.'''\n",
    "    # insert code here\n",
    "    \n",
    "\n",
    "    \n",
    "\n",
    "myurlretrive(url, filename)"
   ]
  },
  {
   "cell_type": "markdown",
   "metadata": {},
   "source": [
    "However, if you need to do any serious work with web APIs, I suggest looking into the [requests](http://docs.python-requests.org/en/master/) library."
   ]
  },
  {
   "cell_type": "markdown",
   "metadata": {},
   "source": [
    "## Working with CSV Files\n",
    "The `csv` built-in module provides low-level CSV functionality."
   ]
  },
  {
   "cell_type": "code",
   "execution_count": null,
   "metadata": {
    "collapsed": true
   },
   "outputs": [],
   "source": [
    "import csv"
   ]
  },
  {
   "cell_type": "code",
   "execution_count": null,
   "metadata": {
    "collapsed": true
   },
   "outputs": [],
   "source": [
    "with open(filename, 'r') as csvfile:\n",
    "    for row in csv.reader(csvfile):\n",
    "        print(row)"
   ]
  },
  {
   "cell_type": "markdown",
   "metadata": {},
   "source": [
    "Working with each row as a list is possible, for example we could create a table as a list of lists \n",
    "\n",
    "```python\n",
    "        table = []\n",
    "        for row in csv.read(csvfile):\n",
    "            table.append(row)\n",
    "```\n",
    "However, this code will become messy very quickly, making it error prone, and there are dedicated libraries already in existance."
   ]
  },
  {
   "cell_type": "markdown",
   "metadata": {},
   "source": [
    "### Pandas for CSV"
   ]
  },
  {
   "cell_type": "markdown",
   "metadata": {},
   "source": [
    "Pandas is a data analysis library that lets you use data frames (similar to those in the R language) as well as providing support for CSV data, and time-series data."
   ]
  },
  {
   "cell_type": "code",
   "execution_count": null,
   "metadata": {
    "collapsed": true
   },
   "outputs": [],
   "source": [
    "import pandas as pd"
   ]
  },
  {
   "cell_type": "markdown",
   "metadata": {},
   "source": [
    "We can grab the data from a local file or even straight from a url:"
   ]
  },
  {
   "cell_type": "code",
   "execution_count": null,
   "metadata": {
    "collapsed": true
   },
   "outputs": [],
   "source": [
    "df = pd.read_csv(url)"
   ]
  },
  {
   "cell_type": "markdown",
   "metadata": {},
   "source": [
    "We can extract rows in many ways:"
   ]
  },
  {
   "cell_type": "code",
   "execution_count": null,
   "metadata": {
    "collapsed": true
   },
   "outputs": [],
   "source": [
    "df[5:8]"
   ]
  },
  {
   "cell_type": "markdown",
   "metadata": {},
   "source": [
    "<span style=\"color:green\">Try calling the ``head()`` and ``tail()`` functions on the dataframe:</span>"
   ]
  },
  {
   "cell_type": "code",
   "execution_count": null,
   "metadata": {
    "collapsed": true
   },
   "outputs": [],
   "source": [
    "# insert code here\n",
    "\n",
    "\n"
   ]
  },
  {
   "cell_type": "markdown",
   "metadata": {},
   "source": [
    "Selecting columns is also simple:"
   ]
  },
  {
   "cell_type": "code",
   "execution_count": null,
   "metadata": {
    "collapsed": true
   },
   "outputs": [],
   "source": [
    "df.loc[5:10, ['street','city','zip']]"
   ]
  },
  {
   "cell_type": "markdown",
   "metadata": {},
   "source": [
    "There are many useful built in functions:"
   ]
  },
  {
   "cell_type": "code",
   "execution_count": null,
   "metadata": {
    "collapsed": true
   },
   "outputs": [],
   "source": [
    "df.sort_values(by='price', ascending=False)[-3:]"
   ]
  },
  {
   "cell_type": "code",
   "execution_count": null,
   "metadata": {
    "collapsed": true
   },
   "outputs": [],
   "source": [
    "df.describe()"
   ]
  },
  {
   "cell_type": "markdown",
   "metadata": {},
   "source": [
    "## Debugging in the Notebook"
   ]
  },
  {
   "cell_type": "markdown",
   "metadata": {},
   "source": [
    "You can run ``%debug`` in a code cell to enter the Python debugger (pdb) after an [exception](https://docs.python.org/3.5/tutorial/errors.html) has occurred. This is sometimes called post-mortem debugging.\n",
    "\n",
    "In the debugger you can inspect variables, execute statements, and browse the call stack.\n",
    "\n",
    "For more details see https://docs.python.org/3/library/pdb.html#debugger-commands"
   ]
  },
  {
   "cell_type": "code",
   "execution_count": null,
   "metadata": {
    "collapsed": true
   },
   "outputs": [],
   "source": [
    "raise Exception(\"I accidentally by zero\")"
   ]
  },
  {
   "cell_type": "code",
   "execution_count": null,
   "metadata": {
    "collapsed": true
   },
   "outputs": [],
   "source": [
    "%debug"
   ]
  },
  {
   "cell_type": "markdown",
   "metadata": {},
   "source": [
    "As you can see, this can be useful but it's not meaningful to use a filename and/or linenumber when setting breakpoints in code defined in a Notebook.\n",
    "\n",
    "**Enter q on the idb command line to exit.**\n",
    "\n",
    "If necessary you might choose to export the notebook as a regular Python file and switch to a different environment for your debugging needs. IDEs such as PyCharm provide interactive GUI debuggers that make the entire process much more productive."
   ]
  },
  {
   "cell_type": "markdown",
   "metadata": {},
   "source": [
    "You can also set up the notebook to automatically launch the debugger on any unhandled exception:"
   ]
  },
  {
   "cell_type": "code",
   "execution_count": null,
   "metadata": {
    "collapsed": true
   },
   "outputs": [],
   "source": [
    "%pdb"
   ]
  },
  {
   "cell_type": "markdown",
   "metadata": {},
   "source": [
    "The next time an execption occurs it will automatically launch the debugger:"
   ]
  },
  {
   "cell_type": "code",
   "execution_count": null,
   "metadata": {
    "collapsed": true
   },
   "outputs": [],
   "source": [
    "1 / 0"
   ]
  },
  {
   "cell_type": "markdown",
   "metadata": {},
   "source": [
    "Running the magic again turns it off:"
   ]
  },
  {
   "cell_type": "code",
   "execution_count": null,
   "metadata": {
    "collapsed": true
   },
   "outputs": [],
   "source": [
    "%pdb"
   ]
  },
  {
   "cell_type": "markdown",
   "metadata": {},
   "source": [
    "## Python IDEs"
   ]
  },
  {
   "cell_type": "markdown",
   "metadata": {},
   "source": [
    "In certain instances a Notebook is *not* the right choice for developing Python code.\n",
    "\n",
    "You can find a list and discussion of IDEs at:\n",
    "\n",
    "- https://wiki.python.org/moin/IntegratedDevelopmentEnvironments\n",
    "\n",
    "Contact the [Scientific Computing Helpdesk](mailto:schelp@csiro.au) for advice on Python IDEs available on the clusters."
   ]
  },
  {
   "cell_type": "markdown",
   "metadata": {},
   "source": [
    "## Python 2 or 3?"
   ]
  },
  {
   "cell_type": "markdown",
   "metadata": {},
   "source": [
    "There are still some useful libraries that have not been updated to Python 3, despite it being released in 2008.\n",
    "\n",
    "If you depend on such a library there may be no choice of version to use.\n",
    "\n",
    "However here are some resources that may help steer you towards version 3+:"
   ]
  },
  {
   "cell_type": "markdown",
   "metadata": {},
   "source": [
    "* [What's new in Python 3?](http://docs.python.org/3.3/whatsnew/3.0.html).\n",
    "* [Official wiki page about the Python 2/Python 3 question](http://wiki.python.org/moin/Python2orPython3).\n",
    "* [*\"Ten awesome features of Python that you can't use because you refuse to upgrade to Python 3\"*, a presentation by Aaron Meurer](http://asmeurer.github.io/python3-presentation/slides.html).\n",
    "* [Key differences between Python 2 and Python 3](http://sebastianraschka.com/Articles/2014_python_2_3_key_diff.html).    "
   ]
  },
  {
   "cell_type": "markdown",
   "metadata": {},
   "source": [
    "There are tools that can help when converting Python2 code to Python3:\n",
    "    \n",
    "* [2to3 module](http://docs.python.org/2/library/2to3.html).\n",
    "* [Python Future](http://python-future.org/) "
   ]
  },
  {
   "cell_type": "markdown",
   "metadata": {},
   "source": [
    "# Final Thoughts"
   ]
  },
  {
   "cell_type": "markdown",
   "metadata": {},
   "source": [
    "You can download tutorial Notebooks from the web and install them using the dashboard interface.\n",
    "\n",
    "Some excellent resources include:\n",
    "\n",
    "- [nbviewer](http://nbviewer.ipython.org/ \"nbviewer homepage\") and associated [examples](http://nbviewer.ipython.org/github/ipython/ipython/blob/master/examples/Index.ipynb \"nbviewer examples\")\n",
    "- [A gallery of Scientific Computing Notebooks](https://github.com/ipython/ipython/wiki/A-gallery-of-interesting-IPython-Notebooks#scientific-computing-and-data-analysis-with-the-scipy-stack \"A gallery of interesting IPython Notebooks related to scientific computing\")\n"
   ]
  }
 ],
 "metadata": {
  "kernelspec": {
   "display_name": "Python 3",
   "language": "python",
   "name": "python3"
  },
  "language_info": {
   "codemirror_mode": {
    "name": "ipython",
    "version": 3
   },
   "file_extension": ".py",
   "mimetype": "text/x-python",
   "name": "python",
   "nbconvert_exporter": "python",
   "pygments_lexer": "ipython3",
   "version": "3.6.1"
  }
 },
 "nbformat": 4,
 "nbformat_minor": 1
}
